{
  "cells": [
    {
      "cell_type": "markdown",
      "metadata": {
        "colab_type": "text",
        "id": "view-in-github"
      },
      "source": [
        "<a href=\"https://colab.research.google.com/github/AnIsAsPe/LogisticRegression_SpamOpinion/blob/master/Notebooks/Clasificador_rese%C3%B1as_Regresi%C3%B3n_log%C3%ADstica_.ipynb\" target=\"_parent\"><img src=\"https://colab.research.google.com/assets/colab-badge.svg\" alt=\"Open In Colab\"/></a>"
      ]
    },
    {
      "cell_type": "markdown",
      "metadata": {
        "id": "-URr6ioO31Je"
      },
      "source": [
        "# Cargar Bibliotecas"
      ]
    },
    {
      "cell_type": "code",
      "execution_count": 133,
      "metadata": {
        "colab": {
          "base_uri": "https://localhost:8080/"
        },
        "id": "KXjUiWkiUQQA",
        "outputId": "c1c3459c-ae09-4ac5-aa8e-f0dc6d1f9d8a"
      },
      "outputs": [
        {
          "name": "stderr",
          "output_type": "stream",
          "text": [
            "[nltk_data] Downloading package stopwords to\n",
            "[nltk_data]     C:\\Users\\conte\\AppData\\Roaming\\nltk_data...\n",
            "[nltk_data]   Package stopwords is already up-to-date!\n",
            "[nltk_data] Downloading package wordnet to\n",
            "[nltk_data]     C:\\Users\\conte\\AppData\\Roaming\\nltk_data...\n",
            "[nltk_data]   Package wordnet is already up-to-date!\n",
            "[nltk_data] Downloading package omw-1.4 to\n",
            "[nltk_data]     C:\\Users\\conte\\AppData\\Roaming\\nltk_data...\n",
            "[nltk_data]   Package omw-1.4 is already up-to-date!\n"
          ]
        },
        {
          "data": {
            "text/plain": [
              "True"
            ]
          },
          "execution_count": 133,
          "metadata": {},
          "output_type": "execute_result"
        }
      ],
      "source": [
        "import numpy as np\n",
        "import pandas as pd\n",
        "import re\n",
        "import nltk\n",
        "from nltk.corpus import stopwords\n",
        "from nltk.stem import WordNetLemmatizer, PorterStemmer\n",
        "\n",
        "from sklearn.linear_model import LogisticRegression\n",
        "from sklearn.metrics import f1_score, confusion_matrix\n",
        "from sklearn.metrics import accuracy_score, roc_curve, auc\n",
        "from sklearn.feature_extraction.text import TfidfVectorizer\n",
        "from sklearn.model_selection import train_test_split\n",
        "\n",
        "import matplotlib.pyplot as plt\n",
        "import seaborn as sns\n",
        "from wordcloud import WordCloud\n",
        "\n",
        "nltk.download('stopwords')\n",
        "nltk.download('wordnet')\n",
        "nltk.download('omw-1.4')"
      ]
    },
    {
      "cell_type": "markdown",
      "metadata": {
        "id": "Ll2bfLPwg_As"
      },
      "source": [
        "# Funciones"
      ]
    },
    {
      "cell_type": "code",
      "execution_count": 134,
      "metadata": {
        "id": "h2oSh9rG5UAG"
      },
      "outputs": [],
      "source": [
        "def elimina_stopwords(texto):\n",
        "  '''La función usa expresiones regulares (re) para quitar todas las palabras \n",
        "  que sean una palabra vacia:'''\n",
        "  stop = re.compile(r'\\b(' + r'|'.join(stopwords.words('english')) + r')\\b\\s*')\n",
        "  nuevo_texto = stop.sub('', texto)\n",
        "  return nuevo_texto\n",
        "\n",
        "# https://www.regular-expressions.info/index.html\n",
        "# https://www.tutorialspoint.com/Why-do-we-use-re-compile-method-in-Python-regular-expression"
      ]
    },
    {
      "cell_type": "code",
      "execution_count": 135,
      "metadata": {
        "colab": {
          "base_uri": "https://localhost:8080/",
          "height": 0
        },
        "id": "Pd27AgNQZZ8D",
        "outputId": "8363a303-8cad-4051-d49f-ce3a7597bae7"
      },
      "outputs": [
        {
          "data": {
            "text/plain": [
              "'love cook'"
            ]
          },
          "execution_count": 135,
          "metadata": {},
          "output_type": "execute_result"
        }
      ],
      "source": [
        "elimina_stopwords(\"I love how you cook\".lower())"
      ]
    },
    {
      "cell_type": "code",
      "execution_count": 136,
      "metadata": {
        "id": "C7d8p7LSRpmB"
      },
      "outputs": [],
      "source": [
        "def elimina_puntuacion_y_numeros(texto):\n",
        "  nuevo_texto = re.sub('[^a-z]+', ' ', texto)\n",
        "  return nuevo_texto\n"
      ]
    },
    {
      "cell_type": "code",
      "execution_count": 137,
      "metadata": {
        "colab": {
          "base_uri": "https://localhost:8080/",
          "height": 0
        },
        "id": "7IBDExWrZj58",
        "outputId": "356470d7-9b2e-4fd2-d318-b07990b60b99"
      },
      "outputs": [
        {
          "data": {
            "text/plain": [
              "'is he years old '"
            ]
          },
          "execution_count": 137,
          "metadata": {},
          "output_type": "execute_result"
        }
      ],
      "source": [
        "elimina_puntuacion_y_numeros(\"Is he 8 years old?\".lower())"
      ]
    },
    {
      "cell_type": "code",
      "execution_count": 138,
      "metadata": {
        "colab": {
          "base_uri": "https://localhost:8080/"
        },
        "id": "Of5J7zb7wApe",
        "outputId": "bcb1effb-0164-4763-b371-db452e9f0060"
      },
      "outputs": [
        {
          "data": {
            "text/plain": [
              "['Is', 'he', '8', 'years', 'old?']"
            ]
          },
          "execution_count": 138,
          "metadata": {},
          "output_type": "execute_result"
        }
      ],
      "source": [
        "\"Is he 8 years old?\".split()"
      ]
    },
    {
      "cell_type": "code",
      "execution_count": 139,
      "metadata": {
        "id": "fa0Srj3VEz5c"
      },
      "outputs": [],
      "source": [
        "def lematizar(texto):\n",
        "  lemma = WordNetLemmatizer()\n",
        "  texto = texto.split()\n",
        "  texto2 = \" \".join([lemma.lemmatize(i, 'v') for i in texto])\n",
        "  nuevo_texto = \" \".join([lemma.lemmatize(i, 'v') for i in texto])\n",
        "  return nuevo_texto"
      ]
    },
    {
      "cell_type": "code",
      "execution_count": 140,
      "metadata": {
        "colab": {
          "base_uri": "https://localhost:8080/",
          "height": 0
        },
        "id": "-Ou6GcXFVme8",
        "outputId": "370530da-651e-4cb7-c61b-e028ee1be07c"
      },
      "outputs": [
        {
          "data": {
            "text/plain": [
              "'run run run'"
            ]
          },
          "execution_count": 140,
          "metadata": {},
          "output_type": "execute_result"
        }
      ],
      "source": [
        "lematizar(\"ran run running\")"
      ]
    },
    {
      "cell_type": "code",
      "execution_count": 141,
      "metadata": {
        "id": "lZGlyjk2E8ot"
      },
      "outputs": [],
      "source": [
        "def stemmer(texto):\n",
        "  st = PorterStemmer()\n",
        "  texto = texto.split()\n",
        "  nuevo_texto = ' '.join([st.stem(i) for i in texto])\n",
        "  return nuevo_texto"
      ]
    },
    {
      "cell_type": "code",
      "execution_count": 142,
      "metadata": {
        "colab": {
          "base_uri": "https://localhost:8080/",
          "height": 0
        },
        "id": "PBIymIF1Z1zs",
        "outputId": "e6a9dc5c-62fa-4a68-f0e6-6251a0e3bdb3"
      },
      "outputs": [
        {
          "data": {
            "text/plain": [
              "'ran run run'"
            ]
          },
          "execution_count": 142,
          "metadata": {},
          "output_type": "execute_result"
        }
      ],
      "source": [
        "stemmer(\"ran run running\")"
      ]
    },
    {
      "cell_type": "code",
      "execution_count": 143,
      "metadata": {
        "id": "AJYwX4CPOT4P"
      },
      "outputs": [],
      "source": [
        "def preprocesar(texto):\n",
        "  texto = texto.lower()\n",
        "  texto = elimina_stopwords(texto)\n",
        "  texto = elimina_puntuacion_y_numeros(texto)\n",
        "  texto = stemmer(texto)\n",
        "  return(texto)\n"
      ]
    },
    {
      "cell_type": "markdown",
      "metadata": {
        "id": "YhGqtPBViQO5"
      },
      "source": [
        "# Lectura de datos y breve exploración"
      ]
    },
    {
      "cell_type": "code",
      "execution_count": 144,
      "metadata": {
        "colab": {
          "base_uri": "https://localhost:8080/",
          "height": 0
        },
        "id": "R_qNtUcq4MQN",
        "outputId": "f6e8c67d-d202-401d-f71b-e0c13560bd44"
      },
      "outputs": [
        {
          "name": "stdout",
          "output_type": "stream",
          "text": [
            "(1600, 2)\n"
          ]
        },
        {
          "data": {
            "text/html": [
              "<div>\n",
              "<style scoped>\n",
              "    .dataframe tbody tr th:only-of-type {\n",
              "        vertical-align: middle;\n",
              "    }\n",
              "\n",
              "    .dataframe tbody tr th {\n",
              "        vertical-align: top;\n",
              "    }\n",
              "\n",
              "    .dataframe thead th {\n",
              "        text-align: right;\n",
              "    }\n",
              "</style>\n",
              "<table border=\"1\" class=\"dataframe\">\n",
              "  <thead>\n",
              "    <tr style=\"text-align: right;\">\n",
              "      <th></th>\n",
              "      <th>deceptive</th>\n",
              "      <th>text</th>\n",
              "    </tr>\n",
              "  </thead>\n",
              "  <tbody>\n",
              "    <tr>\n",
              "      <th>0</th>\n",
              "      <td>truthful</td>\n",
              "      <td>We stayed for a one night getaway with family ...</td>\n",
              "    </tr>\n",
              "    <tr>\n",
              "      <th>1</th>\n",
              "      <td>truthful</td>\n",
              "      <td>Triple A rate with upgrade to view room was le...</td>\n",
              "    </tr>\n",
              "    <tr>\n",
              "      <th>2</th>\n",
              "      <td>truthful</td>\n",
              "      <td>This comes a little late as I'm finally catchi...</td>\n",
              "    </tr>\n",
              "    <tr>\n",
              "      <th>3</th>\n",
              "      <td>truthful</td>\n",
              "      <td>The Omni Chicago really delivers on all fronts...</td>\n",
              "    </tr>\n",
              "    <tr>\n",
              "      <th>4</th>\n",
              "      <td>truthful</td>\n",
              "      <td>I asked for a high floor away from the elevato...</td>\n",
              "    </tr>\n",
              "  </tbody>\n",
              "</table>\n",
              "</div>"
            ],
            "text/plain": [
              "  deceptive                                               text\n",
              "0  truthful  We stayed for a one night getaway with family ...\n",
              "1  truthful  Triple A rate with upgrade to view room was le...\n",
              "2  truthful  This comes a little late as I'm finally catchi...\n",
              "3  truthful  The Omni Chicago really delivers on all fronts...\n",
              "4  truthful  I asked for a high floor away from the elevato..."
            ]
          },
          "execution_count": 144,
          "metadata": {},
          "output_type": "execute_result"
        }
      ],
      "source": [
        "datos = pd.read_csv('https://raw.githubusercontent.com/AnIsAsPe/LogisticRegression_SpamOpinion/master/Datos/deceptive-opinion.csv',\n",
        "                     usecols=['deceptive','text']\n",
        "                    )\n",
        "print(datos.shape)\n",
        "datos.head()"
      ]
    },
    {
      "cell_type": "code",
      "execution_count": 145,
      "metadata": {
        "colab": {
          "base_uri": "https://localhost:8080/"
        },
        "id": "8gtv08Icic-J",
        "outputId": "10719310-9952-468c-efac-64c1c1b97ce1"
      },
      "outputs": [
        {
          "name": "stdout",
          "output_type": "stream",
          "text": [
            "<class 'pandas.core.frame.DataFrame'>\n",
            "RangeIndex: 1600 entries, 0 to 1599\n",
            "Data columns (total 2 columns):\n",
            " #   Column     Non-Null Count  Dtype \n",
            "---  ------     --------------  ----- \n",
            " 0   deceptive  1600 non-null   object\n",
            " 1   text       1600 non-null   object\n",
            "dtypes: object(2)\n",
            "memory usage: 25.1+ KB\n"
          ]
        }
      ],
      "source": [
        "datos.info()"
      ]
    },
    {
      "cell_type": "code",
      "execution_count": 146,
      "metadata": {
        "colab": {
          "base_uri": "https://localhost:8080/"
        },
        "id": "f36tTTLpie8v",
        "outputId": "7a0730d1-c139-4369-a89a-6a2e1928fb1c"
      },
      "outputs": [
        {
          "data": {
            "text/plain": [
              "truthful     800\n",
              "deceptive    800\n",
              "Name: deceptive, dtype: int64"
            ]
          },
          "execution_count": 146,
          "metadata": {},
          "output_type": "execute_result"
        }
      ],
      "source": [
        "datos.deceptive.value_counts()"
      ]
    },
    {
      "cell_type": "code",
      "execution_count": 147,
      "metadata": {
        "id": "ZcQidulQNd0d"
      },
      "outputs": [
        {
          "data": {
            "text/plain": [
              "0    800\n",
              "1    800\n",
              "Name: deceptive, dtype: int64"
            ]
          },
          "execution_count": 147,
          "metadata": {},
          "output_type": "execute_result"
        }
      ],
      "source": [
        "datos['deceptive'] = np.where(datos['deceptive']=='deceptive', 1, 0)\n",
        "datos['deceptive'].value_counts()"
      ]
    },
    {
      "cell_type": "code",
      "execution_count": 148,
      "metadata": {
        "id": "bPjYdRKyo-yU"
      },
      "outputs": [],
      "source": [
        "y = datos['deceptive']"
      ]
    },
    {
      "cell_type": "markdown",
      "metadata": {
        "id": "Z2pI7oH5tAH9"
      },
      "source": [
        "# Preprocesamiento de texto"
      ]
    },
    {
      "cell_type": "code",
      "execution_count": 149,
      "metadata": {
        "colab": {
          "base_uri": "https://localhost:8080/"
        },
        "id": "9dlJAmTewf0D",
        "outputId": "38f94c7b-41e1-49e5-c6de-04139785483e"
      },
      "outputs": [
        {
          "data": {
            "text/plain": [
              "0       We stayed for a one night getaway with family ...\n",
              "1       Triple A rate with upgrade to view room was le...\n",
              "2       This comes a little late as I'm finally catchi...\n",
              "3       The Omni Chicago really delivers on all fronts...\n",
              "4       I asked for a high floor away from the elevato...\n",
              "                              ...                        \n",
              "1595    Problems started when I booked the InterContin...\n",
              "1596    The Amalfi Hotel has a beautiful website and i...\n",
              "1597    The Intercontinental Chicago Magnificent Mile ...\n",
              "1598    The Palmer House Hilton, while it looks good i...\n",
              "1599    As a former Chicagoan, I'm appalled at the Ama...\n",
              "Name: text, Length: 1600, dtype: object"
            ]
          },
          "execution_count": 149,
          "metadata": {},
          "output_type": "execute_result"
        }
      ],
      "source": [
        "datos['text']"
      ]
    },
    {
      "cell_type": "code",
      "execution_count": 150,
      "metadata": {
        "id": "ysYH5MSRwsE1"
      },
      "outputs": [],
      "source": [
        "datos['long_text'] = datos['text'].str.len()"
      ]
    },
    {
      "cell_type": "code",
      "execution_count": 151,
      "metadata": {
        "colab": {
          "base_uri": "https://localhost:8080/",
          "height": 0
        },
        "id": "i6txP6iwzp8_",
        "outputId": "5a2ce235-70bc-4196-dc64-c5a4ea3b14ae"
      },
      "outputs": [
        {
          "data": {
            "text/html": [
              "<div>\n",
              "<style scoped>\n",
              "    .dataframe tbody tr th:only-of-type {\n",
              "        vertical-align: middle;\n",
              "    }\n",
              "\n",
              "    .dataframe tbody tr th {\n",
              "        vertical-align: top;\n",
              "    }\n",
              "\n",
              "    .dataframe thead th {\n",
              "        text-align: right;\n",
              "    }\n",
              "</style>\n",
              "<table border=\"1\" class=\"dataframe\">\n",
              "  <thead>\n",
              "    <tr style=\"text-align: right;\">\n",
              "      <th></th>\n",
              "      <th>deceptive</th>\n",
              "      <th>text</th>\n",
              "      <th>long_text</th>\n",
              "    </tr>\n",
              "  </thead>\n",
              "  <tbody>\n",
              "    <tr>\n",
              "      <th>0</th>\n",
              "      <td>0</td>\n",
              "      <td>We stayed for a one night getaway with family ...</td>\n",
              "      <td>572</td>\n",
              "    </tr>\n",
              "    <tr>\n",
              "      <th>1</th>\n",
              "      <td>0</td>\n",
              "      <td>Triple A rate with upgrade to view room was le...</td>\n",
              "      <td>286</td>\n",
              "    </tr>\n",
              "    <tr>\n",
              "      <th>2</th>\n",
              "      <td>0</td>\n",
              "      <td>This comes a little late as I'm finally catchi...</td>\n",
              "      <td>1104</td>\n",
              "    </tr>\n",
              "    <tr>\n",
              "      <th>3</th>\n",
              "      <td>0</td>\n",
              "      <td>The Omni Chicago really delivers on all fronts...</td>\n",
              "      <td>707</td>\n",
              "    </tr>\n",
              "    <tr>\n",
              "      <th>4</th>\n",
              "      <td>0</td>\n",
              "      <td>I asked for a high floor away from the elevato...</td>\n",
              "      <td>384</td>\n",
              "    </tr>\n",
              "    <tr>\n",
              "      <th>...</th>\n",
              "      <td>...</td>\n",
              "      <td>...</td>\n",
              "      <td>...</td>\n",
              "    </tr>\n",
              "    <tr>\n",
              "      <th>1595</th>\n",
              "      <td>1</td>\n",
              "      <td>Problems started when I booked the InterContin...</td>\n",
              "      <td>746</td>\n",
              "    </tr>\n",
              "    <tr>\n",
              "      <th>1596</th>\n",
              "      <td>1</td>\n",
              "      <td>The Amalfi Hotel has a beautiful website and i...</td>\n",
              "      <td>671</td>\n",
              "    </tr>\n",
              "    <tr>\n",
              "      <th>1597</th>\n",
              "      <td>1</td>\n",
              "      <td>The Intercontinental Chicago Magnificent Mile ...</td>\n",
              "      <td>771</td>\n",
              "    </tr>\n",
              "    <tr>\n",
              "      <th>1598</th>\n",
              "      <td>1</td>\n",
              "      <td>The Palmer House Hilton, while it looks good i...</td>\n",
              "      <td>449</td>\n",
              "    </tr>\n",
              "    <tr>\n",
              "      <th>1599</th>\n",
              "      <td>1</td>\n",
              "      <td>As a former Chicagoan, I'm appalled at the Ama...</td>\n",
              "      <td>1364</td>\n",
              "    </tr>\n",
              "  </tbody>\n",
              "</table>\n",
              "<p>1600 rows × 3 columns</p>\n",
              "</div>"
            ],
            "text/plain": [
              "      deceptive                                               text  long_text\n",
              "0             0  We stayed for a one night getaway with family ...        572\n",
              "1             0  Triple A rate with upgrade to view room was le...        286\n",
              "2             0  This comes a little late as I'm finally catchi...       1104\n",
              "3             0  The Omni Chicago really delivers on all fronts...        707\n",
              "4             0  I asked for a high floor away from the elevato...        384\n",
              "...         ...                                                ...        ...\n",
              "1595          1  Problems started when I booked the InterContin...        746\n",
              "1596          1  The Amalfi Hotel has a beautiful website and i...        671\n",
              "1597          1  The Intercontinental Chicago Magnificent Mile ...        771\n",
              "1598          1  The Palmer House Hilton, while it looks good i...        449\n",
              "1599          1  As a former Chicagoan, I'm appalled at the Ama...       1364\n",
              "\n",
              "[1600 rows x 3 columns]"
            ]
          },
          "execution_count": 151,
          "metadata": {},
          "output_type": "execute_result"
        }
      ],
      "source": [
        "datos "
      ]
    },
    {
      "cell_type": "code",
      "execution_count": 152,
      "metadata": {
        "colab": {
          "base_uri": "https://localhost:8080/",
          "height": 0
        },
        "id": "qjWEemF-tWHm",
        "outputId": "14a2148b-913e-4a57-b63e-1c844543ea91"
      },
      "outputs": [
        {
          "data": {
            "text/html": [
              "<div>\n",
              "<style scoped>\n",
              "    .dataframe tbody tr th:only-of-type {\n",
              "        vertical-align: middle;\n",
              "    }\n",
              "\n",
              "    .dataframe tbody tr th {\n",
              "        vertical-align: top;\n",
              "    }\n",
              "\n",
              "    .dataframe thead th {\n",
              "        text-align: right;\n",
              "    }\n",
              "</style>\n",
              "<table border=\"1\" class=\"dataframe\">\n",
              "  <thead>\n",
              "    <tr style=\"text-align: right;\">\n",
              "      <th></th>\n",
              "      <th>deceptive</th>\n",
              "      <th>text</th>\n",
              "      <th>long_text</th>\n",
              "    </tr>\n",
              "  </thead>\n",
              "  <tbody>\n",
              "    <tr>\n",
              "      <th>998</th>\n",
              "      <td>0</td>\n",
              "      <td>I was very much looking forward to our stay at...</td>\n",
              "      <td>4159</td>\n",
              "    </tr>\n",
              "  </tbody>\n",
              "</table>\n",
              "</div>"
            ],
            "text/plain": [
              "     deceptive                                               text  long_text\n",
              "998          0  I was very much looking forward to our stay at...       4159"
            ]
          },
          "execution_count": 152,
          "metadata": {},
          "output_type": "execute_result"
        }
      ],
      "source": [
        "datos[datos['long_text']==datos['long_text'].max()]"
      ]
    },
    {
      "cell_type": "code",
      "execution_count": 153,
      "metadata": {
        "colab": {
          "base_uri": "https://localhost:8080/",
          "height": 0
        },
        "id": "4ufvs49hwyh9",
        "outputId": "f2b16603-05b3-48c3-f2d1-8111ddf66e91"
      },
      "outputs": [
        {
          "name": "stdout",
          "output_type": "stream",
          "text": [
            "4159\n"
          ]
        },
        {
          "data": {
            "text/plain": [
              "\"I was very much looking forward to our stay at this hotel, after hearing all the good things about it. Unfortunately, it was a very underwhelming experience, to say the least. But let me begin with the things that I do like about the hotel. First off, it is located my favorite part of Chicago - the leafy, affluent part of town that is Chicago's equivalent of Manhattan's Upper East Side, complete with sidewalks, quiet tree-lined streets, real old-school townhouses (instead of ugly towering monstrosities that are 21st century condominiums), cute boutiques (instead of Gap, Banana Republic and other mainstream mass-produced brands) and, of course, Hermes of Paris (which warrants a separate mention). I also like the small intimate lobby area with old leather couches, cherry colored wooden furnitures, area rugs and distinct artwork. The very reason why I always tend to gravitate toward smaller boutique hotels instead of impersonal chains. I definitely love the room. While the space issue is not as bad in Chicago as it is in Manhattan, getting a 400-sqft guestroom for our weekend getaway is not an easy task. So we were delighted to see that our room comes with generous, ample bathroom, double sink, massive king bed AND still enough space to walk around, do a chicken dance, and strut my Herve and Louboutins in. My only reservation was the lack of natural light - the windows were definitely inadequate to allow sunlight to find its way into our 11th-floor room, but then again Delaware St is not exactly the widest street in town and there are buildings in front of us, so can't have it all! Yet one thing that really disappointed us was the service, or lack thereof. I mean, seriously. They don't call it the 'hospitality' industry for no reason. I did pay a premium to stay in smaller boutique hotels such as this so I do get a service that is a little bit more personalized than the kind that I would be getting from say, a 3000-room Vegas hotel. First, I called in to reconfirm my reservation. The lady on the phone was anything but courteous and competent. First off, she was not able to find my reservation and I was transferred to the front desk staff, to whom I had to explain myself all over again (my pet peeve when it comes to on-the-phone customer service). The person who manned the reception desk was not friendly, nor was he at all competent either. Case in point - he had to send the slip of paper on which I agree to the nightly rate and duration of stay up to the room after we checked in, which clearly indicated that he must have forgotten when we were actually down there. But the real kicker was when we ordered room service after arriving - it was about 1AM. As a general rule, I am never, ever, a big fan of room service, having had my fair share of bad food that they slap 18% gratuity, 10.5% tax (and still expect a tip) on during my days globetrotting on the company's expense account. Think overcooked steaks, lukewarm soup, bread hard enough to knock someone out, and ice-creams that are already half melted by the time it reaches your suite. So I really wasn't expecting hotels as small as Talbott to have a 24-hour room service, but lo and behold, they do. I placed an order of chicken BLT, which (to my initial delight) came in within 20 minutes. Then after the customary of the invoice and the involuntary yet customary tip of $2 on top of the 18% service fee (refer above) I opened the cover only to find something that looked like it was picked up from the garbage bin, microwaved and served on a plate with a bag of Lay's chips (lightly salted flavor). The bread looked like someone stomped on it, the L and T looked like it was 2 days old, the B was unrecognizable, and the chicken was burnt and cold. It was pathetic room service at its finest. We did get the item taken off our bill (rightfully so too) but the front desk person was, instead of apologetic, defiant. The whole thing was just very upsetting and for a hotel as high-end as this to be able to leave such a bad impression within the first hour of arriving, it's quite an accomplishment in and of itself. We won't be coming back, unfortunately.\\n\""
            ]
          },
          "execution_count": 153,
          "metadata": {},
          "output_type": "execute_result"
        }
      ],
      "source": [
        "indice = 998\n",
        "ejemplo = datos.loc[indice, 'text']\n",
        "print(len(ejemplo))\n",
        "ejemplo"
      ]
    },
    {
      "cell_type": "markdown",
      "metadata": {
        "id": "CYZO4qz9tDdD"
      },
      "source": [
        "#### Transformar texto a minúsculas"
      ]
    },
    {
      "cell_type": "code",
      "execution_count": 154,
      "metadata": {
        "colab": {
          "base_uri": "https://localhost:8080/",
          "height": 0
        },
        "id": "l9_may3QtHpT",
        "outputId": "d9834512-afb2-4297-9fe1-e1d9425a6043"
      },
      "outputs": [
        {
          "name": "stdout",
          "output_type": "stream",
          "text": [
            "4159\n"
          ]
        },
        {
          "data": {
            "text/plain": [
              "\"i was very much looking forward to our stay at this hotel, after hearing all the good things about it. unfortunately, it was a very underwhelming experience, to say the least. but let me begin with the things that i do like about the hotel. first off, it is located my favorite part of chicago - the leafy, affluent part of town that is chicago's equivalent of manhattan's upper east side, complete with sidewalks, quiet tree-lined streets, real old-school townhouses (instead of ugly towering monstrosities that are 21st century condominiums), cute boutiques (instead of gap, banana republic and other mainstream mass-produced brands) and, of course, hermes of paris (which warrants a separate mention). i also like the small intimate lobby area with old leather couches, cherry colored wooden furnitures, area rugs and distinct artwork. the very reason why i always tend to gravitate toward smaller boutique hotels instead of impersonal chains. i definitely love the room. while the space issue is not as bad in chicago as it is in manhattan, getting a 400-sqft guestroom for our weekend getaway is not an easy task. so we were delighted to see that our room comes with generous, ample bathroom, double sink, massive king bed and still enough space to walk around, do a chicken dance, and strut my herve and louboutins in. my only reservation was the lack of natural light - the windows were definitely inadequate to allow sunlight to find its way into our 11th-floor room, but then again delaware st is not exactly the widest street in town and there are buildings in front of us, so can't have it all! yet one thing that really disappointed us was the service, or lack thereof. i mean, seriously. they don't call it the 'hospitality' industry for no reason. i did pay a premium to stay in smaller boutique hotels such as this so i do get a service that is a little bit more personalized than the kind that i would be getting from say, a 3000-room vegas hotel. first, i called in to reconfirm my reservation. the lady on the phone was anything but courteous and competent. first off, she was not able to find my reservation and i was transferred to the front desk staff, to whom i had to explain myself all over again (my pet peeve when it comes to on-the-phone customer service). the person who manned the reception desk was not friendly, nor was he at all competent either. case in point - he had to send the slip of paper on which i agree to the nightly rate and duration of stay up to the room after we checked in, which clearly indicated that he must have forgotten when we were actually down there. but the real kicker was when we ordered room service after arriving - it was about 1am. as a general rule, i am never, ever, a big fan of room service, having had my fair share of bad food that they slap 18% gratuity, 10.5% tax (and still expect a tip) on during my days globetrotting on the company's expense account. think overcooked steaks, lukewarm soup, bread hard enough to knock someone out, and ice-creams that are already half melted by the time it reaches your suite. so i really wasn't expecting hotels as small as talbott to have a 24-hour room service, but lo and behold, they do. i placed an order of chicken blt, which (to my initial delight) came in within 20 minutes. then after the customary of the invoice and the involuntary yet customary tip of $2 on top of the 18% service fee (refer above) i opened the cover only to find something that looked like it was picked up from the garbage bin, microwaved and served on a plate with a bag of lay's chips (lightly salted flavor). the bread looked like someone stomped on it, the l and t looked like it was 2 days old, the b was unrecognizable, and the chicken was burnt and cold. it was pathetic room service at its finest. we did get the item taken off our bill (rightfully so too) but the front desk person was, instead of apologetic, defiant. the whole thing was just very upsetting and for a hotel as high-end as this to be able to leave such a bad impression within the first hour of arriving, it's quite an accomplishment in and of itself. we won't be coming back, unfortunately.\\n\""
            ]
          },
          "execution_count": 154,
          "metadata": {},
          "output_type": "execute_result"
        }
      ],
      "source": [
        "ejemplo = ejemplo.lower()\n",
        "print(len(ejemplo))\n",
        "ejemplo"
      ]
    },
    {
      "cell_type": "markdown",
      "metadata": {
        "id": "FJfeT1uwtIHT"
      },
      "source": [
        "#### Quitar puntuación"
      ]
    },
    {
      "cell_type": "code",
      "execution_count": 155,
      "metadata": {
        "colab": {
          "base_uri": "https://localhost:8080/",
          "height": 0
        },
        "id": "3dYvCI1ntQWc",
        "outputId": "2ec29fe1-58b5-445c-acf7-7c559a654ae5"
      },
      "outputs": [
        {
          "name": "stdout",
          "output_type": "stream",
          "text": [
            "4013\n"
          ]
        },
        {
          "data": {
            "text/plain": [
              "'i was very much looking forward to our stay at this hotel after hearing all the good things about it unfortunately it was a very underwhelming experience to say the least but let me begin with the things that i do like about the hotel first off it is located my favorite part of chicago the leafy affluent part of town that is chicago s equivalent of manhattan s upper east side complete with sidewalks quiet tree lined streets real old school townhouses instead of ugly towering monstrosities that are st century condominiums cute boutiques instead of gap banana republic and other mainstream mass produced brands and of course hermes of paris which warrants a separate mention i also like the small intimate lobby area with old leather couches cherry colored wooden furnitures area rugs and distinct artwork the very reason why i always tend to gravitate toward smaller boutique hotels instead of impersonal chains i definitely love the room while the space issue is not as bad in chicago as it is in manhattan getting a sqft guestroom for our weekend getaway is not an easy task so we were delighted to see that our room comes with generous ample bathroom double sink massive king bed and still enough space to walk around do a chicken dance and strut my herve and louboutins in my only reservation was the lack of natural light the windows were definitely inadequate to allow sunlight to find its way into our th floor room but then again delaware st is not exactly the widest street in town and there are buildings in front of us so can t have it all yet one thing that really disappointed us was the service or lack thereof i mean seriously they don t call it the hospitality industry for no reason i did pay a premium to stay in smaller boutique hotels such as this so i do get a service that is a little bit more personalized than the kind that i would be getting from say a room vegas hotel first i called in to reconfirm my reservation the lady on the phone was anything but courteous and competent first off she was not able to find my reservation and i was transferred to the front desk staff to whom i had to explain myself all over again my pet peeve when it comes to on the phone customer service the person who manned the reception desk was not friendly nor was he at all competent either case in point he had to send the slip of paper on which i agree to the nightly rate and duration of stay up to the room after we checked in which clearly indicated that he must have forgotten when we were actually down there but the real kicker was when we ordered room service after arriving it was about am as a general rule i am never ever a big fan of room service having had my fair share of bad food that they slap gratuity tax and still expect a tip on during my days globetrotting on the company s expense account think overcooked steaks lukewarm soup bread hard enough to knock someone out and ice creams that are already half melted by the time it reaches your suite so i really wasn t expecting hotels as small as talbott to have a hour room service but lo and behold they do i placed an order of chicken blt which to my initial delight came in within minutes then after the customary of the invoice and the involuntary yet customary tip of on top of the service fee refer above i opened the cover only to find something that looked like it was picked up from the garbage bin microwaved and served on a plate with a bag of lay s chips lightly salted flavor the bread looked like someone stomped on it the l and t looked like it was days old the b was unrecognizable and the chicken was burnt and cold it was pathetic room service at its finest we did get the item taken off our bill rightfully so too but the front desk person was instead of apologetic defiant the whole thing was just very upsetting and for a hotel as high end as this to be able to leave such a bad impression within the first hour of arriving it s quite an accomplishment in and of itself we won t be coming back unfortunately '"
            ]
          },
          "execution_count": 155,
          "metadata": {},
          "output_type": "execute_result"
        }
      ],
      "source": [
        "ejemplo = elimina_puntuacion_y_numeros(ejemplo)\n",
        "print(len(ejemplo))\n",
        "ejemplo"
      ]
    },
    {
      "cell_type": "markdown",
      "metadata": {
        "id": "RWpEiJcDtTHO"
      },
      "source": [
        "#### Quitar Palabras Irrelevantes (\"Stopwords\")"
      ]
    },
    {
      "cell_type": "code",
      "execution_count": 156,
      "metadata": {
        "colab": {
          "base_uri": "https://localhost:8080/",
          "height": 0
        },
        "id": "5Rt-PGKdtTmN",
        "outputId": "c57fa19c-4d26-47dc-f99c-053fd41b4bea"
      },
      "outputs": [
        {
          "name": "stdout",
          "output_type": "stream",
          "text": [
            "2624\n"
          ]
        },
        {
          "data": {
            "text/plain": [
              "'much looking forward stay hotel hearing good things unfortunately underwhelming experience say least let begin things like hotel first located favorite part chicago leafy affluent part town chicago equivalent manhattan upper east side complete sidewalks quiet tree lined streets real old school townhouses instead ugly towering monstrosities st century condominiums cute boutiques instead gap banana republic mainstream mass produced brands course hermes paris warrants separate mention also like small intimate lobby area old leather couches cherry colored wooden furnitures area rugs distinct artwork reason always tend gravitate toward smaller boutique hotels instead impersonal chains definitely love room space issue bad chicago manhattan getting sqft guestroom weekend getaway easy task delighted see room comes generous ample bathroom double sink massive king bed still enough space walk around chicken dance strut herve louboutins reservation lack natural light windows definitely inadequate allow sunlight find way th floor room delaware st exactly widest street town buildings front us yet one thing really disappointed us service lack thereof mean seriously call hospitality industry reason pay premium stay smaller boutique hotels get service little bit personalized kind would getting say room vegas hotel first called reconfirm reservation lady phone anything courteous competent first able find reservation transferred front desk staff explain pet peeve comes phone customer service person manned reception desk friendly competent either case point send slip paper agree nightly rate duration stay room checked clearly indicated must forgotten actually real kicker ordered room service arriving general rule never ever big fan room service fair share bad food slap gratuity tax still expect tip days globetrotting company expense account think overcooked steaks lukewarm soup bread hard enough knock someone ice creams already half melted time reaches suite really expecting hotels small talbott hour room service lo behold placed order chicken blt initial delight came within minutes customary invoice involuntary yet customary tip top service fee refer opened cover find something looked like picked garbage bin microwaved served plate bag lay chips lightly salted flavor bread looked like someone stomped l looked like days old b unrecognizable chicken burnt cold pathetic room service finest get item taken bill rightfully front desk person instead apologetic defiant whole thing upsetting hotel high end able leave bad impression within first hour arriving quite accomplishment coming back unfortunately '"
            ]
          },
          "execution_count": 156,
          "metadata": {},
          "output_type": "execute_result"
        }
      ],
      "source": [
        "ejemplo = elimina_stopwords(ejemplo)\n",
        "print(len(ejemplo))\n",
        "ejemplo"
      ]
    },
    {
      "cell_type": "markdown",
      "metadata": {
        "id": "FqT5lRXW585j"
      },
      "source": [
        "## Normalización\n",
        "Existen dos principales técnicas para normalizar el texto, la lematización y \"radicalización\" o stemming, que consiste en la  conversión de palabras en las raices\n",
        "\n",
        "Referencia: \n",
        "\n",
        "https://towardsdatascience.com/introduction-to-nlp-part-2-difference-between-lemmatisation-and-stemming-3789be1c55bc"
      ]
    },
    {
      "cell_type": "code",
      "execution_count": 157,
      "metadata": {
        "colab": {
          "base_uri": "https://localhost:8080/",
          "height": 0
        },
        "id": "WIFwWnuQCrH2",
        "outputId": "1ed988fd-5bfa-4d42-ebd1-f8e1e599ed81"
      },
      "outputs": [
        {
          "name": "stdout",
          "output_type": "stream",
          "text": [
            "2530\n"
          ]
        },
        {
          "data": {
            "text/plain": [
              "'much look forward stay hotel hear good things unfortunately underwhelming experience say least let begin things like hotel first locate favorite part chicago leafy affluent part town chicago equivalent manhattan upper east side complete sidewalks quiet tree line streets real old school townhouses instead ugly tower monstrosities st century condominiums cute boutiques instead gap banana republic mainstream mass produce brand course hermes paris warrant separate mention also like small intimate lobby area old leather couch cherry color wooden furnitures area rugs distinct artwork reason always tend gravitate toward smaller boutique hotels instead impersonal chain definitely love room space issue bad chicago manhattan get sqft guestroom weekend getaway easy task delight see room come generous ample bathroom double sink massive king bed still enough space walk around chicken dance strut herve louboutins reservation lack natural light windows definitely inadequate allow sunlight find way th floor room delaware st exactly widest street town build front us yet one thing really disappoint us service lack thereof mean seriously call hospitality industry reason pay premium stay smaller boutique hotels get service little bite personalize kind would get say room vegas hotel first call reconfirm reservation lady phone anything courteous competent first able find reservation transfer front desk staff explain pet peeve come phone customer service person man reception desk friendly competent either case point send slip paper agree nightly rate duration stay room check clearly indicate must forget actually real kicker order room service arrive general rule never ever big fan room service fair share bad food slap gratuity tax still expect tip days globetrotting company expense account think overcook steaks lukewarm soup bread hard enough knock someone ice cream already half melt time reach suite really expect hotels small talbott hour room service lo behold place order chicken blt initial delight come within minutes customary invoice involuntary yet customary tip top service fee refer open cover find something look like pick garbage bin microwave serve plate bag lay chip lightly salt flavor bread look like someone stomp l look like days old b unrecognizable chicken burn cold pathetic room service finest get item take bill rightfully front desk person instead apologetic defiant whole thing upset hotel high end able leave bad impression within first hour arrive quite accomplishment come back unfortunately'"
            ]
          },
          "execution_count": 157,
          "metadata": {},
          "output_type": "execute_result"
        }
      ],
      "source": [
        "ejemplo_lema = lematizar(ejemplo)\n",
        "print(len(ejemplo_lema))\n",
        "ejemplo_lema"
      ]
    },
    {
      "cell_type": "code",
      "execution_count": 158,
      "metadata": {
        "colab": {
          "base_uri": "https://localhost:8080/",
          "height": 0
        },
        "id": "vaNcLBVtFrpG",
        "outputId": "e8c2f991-e1a7-499e-d935-fb5a47de4d0d"
      },
      "outputs": [
        {
          "name": "stdout",
          "output_type": "stream",
          "text": [
            "2624\n"
          ]
        },
        {
          "data": {
            "text/plain": [
              "'much look forward stay hotel hear good thing unfortun underwhelm experi say least let begin thing like hotel first locat favorit part chicago leafi affluent part town chicago equival manhattan upper east side complet sidewalk quiet tree line street real old school townhous instead ugli tower monstros st centuri condominium cute boutiqu instead gap banana republ mainstream mass produc brand cours herm pari warrant separ mention also like small intim lobbi area old leather couch cherri color wooden furnitur area rug distinct artwork reason alway tend gravit toward smaller boutiqu hotel instead imperson chain definit love room space issu bad chicago manhattan get sqft guestroom weekend getaway easi task delight see room come gener ampl bathroom doubl sink massiv king bed still enough space walk around chicken danc strut herv louboutin reserv lack natur light window definit inadequ allow sunlight find way th floor room delawar st exactli widest street town build front us yet one thing realli disappoint us servic lack thereof mean serious call hospit industri reason pay premium stay smaller boutiqu hotel get servic littl bit person kind would get say room vega hotel first call reconfirm reserv ladi phone anyth courteou compet first abl find reserv transfer front desk staff explain pet peev come phone custom servic person man recept desk friendli compet either case point send slip paper agre nightli rate durat stay room check clearli indic must forgotten actual real kicker order room servic arriv gener rule never ever big fan room servic fair share bad food slap gratuiti tax still expect tip day globetrot compani expens account think overcook steak lukewarm soup bread hard enough knock someon ice cream alreadi half melt time reach suit realli expect hotel small talbott hour room servic lo behold place order chicken blt initi delight came within minut customari invoic involuntari yet customari tip top servic fee refer open cover find someth look like pick garbag bin microwav serv plate bag lay chip lightli salt flavor bread look like someon stomp l look like day old b unrecogniz chicken burnt cold pathet room servic finest get item taken bill right front desk person instead apologet defiant whole thing upset hotel high end abl leav bad impress within first hour arriv quit accomplish come back unfortun'"
            ]
          },
          "execution_count": 158,
          "metadata": {},
          "output_type": "execute_result"
        }
      ],
      "source": [
        "ejemplo_stem = stemmer(ejemplo)\n",
        "print(len(ejemplo))\n",
        "ejemplo_stem"
      ]
    },
    {
      "cell_type": "markdown",
      "metadata": {
        "id": "ANZQqWl2QkCx"
      },
      "source": [
        "## Todo junto"
      ]
    },
    {
      "cell_type": "code",
      "execution_count": 159,
      "metadata": {
        "colab": {
          "base_uri": "https://localhost:8080/",
          "height": 0
        },
        "id": "ExtHv1pNQhj8",
        "outputId": "654cbe68-e090-495e-fd09-282e6a1c8b30"
      },
      "outputs": [
        {
          "data": {
            "text/html": [
              "<div>\n",
              "<style scoped>\n",
              "    .dataframe tbody tr th:only-of-type {\n",
              "        vertical-align: middle;\n",
              "    }\n",
              "\n",
              "    .dataframe tbody tr th {\n",
              "        vertical-align: top;\n",
              "    }\n",
              "\n",
              "    .dataframe thead th {\n",
              "        text-align: right;\n",
              "    }\n",
              "</style>\n",
              "<table border=\"1\" class=\"dataframe\">\n",
              "  <thead>\n",
              "    <tr style=\"text-align: right;\">\n",
              "      <th></th>\n",
              "      <th>deceptive</th>\n",
              "      <th>text</th>\n",
              "      <th>long_text</th>\n",
              "      <th>text_pp</th>\n",
              "      <th>long_text_pp</th>\n",
              "    </tr>\n",
              "  </thead>\n",
              "  <tbody>\n",
              "    <tr>\n",
              "      <th>0</th>\n",
              "      <td>0</td>\n",
              "      <td>We stayed for a one night getaway with family ...</td>\n",
              "      <td>572</td>\n",
              "      <td>stay one night getaway famili thursday tripl a...</td>\n",
              "      <td>340</td>\n",
              "    </tr>\n",
              "    <tr>\n",
              "      <th>1</th>\n",
              "      <td>0</td>\n",
              "      <td>Triple A rate with upgrade to view room was le...</td>\n",
              "      <td>286</td>\n",
              "      <td>tripl rate upgrad view room less also includ b...</td>\n",
              "      <td>186</td>\n",
              "    </tr>\n",
              "    <tr>\n",
              "      <th>2</th>\n",
              "      <td>0</td>\n",
              "      <td>This comes a little late as I'm finally catchi...</td>\n",
              "      <td>1104</td>\n",
              "      <td>come littl late final catch review past sever ...</td>\n",
              "      <td>624</td>\n",
              "    </tr>\n",
              "    <tr>\n",
              "      <th>3</th>\n",
              "      <td>0</td>\n",
              "      <td>The Omni Chicago really delivers on all fronts...</td>\n",
              "      <td>707</td>\n",
              "      <td>omni chicago realli deliv front spacious room ...</td>\n",
              "      <td>387</td>\n",
              "    </tr>\n",
              "    <tr>\n",
              "      <th>4</th>\n",
              "      <td>0</td>\n",
              "      <td>I asked for a high floor away from the elevato...</td>\n",
              "      <td>384</td>\n",
              "      <td>ask high floor away elev got room pleasantli d...</td>\n",
              "      <td>197</td>\n",
              "    </tr>\n",
              "  </tbody>\n",
              "</table>\n",
              "</div>"
            ],
            "text/plain": [
              "   deceptive                                               text  long_text  \\\n",
              "0          0  We stayed for a one night getaway with family ...        572   \n",
              "1          0  Triple A rate with upgrade to view room was le...        286   \n",
              "2          0  This comes a little late as I'm finally catchi...       1104   \n",
              "3          0  The Omni Chicago really delivers on all fronts...        707   \n",
              "4          0  I asked for a high floor away from the elevato...        384   \n",
              "\n",
              "                                             text_pp  long_text_pp  \n",
              "0  stay one night getaway famili thursday tripl a...           340  \n",
              "1  tripl rate upgrad view room less also includ b...           186  \n",
              "2  come littl late final catch review past sever ...           624  \n",
              "3  omni chicago realli deliv front spacious room ...           387  \n",
              "4  ask high floor away elev got room pleasantli d...           197  "
            ]
          },
          "execution_count": 159,
          "metadata": {},
          "output_type": "execute_result"
        }
      ],
      "source": [
        "datos['text_pp'] = datos['text'].apply(preprocesar)\n",
        "datos['long_text_pp'] = datos['text_pp'].str.len()\n",
        "datos.head()"
      ]
    },
    {
      "cell_type": "markdown",
      "metadata": {
        "id": "wuJrY_MytM5V"
      },
      "source": [
        "# Visualización de nubes de palabras"
      ]
    },
    {
      "cell_type": "code",
      "execution_count": 160,
      "metadata": {
        "id": "CA_jsRRQ8iY6"
      },
      "outputs": [],
      "source": [
        "def nube_palabras(sec_textos):\n",
        "    # Crear la cadena con la que haremos la nube de palabras\n",
        "    text= \" \".join(review for review in sec_textos)\n",
        "    \n",
        "    # Crear la nube de palabras\n",
        "    wordcloud = WordCloud(max_font_size=50, \n",
        "                          max_words=100, \n",
        "                          background_color=\"white\").generate(text)\n",
        "\n",
        "    # Desplegar la imagen generada\n",
        "    plt.figure(figsize=[10,12])\n",
        "    plt.imshow(wordcloud, interpolation=\"bilinear\")\n",
        "    plt.axis(\"off\")\n",
        "    plt.show()"
      ]
    },
    {
      "cell_type": "code",
      "execution_count": 161,
      "metadata": {
        "colab": {
          "base_uri": "https://localhost:8080/",
          "height": 0
        },
        "id": "9fI2FO9F86sx",
        "outputId": "c667842a-5a5c-4246-f648-4555fa2a68c3"
      },
      "outputs": [
        {
          "data": {
            "image/png": "[encoded data removed]",
            "text/plain": [
              "<Figure size 720x864 with 1 Axes>"
            ]
          },
          "metadata": {
            "needs_background": "light"
          },
          "output_type": "display_data"
        }
      ],
      "source": [
        "nube_palabras(datos['text_pp'])"
      ]
    },
    {
      "cell_type": "code",
      "execution_count": 162,
      "metadata": {
        "id": "dWIUTTlw5lQ6"
      },
      "outputs": [
        {
          "ename": "KeyError",
          "evalue": "'truthful'",
          "output_type": "error",
          "traceback": [
            "\u001b[1;31m---------------------------------------------------------------------------\u001b[0m",
            "\u001b[1;31mKeyError\u001b[0m                                  Traceback (most recent call last)",
            "\u001b[1;32mc:\\Users\\conte\\OneDrive\\Escritorio\\Colegio Bourbaki\\RegresionLogisitica\\LogisticRegression_SpamOpinion-master\\Notebooks\\Clasificador_reseñas_Regresión_logística_.ipynb Cell 41\u001b[0m in \u001b[0;36m<cell line: 2>\u001b[1;34m()\u001b[0m\n\u001b[0;32m      <a href='vscode-notebook-cell:/c%3A/Users/conte/OneDrive/Escritorio/Colegio%20Bourbaki/RegresionLogisitica/LogisticRegression_SpamOpinion-master/Notebooks/Clasificador_rese%C3%B1as_Regresi%C3%B3n_log%C3%ADstica_.ipynb#X55sZmlsZQ%3D%3D?line=0'>1</a>\u001b[0m porClase \u001b[39m=\u001b[39m datos\u001b[39m.\u001b[39mgroupby(\u001b[39m'\u001b[39m\u001b[39mdeceptive\u001b[39m\u001b[39m'\u001b[39m)\n\u001b[1;32m----> <a href='vscode-notebook-cell:/c%3A/Users/conte/OneDrive/Escritorio/Colegio%20Bourbaki/RegresionLogisitica/LogisticRegression_SpamOpinion-master/Notebooks/Clasificador_rese%C3%B1as_Regresi%C3%B3n_log%C3%ADstica_.ipynb#X55sZmlsZQ%3D%3D?line=1'>2</a>\u001b[0m verdaderas \u001b[39m=\u001b[39m porClase\u001b[39m.\u001b[39;49mget_group(\u001b[39m'\u001b[39;49m\u001b[39mtruthful\u001b[39;49m\u001b[39m'\u001b[39;49m)\u001b[39m.\u001b[39mtext_pp\n\u001b[0;32m      <a href='vscode-notebook-cell:/c%3A/Users/conte/OneDrive/Escritorio/Colegio%20Bourbaki/RegresionLogisitica/LogisticRegression_SpamOpinion-master/Notebooks/Clasificador_rese%C3%B1as_Regresi%C3%B3n_log%C3%ADstica_.ipynb#X55sZmlsZQ%3D%3D?line=2'>3</a>\u001b[0m falsas \u001b[39m=\u001b[39m porClase\u001b[39m.\u001b[39mget_group(\u001b[39m'\u001b[39m\u001b[39mdeceptive\u001b[39m\u001b[39m'\u001b[39m)\u001b[39m.\u001b[39mtext_pp\n",
            "File \u001b[1;32mc:\\Users\\conte\\AppData\\Local\\Programs\\Python\\Python310\\lib\\site-packages\\pandas\\core\\groupby\\groupby.py:747\u001b[0m, in \u001b[0;36mBaseGroupBy.get_group\u001b[1;34m(self, name, obj)\u001b[0m\n\u001b[0;32m    745\u001b[0m inds \u001b[39m=\u001b[39m \u001b[39mself\u001b[39m\u001b[39m.\u001b[39m_get_index(name)\n\u001b[0;32m    746\u001b[0m \u001b[39mif\u001b[39;00m \u001b[39mnot\u001b[39;00m \u001b[39mlen\u001b[39m(inds):\n\u001b[1;32m--> 747\u001b[0m     \u001b[39mraise\u001b[39;00m \u001b[39mKeyError\u001b[39;00m(name)\n\u001b[0;32m    749\u001b[0m \u001b[39mreturn\u001b[39;00m obj\u001b[39m.\u001b[39m_take_with_is_copy(inds, axis\u001b[39m=\u001b[39m\u001b[39mself\u001b[39m\u001b[39m.\u001b[39maxis)\n",
            "\u001b[1;31mKeyError\u001b[0m: 'truthful'"
          ]
        }
      ],
      "source": [
        "porClase = datos.groupby('deceptive')\n",
        "verdaderas = porClase.get_group('truthful').text_pp\n",
        "falsas = porClase.get_group('deceptive').text_pp"
      ]
    },
    {
      "cell_type": "code",
      "execution_count": null,
      "metadata": {
        "colab": {
          "base_uri": "https://localhost:8080/",
          "height": 0
        },
        "id": "BPT2YC3j9LCd",
        "outputId": "fbebb50d-1970-434e-906e-0842b9d3d699"
      },
      "outputs": [
        {
          "data": {
            "image/png": "[encoded data removed]",
            "text/plain": [
              "<Figure size 720x864 with 1 Axes>"
            ]
          },
          "metadata": {
            "needs_background": "light"
          },
          "output_type": "display_data"
        }
      ],
      "source": [
        "nube_palabras(verdaderas)"
      ]
    },
    {
      "cell_type": "code",
      "execution_count": null,
      "metadata": {
        "colab": {
          "base_uri": "https://localhost:8080/",
          "height": 0
        },
        "id": "SVdxlqEB9Ncg",
        "outputId": "9c2c7586-54df-446f-aa27-2be334ae085f"
      },
      "outputs": [
        {
          "data": {
            "image/png": "[encoded data removed]",
            "text/plain": [
              "<Figure size 720x864 with 1 Axes>"
            ]
          },
          "metadata": {
            "needs_background": "light"
          },
          "output_type": "display_data"
        }
      ],
      "source": [
        "nube_palabras(falsas)"
      ]
    },
    {
      "cell_type": "markdown",
      "metadata": {
        "id": "ihnhEfR9AsD1"
      },
      "source": [
        "# Vectorización de Texto mediante BOW"
      ]
    },
    {
      "cell_type": "code",
      "execution_count": null,
      "metadata": {
        "colab": {
          "base_uri": "https://localhost:8080/"
        },
        "id": "034-OjI58ff2",
        "outputId": "511fcf53-2c97-41f5-a858-7a7f971d39ad"
      },
      "outputs": [
        {
          "data": {
            "text/plain": [
              "(1600, 3616)"
            ]
          },
          "execution_count": 33,
          "metadata": {},
          "output_type": "execute_result"
        }
      ],
      "source": [
        "vectorizer = TfidfVectorizer(min_df=2)\n",
        "BOW = vectorizer.fit_transform(datos['text_pp'])\n",
        "BOW.shape"
      ]
    },
    {
      "cell_type": "code",
      "execution_count": null,
      "metadata": {
        "colab": {
          "base_uri": "https://localhost:8080/"
        },
        "id": "EvQ33hdtv4pl",
        "outputId": "fc26afc3-da60-45ab-b9aa-c08a3fcf5a33"
      },
      "outputs": [
        {
          "data": {
            "text/plain": [
              "scipy.sparse._csr.csr_matrix"
            ]
          },
          "execution_count": 34,
          "metadata": {},
          "output_type": "execute_result"
        }
      ],
      "source": [
        "type(BOW)"
      ]
    },
    {
      "cell_type": "code",
      "execution_count": null,
      "metadata": {
        "colab": {
          "base_uri": "https://localhost:8080/"
        },
        "id": "G2UVxH1Bv88y",
        "outputId": "3ae9a949-086b-479b-960d-1cbc91ccba08"
      },
      "outputs": [
        {
          "data": {
            "text/plain": [
              "matrix([[0.18820026, 0.        , 0.        , 0.        , 0.        ,\n",
              "         0.        , 0.        , 0.        , 0.        , 0.        ],\n",
              "        [0.        , 0.        , 0.        , 0.        , 0.        ,\n",
              "         0.        , 0.        , 0.        , 0.        , 0.        ],\n",
              "        [0.        , 0.        , 0.0849731 , 0.        , 0.        ,\n",
              "         0.        , 0.        , 0.        , 0.        , 0.        ],\n",
              "        [0.        , 0.        , 0.        , 0.        , 0.        ,\n",
              "         0.        , 0.        , 0.        , 0.        , 0.        ],\n",
              "        [0.        , 0.        , 0.        , 0.        , 0.        ,\n",
              "         0.        , 0.        , 0.        , 0.        , 0.        ],\n",
              "        [0.        , 0.        , 0.        , 0.        , 0.        ,\n",
              "         0.        , 0.09451106, 0.        , 0.        , 0.        ],\n",
              "        [0.        , 0.        , 0.        , 0.        , 0.        ,\n",
              "         0.        , 0.        , 0.        , 0.        , 0.        ],\n",
              "        [0.        , 0.        , 0.        , 0.        , 0.        ,\n",
              "         0.        , 0.        , 0.        , 0.        , 0.        ],\n",
              "        [0.        , 0.        , 0.        , 0.        , 0.        ,\n",
              "         0.        , 0.        , 0.        , 0.        , 0.        ],\n",
              "        [0.        , 0.        , 0.        , 0.        , 0.        ,\n",
              "         0.        , 0.        , 0.        , 0.        , 0.        ]])"
            ]
          },
          "execution_count": 35,
          "metadata": {},
          "output_type": "execute_result"
        }
      ],
      "source": [
        "BOW.todense()[:10, :10]"
      ]
    },
    {
      "cell_type": "code",
      "execution_count": null,
      "metadata": {
        "colab": {
          "base_uri": "https://localhost:8080/",
          "height": 424
        },
        "id": "_jB5UK8t_L8V",
        "outputId": "6981f64d-ebeb-4585-dc29-73e1cec335c8"
      },
      "outputs": [
        {
          "data": {
            "text/html": [
              "<div>\n",
              "<style scoped>\n",
              "    .dataframe tbody tr th:only-of-type {\n",
              "        vertical-align: middle;\n",
              "    }\n",
              "\n",
              "    .dataframe tbody tr th {\n",
              "        vertical-align: top;\n",
              "    }\n",
              "\n",
              "    .dataframe thead th {\n",
              "        text-align: right;\n",
              "    }\n",
              "</style>\n",
              "<table border=\"1\" class=\"dataframe\">\n",
              "  <thead>\n",
              "    <tr style=\"text-align: right;\">\n",
              "      <th></th>\n",
              "      <th>aaa</th>\n",
              "      <th>abil</th>\n",
              "      <th>abl</th>\n",
              "      <th>abrupt</th>\n",
              "      <th>absenc</th>\n",
              "      <th>absent</th>\n",
              "      <th>absolut</th>\n",
              "      <th>absurd</th>\n",
              "      <th>abund</th>\n",
              "      <th>abysm</th>\n",
              "      <th>...</th>\n",
              "      <th>york</th>\n",
              "      <th>young</th>\n",
              "      <th>younger</th>\n",
              "      <th>yr</th>\n",
              "      <th>yuck</th>\n",
              "      <th>yummi</th>\n",
              "      <th>yup</th>\n",
              "      <th>zest</th>\n",
              "      <th>zone</th>\n",
              "      <th>zoo</th>\n",
              "    </tr>\n",
              "  </thead>\n",
              "  <tbody>\n",
              "    <tr>\n",
              "      <th>0</th>\n",
              "      <td>0.1882</td>\n",
              "      <td>0.0</td>\n",
              "      <td>0.000000</td>\n",
              "      <td>0.0</td>\n",
              "      <td>0.0</td>\n",
              "      <td>0.0</td>\n",
              "      <td>0.0</td>\n",
              "      <td>0.0</td>\n",
              "      <td>0.0</td>\n",
              "      <td>0.0</td>\n",
              "      <td>...</td>\n",
              "      <td>0.0</td>\n",
              "      <td>0.0</td>\n",
              "      <td>0.0</td>\n",
              "      <td>0.0</td>\n",
              "      <td>0.0</td>\n",
              "      <td>0.0</td>\n",
              "      <td>0.0</td>\n",
              "      <td>0.0</td>\n",
              "      <td>0.0</td>\n",
              "      <td>0.0</td>\n",
              "    </tr>\n",
              "    <tr>\n",
              "      <th>1</th>\n",
              "      <td>0.0000</td>\n",
              "      <td>0.0</td>\n",
              "      <td>0.000000</td>\n",
              "      <td>0.0</td>\n",
              "      <td>0.0</td>\n",
              "      <td>0.0</td>\n",
              "      <td>0.0</td>\n",
              "      <td>0.0</td>\n",
              "      <td>0.0</td>\n",
              "      <td>0.0</td>\n",
              "      <td>...</td>\n",
              "      <td>0.0</td>\n",
              "      <td>0.0</td>\n",
              "      <td>0.0</td>\n",
              "      <td>0.0</td>\n",
              "      <td>0.0</td>\n",
              "      <td>0.0</td>\n",
              "      <td>0.0</td>\n",
              "      <td>0.0</td>\n",
              "      <td>0.0</td>\n",
              "      <td>0.0</td>\n",
              "    </tr>\n",
              "    <tr>\n",
              "      <th>2</th>\n",
              "      <td>0.0000</td>\n",
              "      <td>0.0</td>\n",
              "      <td>0.084973</td>\n",
              "      <td>0.0</td>\n",
              "      <td>0.0</td>\n",
              "      <td>0.0</td>\n",
              "      <td>0.0</td>\n",
              "      <td>0.0</td>\n",
              "      <td>0.0</td>\n",
              "      <td>0.0</td>\n",
              "      <td>...</td>\n",
              "      <td>0.0</td>\n",
              "      <td>0.0</td>\n",
              "      <td>0.0</td>\n",
              "      <td>0.0</td>\n",
              "      <td>0.0</td>\n",
              "      <td>0.0</td>\n",
              "      <td>0.0</td>\n",
              "      <td>0.0</td>\n",
              "      <td>0.0</td>\n",
              "      <td>0.0</td>\n",
              "    </tr>\n",
              "    <tr>\n",
              "      <th>3</th>\n",
              "      <td>0.0000</td>\n",
              "      <td>0.0</td>\n",
              "      <td>0.000000</td>\n",
              "      <td>0.0</td>\n",
              "      <td>0.0</td>\n",
              "      <td>0.0</td>\n",
              "      <td>0.0</td>\n",
              "      <td>0.0</td>\n",
              "      <td>0.0</td>\n",
              "      <td>0.0</td>\n",
              "      <td>...</td>\n",
              "      <td>0.0</td>\n",
              "      <td>0.0</td>\n",
              "      <td>0.0</td>\n",
              "      <td>0.0</td>\n",
              "      <td>0.0</td>\n",
              "      <td>0.0</td>\n",
              "      <td>0.0</td>\n",
              "      <td>0.0</td>\n",
              "      <td>0.0</td>\n",
              "      <td>0.0</td>\n",
              "    </tr>\n",
              "    <tr>\n",
              "      <th>4</th>\n",
              "      <td>0.0000</td>\n",
              "      <td>0.0</td>\n",
              "      <td>0.000000</td>\n",
              "      <td>0.0</td>\n",
              "      <td>0.0</td>\n",
              "      <td>0.0</td>\n",
              "      <td>0.0</td>\n",
              "      <td>0.0</td>\n",
              "      <td>0.0</td>\n",
              "      <td>0.0</td>\n",
              "      <td>...</td>\n",
              "      <td>0.0</td>\n",
              "      <td>0.0</td>\n",
              "      <td>0.0</td>\n",
              "      <td>0.0</td>\n",
              "      <td>0.0</td>\n",
              "      <td>0.0</td>\n",
              "      <td>0.0</td>\n",
              "      <td>0.0</td>\n",
              "      <td>0.0</td>\n",
              "      <td>0.0</td>\n",
              "    </tr>\n",
              "    <tr>\n",
              "      <th>...</th>\n",
              "      <td>...</td>\n",
              "      <td>...</td>\n",
              "      <td>...</td>\n",
              "      <td>...</td>\n",
              "      <td>...</td>\n",
              "      <td>...</td>\n",
              "      <td>...</td>\n",
              "      <td>...</td>\n",
              "      <td>...</td>\n",
              "      <td>...</td>\n",
              "      <td>...</td>\n",
              "      <td>...</td>\n",
              "      <td>...</td>\n",
              "      <td>...</td>\n",
              "      <td>...</td>\n",
              "      <td>...</td>\n",
              "      <td>...</td>\n",
              "      <td>...</td>\n",
              "      <td>...</td>\n",
              "      <td>...</td>\n",
              "      <td>...</td>\n",
              "    </tr>\n",
              "    <tr>\n",
              "      <th>1595</th>\n",
              "      <td>0.0000</td>\n",
              "      <td>0.0</td>\n",
              "      <td>0.000000</td>\n",
              "      <td>0.0</td>\n",
              "      <td>0.0</td>\n",
              "      <td>0.0</td>\n",
              "      <td>0.0</td>\n",
              "      <td>0.0</td>\n",
              "      <td>0.0</td>\n",
              "      <td>0.0</td>\n",
              "      <td>...</td>\n",
              "      <td>0.0</td>\n",
              "      <td>0.0</td>\n",
              "      <td>0.0</td>\n",
              "      <td>0.0</td>\n",
              "      <td>0.0</td>\n",
              "      <td>0.0</td>\n",
              "      <td>0.0</td>\n",
              "      <td>0.0</td>\n",
              "      <td>0.0</td>\n",
              "      <td>0.0</td>\n",
              "    </tr>\n",
              "    <tr>\n",
              "      <th>1596</th>\n",
              "      <td>0.0000</td>\n",
              "      <td>0.0</td>\n",
              "      <td>0.000000</td>\n",
              "      <td>0.0</td>\n",
              "      <td>0.0</td>\n",
              "      <td>0.0</td>\n",
              "      <td>0.0</td>\n",
              "      <td>0.0</td>\n",
              "      <td>0.0</td>\n",
              "      <td>0.0</td>\n",
              "      <td>...</td>\n",
              "      <td>0.0</td>\n",
              "      <td>0.0</td>\n",
              "      <td>0.0</td>\n",
              "      <td>0.0</td>\n",
              "      <td>0.0</td>\n",
              "      <td>0.0</td>\n",
              "      <td>0.0</td>\n",
              "      <td>0.0</td>\n",
              "      <td>0.0</td>\n",
              "      <td>0.0</td>\n",
              "    </tr>\n",
              "    <tr>\n",
              "      <th>1597</th>\n",
              "      <td>0.0000</td>\n",
              "      <td>0.0</td>\n",
              "      <td>0.000000</td>\n",
              "      <td>0.0</td>\n",
              "      <td>0.0</td>\n",
              "      <td>0.0</td>\n",
              "      <td>0.0</td>\n",
              "      <td>0.0</td>\n",
              "      <td>0.0</td>\n",
              "      <td>0.0</td>\n",
              "      <td>...</td>\n",
              "      <td>0.0</td>\n",
              "      <td>0.0</td>\n",
              "      <td>0.0</td>\n",
              "      <td>0.0</td>\n",
              "      <td>0.0</td>\n",
              "      <td>0.0</td>\n",
              "      <td>0.0</td>\n",
              "      <td>0.0</td>\n",
              "      <td>0.0</td>\n",
              "      <td>0.0</td>\n",
              "    </tr>\n",
              "    <tr>\n",
              "      <th>1598</th>\n",
              "      <td>0.0000</td>\n",
              "      <td>0.0</td>\n",
              "      <td>0.000000</td>\n",
              "      <td>0.0</td>\n",
              "      <td>0.0</td>\n",
              "      <td>0.0</td>\n",
              "      <td>0.0</td>\n",
              "      <td>0.0</td>\n",
              "      <td>0.0</td>\n",
              "      <td>0.0</td>\n",
              "      <td>...</td>\n",
              "      <td>0.0</td>\n",
              "      <td>0.0</td>\n",
              "      <td>0.0</td>\n",
              "      <td>0.0</td>\n",
              "      <td>0.0</td>\n",
              "      <td>0.0</td>\n",
              "      <td>0.0</td>\n",
              "      <td>0.0</td>\n",
              "      <td>0.0</td>\n",
              "      <td>0.0</td>\n",
              "    </tr>\n",
              "    <tr>\n",
              "      <th>1599</th>\n",
              "      <td>0.0000</td>\n",
              "      <td>0.0</td>\n",
              "      <td>0.000000</td>\n",
              "      <td>0.0</td>\n",
              "      <td>0.0</td>\n",
              "      <td>0.0</td>\n",
              "      <td>0.0</td>\n",
              "      <td>0.0</td>\n",
              "      <td>0.0</td>\n",
              "      <td>0.0</td>\n",
              "      <td>...</td>\n",
              "      <td>0.0</td>\n",
              "      <td>0.0</td>\n",
              "      <td>0.0</td>\n",
              "      <td>0.0</td>\n",
              "      <td>0.0</td>\n",
              "      <td>0.0</td>\n",
              "      <td>0.0</td>\n",
              "      <td>0.0</td>\n",
              "      <td>0.0</td>\n",
              "      <td>0.0</td>\n",
              "    </tr>\n",
              "  </tbody>\n",
              "</table>\n",
              "<p>1600 rows × 3616 columns</p>\n",
              "</div>"
            ],
            "text/plain": [
              "         aaa  abil       abl  abrupt  absenc  absent  absolut  absurd  abund  \\\n",
              "0     0.1882   0.0  0.000000     0.0     0.0     0.0      0.0     0.0    0.0   \n",
              "1     0.0000   0.0  0.000000     0.0     0.0     0.0      0.0     0.0    0.0   \n",
              "2     0.0000   0.0  0.084973     0.0     0.0     0.0      0.0     0.0    0.0   \n",
              "3     0.0000   0.0  0.000000     0.0     0.0     0.0      0.0     0.0    0.0   \n",
              "4     0.0000   0.0  0.000000     0.0     0.0     0.0      0.0     0.0    0.0   \n",
              "...      ...   ...       ...     ...     ...     ...      ...     ...    ...   \n",
              "1595  0.0000   0.0  0.000000     0.0     0.0     0.0      0.0     0.0    0.0   \n",
              "1596  0.0000   0.0  0.000000     0.0     0.0     0.0      0.0     0.0    0.0   \n",
              "1597  0.0000   0.0  0.000000     0.0     0.0     0.0      0.0     0.0    0.0   \n",
              "1598  0.0000   0.0  0.000000     0.0     0.0     0.0      0.0     0.0    0.0   \n",
              "1599  0.0000   0.0  0.000000     0.0     0.0     0.0      0.0     0.0    0.0   \n",
              "\n",
              "      abysm  ...  york  young  younger   yr  yuck  yummi  yup  zest  zone  zoo  \n",
              "0       0.0  ...   0.0    0.0      0.0  0.0   0.0    0.0  0.0   0.0   0.0  0.0  \n",
              "1       0.0  ...   0.0    0.0      0.0  0.0   0.0    0.0  0.0   0.0   0.0  0.0  \n",
              "2       0.0  ...   0.0    0.0      0.0  0.0   0.0    0.0  0.0   0.0   0.0  0.0  \n",
              "3       0.0  ...   0.0    0.0      0.0  0.0   0.0    0.0  0.0   0.0   0.0  0.0  \n",
              "4       0.0  ...   0.0    0.0      0.0  0.0   0.0    0.0  0.0   0.0   0.0  0.0  \n",
              "...     ...  ...   ...    ...      ...  ...   ...    ...  ...   ...   ...  ...  \n",
              "1595    0.0  ...   0.0    0.0      0.0  0.0   0.0    0.0  0.0   0.0   0.0  0.0  \n",
              "1596    0.0  ...   0.0    0.0      0.0  0.0   0.0    0.0  0.0   0.0   0.0  0.0  \n",
              "1597    0.0  ...   0.0    0.0      0.0  0.0   0.0    0.0  0.0   0.0   0.0  0.0  \n",
              "1598    0.0  ...   0.0    0.0      0.0  0.0   0.0    0.0  0.0   0.0   0.0  0.0  \n",
              "1599    0.0  ...   0.0    0.0      0.0  0.0   0.0    0.0  0.0   0.0   0.0  0.0  \n",
              "\n",
              "[1600 rows x 3616 columns]"
            ]
          },
          "execution_count": 36,
          "metadata": {},
          "output_type": "execute_result"
        }
      ],
      "source": [
        "palabras = vectorizer.get_feature_names_out()\n",
        "X = pd.DataFrame(BOW.todense(), index=datos.index, columns=palabras)\n",
        "X"
      ]
    },
    {
      "cell_type": "markdown",
      "metadata": {
        "id": "HsUOvs4wtYc5"
      },
      "source": [
        "# Regresión Logística sin penalización"
      ]
    },
    {
      "cell_type": "code",
      "execution_count": null,
      "metadata": {
        "colab": {
          "base_uri": "https://localhost:8080/"
        },
        "id": "nLOiWpuRrvmp",
        "outputId": "b5959b2b-1219-4af9-d1f7-80d141d0f655"
      },
      "outputs": [
        {
          "data": {
            "text/plain": [
              "0.85625"
            ]
          },
          "execution_count": 37,
          "metadata": {},
          "output_type": "execute_result"
        }
      ],
      "source": [
        "# Dividir datos en entrenamiento y prueba\n",
        "X_train, X_test , y_train, y_test = train_test_split(X, y, \n",
        "                                                     test_size=0.2, \n",
        "                                                     shuffle=True,   \n",
        "                                                     random_state=9\n",
        "                                                     )\n",
        "\n",
        "clasificador_rl = LogisticRegression(penalty= 'none',\n",
        "                                     random_state=4, \n",
        "                                     solver=\"newton-cg\").fit(X_train, y_train)\n",
        "clasificador_rl.score(X_test, y_test)"
      ]
    },
    {
      "cell_type": "code",
      "execution_count": null,
      "metadata": {
        "id": "nBkTz1lObzyK"
      },
      "outputs": [],
      "source": [
        "def evaluación(modelo, conjunto):\n",
        "    mensaje_error = 'conjunto solo puede ser \"entrenamieonto\" o \"prueba\"'\n",
        "    assert conjunto in ['entrenamiento', 'prueba'], mensaje_error\n",
        "\n",
        "\n",
        "    if conjunto == 'entrenamiento':\n",
        "      X = X_train\n",
        "      y = y_train\n",
        "    else:\n",
        "      X = X_test\n",
        "      y = y_test    \n",
        "   \n",
        "\n",
        "    y_pred = modelo.predict(X)\n",
        "    precision = accuracy_score(y, y_pred)*100\n",
        "\n",
        "    # creamos un diccionario con las etiquetas\n",
        "    data = {'y_Real':  y,\n",
        "            'y_Prediccion': y_pred\n",
        "            }\n",
        "    # lo convertimos en un DataFrame de pandas\n",
        "    df = pd.DataFrame(data, columns=['y_Real','y_Prediccion'])\n",
        "\n",
        "    # hacemos una tabla crusada para obtener la matriz de confusión\n",
        "    confusion_matrix = pd.crosstab(df['y_Real'], df['y_Prediccion'], \n",
        "                                   rownames=['Real'], colnames=['Predicción'])\n",
        "\n",
        "    # realizamos un mapa de calor\n",
        "    titulo = 'Datos:{}, precisión = {:4.2f}'.format(conjunto, precision)\n",
        "    sns.heatmap(confusion_matrix, annot=True, fmt='g').set(title = titulo)\n",
        "    plt.show()\n"
      ]
    },
    {
      "cell_type": "code",
      "execution_count": null,
      "metadata": {
        "colab": {
          "base_uri": "https://localhost:8080/",
          "height": 295
        },
        "id": "R_EJuvGG6C48",
        "outputId": "ad8cc179-40fc-4312-9c44-2c663be18d9c"
      },
      "outputs": [
        {
          "data": {
            "image/png": "[encoded data removed]",
            "text/plain": [
              "<Figure size 432x288 with 2 Axes>"
            ]
          },
          "metadata": {
            "needs_background": "light"
          },
          "output_type": "display_data"
        }
      ],
      "source": [
        "evaluación(clasificador_rl, 'entrenamiento')"
      ]
    },
    {
      "cell_type": "code",
      "execution_count": null,
      "metadata": {
        "colab": {
          "base_uri": "https://localhost:8080/",
          "height": 295
        },
        "id": "J2pDHPKm6W9y",
        "outputId": "be001586-402f-46a9-bb58-a5c806d740b7"
      },
      "outputs": [
        {
          "data": {
            "image/png": "[encoded data removed]",
            "text/plain": [
              "<Figure size 432x288 with 2 Axes>"
            ]
          },
          "metadata": {
            "needs_background": "light"
          },
          "output_type": "display_data"
        }
      ],
      "source": [
        "evaluación(clasificador_rl, 'prueba')"
      ]
    },
    {
      "cell_type": "markdown",
      "metadata": {
        "id": "iOgxoLJQ8twA"
      },
      "source": [
        "# Regresión Logística con penalización Ridge"
      ]
    },
    {
      "cell_type": "markdown",
      "metadata": {
        "id": "W5SPzv0QaMir"
      },
      "source": [
        "## ¿De qué magnitud debe ser la fueza de la regularización (parámetro  λ)?"
      ]
    },
    {
      "cell_type": "code",
      "execution_count": null,
      "metadata": {
        "colab": {
          "base_uri": "https://localhost:8080/",
          "height": 265
        },
        "id": "MkGuW-aNaphD",
        "outputId": "be2f8c90-be7d-45fa-b9fb-c101d189e390"
      },
      "outputs": [
        {
          "data": {
            "image/png": "[encoded data removed]",
            "text/plain": [
              "<Figure size 432x288 with 1 Axes>"
            ]
          },
          "metadata": {
            "needs_background": "light"
          },
          "output_type": "display_data"
        }
      ],
      "source": [
        "lambdas = np.logspace( -4, 4, 50)\n",
        "plt.plot(lambdas, linestyle='--', marker='o')\n",
        "plt.show()"
      ]
    },
    {
      "cell_type": "code",
      "execution_count": null,
      "metadata": {
        "colab": {
          "base_uri": "https://localhost:8080/"
        },
        "id": "TxZezFxehFka",
        "outputId": "ccdf0879-ac25-44a5-f0cc-d6c2bfa4280e"
      },
      "outputs": [
        {
          "data": {
            "text/plain": [
              "array([1.00000000e-04, 1.45634848e-04, 2.12095089e-04, 3.08884360e-04,\n",
              "       4.49843267e-04, 6.55128557e-04, 9.54095476e-04, 1.38949549e-03,\n",
              "       2.02358965e-03, 2.94705170e-03, 4.29193426e-03, 6.25055193e-03,\n",
              "       9.10298178e-03, 1.32571137e-02, 1.93069773e-02, 2.81176870e-02,\n",
              "       4.09491506e-02, 5.96362332e-02, 8.68511374e-02, 1.26485522e-01,\n",
              "       1.84206997e-01, 2.68269580e-01, 3.90693994e-01, 5.68986603e-01,\n",
              "       8.28642773e-01, 1.20679264e+00, 1.75751062e+00, 2.55954792e+00,\n",
              "       3.72759372e+00, 5.42867544e+00, 7.90604321e+00, 1.15139540e+01,\n",
              "       1.67683294e+01, 2.44205309e+01, 3.55648031e+01, 5.17947468e+01,\n",
              "       7.54312006e+01, 1.09854114e+02, 1.59985872e+02, 2.32995181e+02,\n",
              "       3.39322177e+02, 4.94171336e+02, 7.19685673e+02, 1.04811313e+03,\n",
              "       1.52641797e+03, 2.22299648e+03, 3.23745754e+03, 4.71486636e+03,\n",
              "       6.86648845e+03, 1.00000000e+04])"
            ]
          },
          "execution_count": 42,
          "metadata": {},
          "output_type": "execute_result"
        }
      ],
      "source": [
        "lambdas"
      ]
    },
    {
      "cell_type": "code",
      "execution_count": null,
      "metadata": {
        "colab": {
          "base_uri": "https://localhost:8080/"
        },
        "id": "Z5JDtr-phKjE",
        "outputId": "cbd9b2e8-8f51-47f4-f5ae-0b6547bbbaa5"
      },
      "outputs": [
        {
          "name": "stdout",
          "output_type": "stream",
          "text": [
            "CPU times: total: 5min 15s\n",
            "Wall time: 1min 12s\n"
          ]
        },
        {
          "data": {
            "text/html": [
              "<style>#sk-container-id-1 {color: black;background-color: white;}#sk-container-id-1 pre{padding: 0;}#sk-container-id-1 div.sk-toggleable {background-color: white;}#sk-container-id-1 label.sk-toggleable__label {cursor: pointer;display: block;width: 100%;margin-bottom: 0;padding: 0.3em;box-sizing: border-box;text-align: center;}#sk-container-id-1 label.sk-toggleable__label-arrow:before {content: \"▸\";float: left;margin-right: 0.25em;color: #696969;}#sk-container-id-1 label.sk-toggleable__label-arrow:hover:before {color: black;}#sk-container-id-1 div.sk-estimator:hover label.sk-toggleable__label-arrow:before {color: black;}#sk-container-id-1 div.sk-toggleable__content {max-height: 0;max-width: 0;overflow: hidden;text-align: left;background-color: #f0f8ff;}#sk-container-id-1 div.sk-toggleable__content pre {margin: 0.2em;color: black;border-radius: 0.25em;background-color: #f0f8ff;}#sk-container-id-1 input.sk-toggleable__control:checked~div.sk-toggleable__content {max-height: 200px;max-width: 100%;overflow: auto;}#sk-container-id-1 input.sk-toggleable__control:checked~label.sk-toggleable__label-arrow:before {content: \"▾\";}#sk-container-id-1 div.sk-estimator input.sk-toggleable__control:checked~label.sk-toggleable__label {background-color: #d4ebff;}#sk-container-id-1 div.sk-label input.sk-toggleable__control:checked~label.sk-toggleable__label {background-color: #d4ebff;}#sk-container-id-1 input.sk-hidden--visually {border: 0;clip: rect(1px 1px 1px 1px);clip: rect(1px, 1px, 1px, 1px);height: 1px;margin: -1px;overflow: hidden;padding: 0;position: absolute;width: 1px;}#sk-container-id-1 div.sk-estimator {font-family: monospace;background-color: #f0f8ff;border: 1px dotted black;border-radius: 0.25em;box-sizing: border-box;margin-bottom: 0.5em;}#sk-container-id-1 div.sk-estimator:hover {background-color: #d4ebff;}#sk-container-id-1 div.sk-parallel-item::after {content: \"\";width: 100%;border-bottom: 1px solid gray;flex-grow: 1;}#sk-container-id-1 div.sk-label:hover label.sk-toggleable__label {background-color: #d4ebff;}#sk-container-id-1 div.sk-serial::before {content: \"\";position: absolute;border-left: 1px solid gray;box-sizing: border-box;top: 0;bottom: 0;left: 50%;z-index: 0;}#sk-container-id-1 div.sk-serial {display: flex;flex-direction: column;align-items: center;background-color: white;padding-right: 0.2em;padding-left: 0.2em;position: relative;}#sk-container-id-1 div.sk-item {position: relative;z-index: 1;}#sk-container-id-1 div.sk-parallel {display: flex;align-items: stretch;justify-content: center;background-color: white;position: relative;}#sk-container-id-1 div.sk-item::before, #sk-container-id-1 div.sk-parallel-item::before {content: \"\";position: absolute;border-left: 1px solid gray;box-sizing: border-box;top: 0;bottom: 0;left: 50%;z-index: -1;}#sk-container-id-1 div.sk-parallel-item {display: flex;flex-direction: column;z-index: 1;position: relative;background-color: white;}#sk-container-id-1 div.sk-parallel-item:first-child::after {align-self: flex-end;width: 50%;}#sk-container-id-1 div.sk-parallel-item:last-child::after {align-self: flex-start;width: 50%;}#sk-container-id-1 div.sk-parallel-item:only-child::after {width: 0;}#sk-container-id-1 div.sk-dashed-wrapped {border: 1px dashed gray;margin: 0 0.4em 0.5em 0.4em;box-sizing: border-box;padding-bottom: 0.4em;background-color: white;}#sk-container-id-1 div.sk-label label {font-family: monospace;font-weight: bold;display: inline-block;line-height: 1.2em;}#sk-container-id-1 div.sk-label-container {text-align: center;}#sk-container-id-1 div.sk-container {/* jupyter's `normalize.less` sets `[hidden] { display: none; }` but bootstrap.min.css set `[hidden] { display: none !important; }` so we also need the `!important` here to be able to override the default hidden behavior on the sphinx rendered scikit-learn.org. See: https://github.com/scikit-learn/scikit-learn/issues/21755 */display: inline-block !important;position: relative;}#sk-container-id-1 div.sk-text-repr-fallback {display: none;}</style><div id=\"sk-container-id-1\" class=\"sk-top-container\"><div class=\"sk-text-repr-fallback\"><pre>GridSearchCV(cv=5, estimator=LogisticRegression(max_iter=500),\n",
              "             param_grid={&#x27;C&#x27;: array([1.00000000e+04, 6.86648845e+03, 4.71486636e+03, 3.23745754e+03,\n",
              "       2.22299648e+03, 1.52641797e+03, 1.04811313e+03, 7.19685673e+02,\n",
              "       4.94171336e+02, 3.39322177e+02, 2.32995181e+02, 1.59985872e+02,\n",
              "       1.09854114e+02, 7.54312006e+01, 5.17947468e+01, 3.55648031e+01,\n",
              "       2.44205309e+01, 1.67683294e...\n",
              "       1.20679264e+00, 8.28642773e-01, 5.68986603e-01, 3.90693994e-01,\n",
              "       2.68269580e-01, 1.84206997e-01, 1.26485522e-01, 8.68511374e-02,\n",
              "       5.96362332e-02, 4.09491506e-02, 2.81176870e-02, 1.93069773e-02,\n",
              "       1.32571137e-02, 9.10298178e-03, 6.25055193e-03, 4.29193426e-03,\n",
              "       2.94705170e-03, 2.02358965e-03, 1.38949549e-03, 9.54095476e-04,\n",
              "       6.55128557e-04, 4.49843267e-04, 3.08884360e-04, 2.12095089e-04,\n",
              "       1.45634848e-04, 1.00000000e-04])})</pre><b>In a Jupyter environment, please rerun this cell to show the HTML representation or trust the notebook. <br />On GitHub, the HTML representation is unable to render, please try loading this page with nbviewer.org.</b></div><div class=\"sk-container\" hidden><div class=\"sk-item sk-dashed-wrapped\"><div class=\"sk-label-container\"><div class=\"sk-label sk-toggleable\"><input class=\"sk-toggleable__control sk-hidden--visually\" id=\"sk-estimator-id-1\" type=\"checkbox\" ><label for=\"sk-estimator-id-1\" class=\"sk-toggleable__label sk-toggleable__label-arrow\">GridSearchCV</label><div class=\"sk-toggleable__content\"><pre>GridSearchCV(cv=5, estimator=LogisticRegression(max_iter=500),\n",
              "             param_grid={&#x27;C&#x27;: array([1.00000000e+04, 6.86648845e+03, 4.71486636e+03, 3.23745754e+03,\n",
              "       2.22299648e+03, 1.52641797e+03, 1.04811313e+03, 7.19685673e+02,\n",
              "       4.94171336e+02, 3.39322177e+02, 2.32995181e+02, 1.59985872e+02,\n",
              "       1.09854114e+02, 7.54312006e+01, 5.17947468e+01, 3.55648031e+01,\n",
              "       2.44205309e+01, 1.67683294e...\n",
              "       1.20679264e+00, 8.28642773e-01, 5.68986603e-01, 3.90693994e-01,\n",
              "       2.68269580e-01, 1.84206997e-01, 1.26485522e-01, 8.68511374e-02,\n",
              "       5.96362332e-02, 4.09491506e-02, 2.81176870e-02, 1.93069773e-02,\n",
              "       1.32571137e-02, 9.10298178e-03, 6.25055193e-03, 4.29193426e-03,\n",
              "       2.94705170e-03, 2.02358965e-03, 1.38949549e-03, 9.54095476e-04,\n",
              "       6.55128557e-04, 4.49843267e-04, 3.08884360e-04, 2.12095089e-04,\n",
              "       1.45634848e-04, 1.00000000e-04])})</pre></div></div></div><div class=\"sk-parallel\"><div class=\"sk-parallel-item\"><div class=\"sk-item\"><div class=\"sk-label-container\"><div class=\"sk-label sk-toggleable\"><input class=\"sk-toggleable__control sk-hidden--visually\" id=\"sk-estimator-id-2\" type=\"checkbox\" ><label for=\"sk-estimator-id-2\" class=\"sk-toggleable__label sk-toggleable__label-arrow\">estimator: LogisticRegression</label><div class=\"sk-toggleable__content\"><pre>LogisticRegression(max_iter=500)</pre></div></div></div><div class=\"sk-serial\"><div class=\"sk-item\"><div class=\"sk-estimator sk-toggleable\"><input class=\"sk-toggleable__control sk-hidden--visually\" id=\"sk-estimator-id-3\" type=\"checkbox\" ><label for=\"sk-estimator-id-3\" class=\"sk-toggleable__label sk-toggleable__label-arrow\">LogisticRegression</label><div class=\"sk-toggleable__content\"><pre>LogisticRegression(max_iter=500)</pre></div></div></div></div></div></div></div></div></div></div>"
            ],
            "text/plain": [
              "GridSearchCV(cv=5, estimator=LogisticRegression(max_iter=500),\n",
              "             param_grid={'C': array([1.00000000e+04, 6.86648845e+03, 4.71486636e+03, 3.23745754e+03,\n",
              "       2.22299648e+03, 1.52641797e+03, 1.04811313e+03, 7.19685673e+02,\n",
              "       4.94171336e+02, 3.39322177e+02, 2.32995181e+02, 1.59985872e+02,\n",
              "       1.09854114e+02, 7.54312006e+01, 5.17947468e+01, 3.55648031e+01,\n",
              "       2.44205309e+01, 1.67683294e...\n",
              "       1.20679264e+00, 8.28642773e-01, 5.68986603e-01, 3.90693994e-01,\n",
              "       2.68269580e-01, 1.84206997e-01, 1.26485522e-01, 8.68511374e-02,\n",
              "       5.96362332e-02, 4.09491506e-02, 2.81176870e-02, 1.93069773e-02,\n",
              "       1.32571137e-02, 9.10298178e-03, 6.25055193e-03, 4.29193426e-03,\n",
              "       2.94705170e-03, 2.02358965e-03, 1.38949549e-03, 9.54095476e-04,\n",
              "       6.55128557e-04, 4.49843267e-04, 3.08884360e-04, 2.12095089e-04,\n",
              "       1.45634848e-04, 1.00000000e-04])})"
            ]
          },
          "execution_count": 43,
          "metadata": {},
          "output_type": "execute_result"
        }
      ],
      "source": [
        "%%time\n",
        "from sklearn.model_selection import GridSearchCV\n",
        "grid_search = GridSearchCV(LogisticRegression(penalty='l2',max_iter=500), \n",
        "                           { 'C': 1/lambdas}, cv=5, return_train_score=False) #Parametro cv divide la base de datos en 5 partes\n",
        "grid_search.fit(X, y)"
      ]
    },
    {
      "cell_type": "code",
      "execution_count": null,
      "metadata": {
        "colab": {
          "base_uri": "https://localhost:8080/",
          "height": 1000
        },
        "id": "lGmDzpwx3O-3",
        "outputId": "c1596b9e-32d4-47d4-aba4-b7412c73a53d"
      },
      "outputs": [
        {
          "data": {
            "text/html": [
              "<div>\n",
              "<style scoped>\n",
              "    .dataframe tbody tr th:only-of-type {\n",
              "        vertical-align: middle;\n",
              "    }\n",
              "\n",
              "    .dataframe tbody tr th {\n",
              "        vertical-align: top;\n",
              "    }\n",
              "\n",
              "    .dataframe thead th {\n",
              "        text-align: right;\n",
              "    }\n",
              "</style>\n",
              "<table border=\"1\" class=\"dataframe\">\n",
              "  <thead>\n",
              "    <tr style=\"text-align: right;\">\n",
              "      <th></th>\n",
              "      <th>mean_fit_time</th>\n",
              "      <th>std_fit_time</th>\n",
              "      <th>mean_score_time</th>\n",
              "      <th>std_score_time</th>\n",
              "      <th>param_C</th>\n",
              "      <th>params</th>\n",
              "      <th>split0_test_score</th>\n",
              "      <th>split1_test_score</th>\n",
              "      <th>split2_test_score</th>\n",
              "      <th>split3_test_score</th>\n",
              "      <th>split4_test_score</th>\n",
              "      <th>mean_test_score</th>\n",
              "      <th>std_test_score</th>\n",
              "      <th>rank_test_score</th>\n",
              "    </tr>\n",
              "  </thead>\n",
              "  <tbody>\n",
              "    <tr>\n",
              "      <th>0</th>\n",
              "      <td>0.567199</td>\n",
              "      <td>0.071136</td>\n",
              "      <td>0.031199</td>\n",
              "      <td>0.002480</td>\n",
              "      <td>10000.0</td>\n",
              "      <td>{'C': 10000.0}</td>\n",
              "      <td>0.875000</td>\n",
              "      <td>0.828125</td>\n",
              "      <td>0.890625</td>\n",
              "      <td>0.856250</td>\n",
              "      <td>0.815625</td>\n",
              "      <td>0.853125</td>\n",
              "      <td>0.028021</td>\n",
              "      <td>21</td>\n",
              "    </tr>\n",
              "    <tr>\n",
              "      <th>1</th>\n",
              "      <td>0.559002</td>\n",
              "      <td>0.142942</td>\n",
              "      <td>0.026201</td>\n",
              "      <td>0.003309</td>\n",
              "      <td>6866.48845</td>\n",
              "      <td>{'C': 6866.488450042998}</td>\n",
              "      <td>0.875000</td>\n",
              "      <td>0.828125</td>\n",
              "      <td>0.890625</td>\n",
              "      <td>0.853125</td>\n",
              "      <td>0.815625</td>\n",
              "      <td>0.852500</td>\n",
              "      <td>0.027979</td>\n",
              "      <td>23</td>\n",
              "    </tr>\n",
              "    <tr>\n",
              "      <th>2</th>\n",
              "      <td>0.619005</td>\n",
              "      <td>0.175271</td>\n",
              "      <td>0.030796</td>\n",
              "      <td>0.008635</td>\n",
              "      <td>4714.866363</td>\n",
              "      <td>{'C': 4714.866363457394}</td>\n",
              "      <td>0.875000</td>\n",
              "      <td>0.828125</td>\n",
              "      <td>0.887500</td>\n",
              "      <td>0.856250</td>\n",
              "      <td>0.815625</td>\n",
              "      <td>0.852500</td>\n",
              "      <td>0.027200</td>\n",
              "      <td>23</td>\n",
              "    </tr>\n",
              "    <tr>\n",
              "      <th>3</th>\n",
              "      <td>0.531309</td>\n",
              "      <td>0.150980</td>\n",
              "      <td>0.029702</td>\n",
              "      <td>0.005708</td>\n",
              "      <td>3237.457543</td>\n",
              "      <td>{'C': 3237.4575428176436}</td>\n",
              "      <td>0.875000</td>\n",
              "      <td>0.825000</td>\n",
              "      <td>0.887500</td>\n",
              "      <td>0.856250</td>\n",
              "      <td>0.815625</td>\n",
              "      <td>0.851875</td>\n",
              "      <td>0.027783</td>\n",
              "      <td>26</td>\n",
              "    </tr>\n",
              "    <tr>\n",
              "      <th>4</th>\n",
              "      <td>0.588816</td>\n",
              "      <td>0.089226</td>\n",
              "      <td>0.033600</td>\n",
              "      <td>0.008891</td>\n",
              "      <td>2222.996483</td>\n",
              "      <td>{'C': 2222.9964825261955}</td>\n",
              "      <td>0.868750</td>\n",
              "      <td>0.825000</td>\n",
              "      <td>0.890625</td>\n",
              "      <td>0.856250</td>\n",
              "      <td>0.818750</td>\n",
              "      <td>0.851875</td>\n",
              "      <td>0.026926</td>\n",
              "      <td>26</td>\n",
              "    </tr>\n",
              "    <tr>\n",
              "      <th>5</th>\n",
              "      <td>0.506704</td>\n",
              "      <td>0.136628</td>\n",
              "      <td>0.023201</td>\n",
              "      <td>0.001473</td>\n",
              "      <td>1526.417967</td>\n",
              "      <td>{'C': 1526.4179671752333}</td>\n",
              "      <td>0.868750</td>\n",
              "      <td>0.825000</td>\n",
              "      <td>0.893750</td>\n",
              "      <td>0.856250</td>\n",
              "      <td>0.821875</td>\n",
              "      <td>0.853125</td>\n",
              "      <td>0.027099</td>\n",
              "      <td>19</td>\n",
              "    </tr>\n",
              "    <tr>\n",
              "      <th>6</th>\n",
              "      <td>0.453401</td>\n",
              "      <td>0.035245</td>\n",
              "      <td>0.025599</td>\n",
              "      <td>0.003931</td>\n",
              "      <td>1048.113134</td>\n",
              "      <td>{'C': 1048.1131341546852}</td>\n",
              "      <td>0.868750</td>\n",
              "      <td>0.825000</td>\n",
              "      <td>0.893750</td>\n",
              "      <td>0.856250</td>\n",
              "      <td>0.821875</td>\n",
              "      <td>0.853125</td>\n",
              "      <td>0.027099</td>\n",
              "      <td>19</td>\n",
              "    </tr>\n",
              "    <tr>\n",
              "      <th>7</th>\n",
              "      <td>0.491601</td>\n",
              "      <td>0.103515</td>\n",
              "      <td>0.023598</td>\n",
              "      <td>0.001625</td>\n",
              "      <td>719.685673</td>\n",
              "      <td>{'C': 719.6856730011522}</td>\n",
              "      <td>0.865625</td>\n",
              "      <td>0.825000</td>\n",
              "      <td>0.893750</td>\n",
              "      <td>0.856250</td>\n",
              "      <td>0.821875</td>\n",
              "      <td>0.852500</td>\n",
              "      <td>0.026766</td>\n",
              "      <td>23</td>\n",
              "    </tr>\n",
              "    <tr>\n",
              "      <th>8</th>\n",
              "      <td>0.420202</td>\n",
              "      <td>0.060139</td>\n",
              "      <td>0.023800</td>\n",
              "      <td>0.002038</td>\n",
              "      <td>494.171336</td>\n",
              "      <td>{'C': 494.1713361323838}</td>\n",
              "      <td>0.865625</td>\n",
              "      <td>0.825000</td>\n",
              "      <td>0.903125</td>\n",
              "      <td>0.856250</td>\n",
              "      <td>0.828125</td>\n",
              "      <td>0.855625</td>\n",
              "      <td>0.028463</td>\n",
              "      <td>17</td>\n",
              "    </tr>\n",
              "    <tr>\n",
              "      <th>9</th>\n",
              "      <td>0.571599</td>\n",
              "      <td>0.140263</td>\n",
              "      <td>0.030001</td>\n",
              "      <td>0.005217</td>\n",
              "      <td>339.322177</td>\n",
              "      <td>{'C': 339.32217718953297}</td>\n",
              "      <td>0.865625</td>\n",
              "      <td>0.825000</td>\n",
              "      <td>0.903125</td>\n",
              "      <td>0.856250</td>\n",
              "      <td>0.828125</td>\n",
              "      <td>0.855625</td>\n",
              "      <td>0.028463</td>\n",
              "      <td>17</td>\n",
              "    </tr>\n",
              "    <tr>\n",
              "      <th>10</th>\n",
              "      <td>0.540105</td>\n",
              "      <td>0.117324</td>\n",
              "      <td>0.024803</td>\n",
              "      <td>0.001723</td>\n",
              "      <td>232.995181</td>\n",
              "      <td>{'C': 232.99518105153717}</td>\n",
              "      <td>0.868750</td>\n",
              "      <td>0.828125</td>\n",
              "      <td>0.903125</td>\n",
              "      <td>0.856250</td>\n",
              "      <td>0.828125</td>\n",
              "      <td>0.856875</td>\n",
              "      <td>0.028049</td>\n",
              "      <td>15</td>\n",
              "    </tr>\n",
              "    <tr>\n",
              "      <th>11</th>\n",
              "      <td>0.455201</td>\n",
              "      <td>0.067706</td>\n",
              "      <td>0.026399</td>\n",
              "      <td>0.002871</td>\n",
              "      <td>159.985872</td>\n",
              "      <td>{'C': 159.9858719606059}</td>\n",
              "      <td>0.871875</td>\n",
              "      <td>0.831250</td>\n",
              "      <td>0.900000</td>\n",
              "      <td>0.853125</td>\n",
              "      <td>0.828125</td>\n",
              "      <td>0.856875</td>\n",
              "      <td>0.026766</td>\n",
              "      <td>15</td>\n",
              "    </tr>\n",
              "    <tr>\n",
              "      <th>12</th>\n",
              "      <td>0.480803</td>\n",
              "      <td>0.065297</td>\n",
              "      <td>0.025197</td>\n",
              "      <td>0.001721</td>\n",
              "      <td>109.854114</td>\n",
              "      <td>{'C': 109.85411419875585}</td>\n",
              "      <td>0.875000</td>\n",
              "      <td>0.837500</td>\n",
              "      <td>0.900000</td>\n",
              "      <td>0.853125</td>\n",
              "      <td>0.828125</td>\n",
              "      <td>0.858750</td>\n",
              "      <td>0.026026</td>\n",
              "      <td>12</td>\n",
              "    </tr>\n",
              "    <tr>\n",
              "      <th>13</th>\n",
              "      <td>0.416018</td>\n",
              "      <td>0.088251</td>\n",
              "      <td>0.025599</td>\n",
              "      <td>0.002415</td>\n",
              "      <td>75.431201</td>\n",
              "      <td>{'C': 75.43120063354623}</td>\n",
              "      <td>0.868750</td>\n",
              "      <td>0.840625</td>\n",
              "      <td>0.903125</td>\n",
              "      <td>0.853125</td>\n",
              "      <td>0.825000</td>\n",
              "      <td>0.858125</td>\n",
              "      <td>0.026707</td>\n",
              "      <td>13</td>\n",
              "    </tr>\n",
              "    <tr>\n",
              "      <th>14</th>\n",
              "      <td>0.353799</td>\n",
              "      <td>0.074514</td>\n",
              "      <td>0.024201</td>\n",
              "      <td>0.001328</td>\n",
              "      <td>51.794747</td>\n",
              "      <td>{'C': 51.794746792312125}</td>\n",
              "      <td>0.868750</td>\n",
              "      <td>0.840625</td>\n",
              "      <td>0.909375</td>\n",
              "      <td>0.856250</td>\n",
              "      <td>0.825000</td>\n",
              "      <td>0.860000</td>\n",
              "      <td>0.028736</td>\n",
              "      <td>11</td>\n",
              "    </tr>\n",
              "    <tr>\n",
              "      <th>15</th>\n",
              "      <td>0.407801</td>\n",
              "      <td>0.016917</td>\n",
              "      <td>0.025997</td>\n",
              "      <td>0.004048</td>\n",
              "      <td>35.564803</td>\n",
              "      <td>{'C': 35.56480306223132}</td>\n",
              "      <td>0.868750</td>\n",
              "      <td>0.843750</td>\n",
              "      <td>0.909375</td>\n",
              "      <td>0.856250</td>\n",
              "      <td>0.828125</td>\n",
              "      <td>0.861250</td>\n",
              "      <td>0.027571</td>\n",
              "      <td>9</td>\n",
              "    </tr>\n",
              "    <tr>\n",
              "      <th>16</th>\n",
              "      <td>0.352000</td>\n",
              "      <td>0.032490</td>\n",
              "      <td>0.026001</td>\n",
              "      <td>0.002527</td>\n",
              "      <td>24.420531</td>\n",
              "      <td>{'C': 24.420530945486522}</td>\n",
              "      <td>0.868750</td>\n",
              "      <td>0.843750</td>\n",
              "      <td>0.909375</td>\n",
              "      <td>0.856250</td>\n",
              "      <td>0.834375</td>\n",
              "      <td>0.862500</td>\n",
              "      <td>0.026146</td>\n",
              "      <td>8</td>\n",
              "    </tr>\n",
              "    <tr>\n",
              "      <th>17</th>\n",
              "      <td>0.357200</td>\n",
              "      <td>0.085775</td>\n",
              "      <td>0.025600</td>\n",
              "      <td>0.002414</td>\n",
              "      <td>16.768329</td>\n",
              "      <td>{'C': 16.768329368110084}</td>\n",
              "      <td>0.871875</td>\n",
              "      <td>0.840625</td>\n",
              "      <td>0.915625</td>\n",
              "      <td>0.853125</td>\n",
              "      <td>0.837500</td>\n",
              "      <td>0.863750</td>\n",
              "      <td>0.028614</td>\n",
              "      <td>7</td>\n",
              "    </tr>\n",
              "    <tr>\n",
              "      <th>18</th>\n",
              "      <td>0.302801</td>\n",
              "      <td>0.072823</td>\n",
              "      <td>0.023805</td>\n",
              "      <td>0.001946</td>\n",
              "      <td>11.513954</td>\n",
              "      <td>{'C': 11.51395399326448}</td>\n",
              "      <td>0.871875</td>\n",
              "      <td>0.837500</td>\n",
              "      <td>0.915625</td>\n",
              "      <td>0.853125</td>\n",
              "      <td>0.843750</td>\n",
              "      <td>0.864375</td>\n",
              "      <td>0.028132</td>\n",
              "      <td>5</td>\n",
              "    </tr>\n",
              "    <tr>\n",
              "      <th>19</th>\n",
              "      <td>0.311801</td>\n",
              "      <td>0.046034</td>\n",
              "      <td>0.027001</td>\n",
              "      <td>0.002191</td>\n",
              "      <td>7.906043</td>\n",
              "      <td>{'C': 7.906043210907702}</td>\n",
              "      <td>0.875000</td>\n",
              "      <td>0.834375</td>\n",
              "      <td>0.918750</td>\n",
              "      <td>0.850000</td>\n",
              "      <td>0.846875</td>\n",
              "      <td>0.865000</td>\n",
              "      <td>0.029935</td>\n",
              "      <td>4</td>\n",
              "    </tr>\n",
              "    <tr>\n",
              "      <th>20</th>\n",
              "      <td>0.319601</td>\n",
              "      <td>0.046142</td>\n",
              "      <td>0.027200</td>\n",
              "      <td>0.002638</td>\n",
              "      <td>5.428675</td>\n",
              "      <td>{'C': 5.4286754393238645}</td>\n",
              "      <td>0.871875</td>\n",
              "      <td>0.837500</td>\n",
              "      <td>0.921875</td>\n",
              "      <td>0.853125</td>\n",
              "      <td>0.846875</td>\n",
              "      <td>0.866250</td>\n",
              "      <td>0.030000</td>\n",
              "      <td>2</td>\n",
              "    </tr>\n",
              "    <tr>\n",
              "      <th>21</th>\n",
              "      <td>0.284999</td>\n",
              "      <td>0.057138</td>\n",
              "      <td>0.024802</td>\n",
              "      <td>0.002928</td>\n",
              "      <td>3.727594</td>\n",
              "      <td>{'C': 3.7275937203149416}</td>\n",
              "      <td>0.871875</td>\n",
              "      <td>0.846875</td>\n",
              "      <td>0.915625</td>\n",
              "      <td>0.853125</td>\n",
              "      <td>0.850000</td>\n",
              "      <td>0.867500</td>\n",
              "      <td>0.025587</td>\n",
              "      <td>1</td>\n",
              "    </tr>\n",
              "    <tr>\n",
              "      <th>22</th>\n",
              "      <td>0.258402</td>\n",
              "      <td>0.037580</td>\n",
              "      <td>0.025999</td>\n",
              "      <td>0.002966</td>\n",
              "      <td>2.559548</td>\n",
              "      <td>{'C': 2.5595479226995383}</td>\n",
              "      <td>0.862500</td>\n",
              "      <td>0.840625</td>\n",
              "      <td>0.909375</td>\n",
              "      <td>0.853125</td>\n",
              "      <td>0.862500</td>\n",
              "      <td>0.865625</td>\n",
              "      <td>0.023302</td>\n",
              "      <td>3</td>\n",
              "    </tr>\n",
              "    <tr>\n",
              "      <th>23</th>\n",
              "      <td>0.244202</td>\n",
              "      <td>0.008033</td>\n",
              "      <td>0.029200</td>\n",
              "      <td>0.003763</td>\n",
              "      <td>1.757511</td>\n",
              "      <td>{'C': 1.757510624854793}</td>\n",
              "      <td>0.865625</td>\n",
              "      <td>0.837500</td>\n",
              "      <td>0.909375</td>\n",
              "      <td>0.846875</td>\n",
              "      <td>0.862500</td>\n",
              "      <td>0.864375</td>\n",
              "      <td>0.024733</td>\n",
              "      <td>6</td>\n",
              "    </tr>\n",
              "    <tr>\n",
              "      <th>24</th>\n",
              "      <td>0.214202</td>\n",
              "      <td>0.030405</td>\n",
              "      <td>0.029200</td>\n",
              "      <td>0.003656</td>\n",
              "      <td>1.206793</td>\n",
              "      <td>{'C': 1.206792640639329}</td>\n",
              "      <td>0.865625</td>\n",
              "      <td>0.843750</td>\n",
              "      <td>0.900000</td>\n",
              "      <td>0.837500</td>\n",
              "      <td>0.856250</td>\n",
              "      <td>0.860625</td>\n",
              "      <td>0.021973</td>\n",
              "      <td>10</td>\n",
              "    </tr>\n",
              "    <tr>\n",
              "      <th>25</th>\n",
              "      <td>0.177599</td>\n",
              "      <td>0.006648</td>\n",
              "      <td>0.026398</td>\n",
              "      <td>0.001854</td>\n",
              "      <td>0.828643</td>\n",
              "      <td>{'C': 0.8286427728546844}</td>\n",
              "      <td>0.865625</td>\n",
              "      <td>0.843750</td>\n",
              "      <td>0.884375</td>\n",
              "      <td>0.837500</td>\n",
              "      <td>0.856250</td>\n",
              "      <td>0.857500</td>\n",
              "      <td>0.016607</td>\n",
              "      <td>14</td>\n",
              "    </tr>\n",
              "    <tr>\n",
              "      <th>26</th>\n",
              "      <td>0.154002</td>\n",
              "      <td>0.026706</td>\n",
              "      <td>0.024198</td>\n",
              "      <td>0.001167</td>\n",
              "      <td>0.568987</td>\n",
              "      <td>{'C': 0.5689866029018305}</td>\n",
              "      <td>0.862500</td>\n",
              "      <td>0.843750</td>\n",
              "      <td>0.875000</td>\n",
              "      <td>0.834375</td>\n",
              "      <td>0.850000</td>\n",
              "      <td>0.853125</td>\n",
              "      <td>0.014252</td>\n",
              "      <td>21</td>\n",
              "    </tr>\n",
              "    <tr>\n",
              "      <th>27</th>\n",
              "      <td>0.155203</td>\n",
              "      <td>0.010496</td>\n",
              "      <td>0.027798</td>\n",
              "      <td>0.003970</td>\n",
              "      <td>0.390694</td>\n",
              "      <td>{'C': 0.3906939937054621}</td>\n",
              "      <td>0.862500</td>\n",
              "      <td>0.840625</td>\n",
              "      <td>0.881250</td>\n",
              "      <td>0.825000</td>\n",
              "      <td>0.846875</td>\n",
              "      <td>0.851250</td>\n",
              "      <td>0.019223</td>\n",
              "      <td>28</td>\n",
              "    </tr>\n",
              "    <tr>\n",
              "      <th>28</th>\n",
              "      <td>0.120199</td>\n",
              "      <td>0.014510</td>\n",
              "      <td>0.024399</td>\n",
              "      <td>0.001356</td>\n",
              "      <td>0.26827</td>\n",
              "      <td>{'C': 0.2682695795279727}</td>\n",
              "      <td>0.862500</td>\n",
              "      <td>0.843750</td>\n",
              "      <td>0.881250</td>\n",
              "      <td>0.821875</td>\n",
              "      <td>0.837500</td>\n",
              "      <td>0.849375</td>\n",
              "      <td>0.020578</td>\n",
              "      <td>29</td>\n",
              "    </tr>\n",
              "    <tr>\n",
              "      <th>29</th>\n",
              "      <td>0.127001</td>\n",
              "      <td>0.010640</td>\n",
              "      <td>0.029599</td>\n",
              "      <td>0.002059</td>\n",
              "      <td>0.184207</td>\n",
              "      <td>{'C': 0.18420699693267165}</td>\n",
              "      <td>0.856250</td>\n",
              "      <td>0.843750</td>\n",
              "      <td>0.878125</td>\n",
              "      <td>0.821875</td>\n",
              "      <td>0.840625</td>\n",
              "      <td>0.848125</td>\n",
              "      <td>0.018604</td>\n",
              "      <td>30</td>\n",
              "    </tr>\n",
              "    <tr>\n",
              "      <th>30</th>\n",
              "      <td>0.133604</td>\n",
              "      <td>0.010011</td>\n",
              "      <td>0.035195</td>\n",
              "      <td>0.002788</td>\n",
              "      <td>0.126486</td>\n",
              "      <td>{'C': 0.12648552168552984}</td>\n",
              "      <td>0.856250</td>\n",
              "      <td>0.840625</td>\n",
              "      <td>0.875000</td>\n",
              "      <td>0.809375</td>\n",
              "      <td>0.840625</td>\n",
              "      <td>0.844375</td>\n",
              "      <td>0.021596</td>\n",
              "      <td>32</td>\n",
              "    </tr>\n",
              "    <tr>\n",
              "      <th>31</th>\n",
              "      <td>0.105199</td>\n",
              "      <td>0.014174</td>\n",
              "      <td>0.030203</td>\n",
              "      <td>0.003546</td>\n",
              "      <td>0.086851</td>\n",
              "      <td>{'C': 0.08685113737513538}</td>\n",
              "      <td>0.859375</td>\n",
              "      <td>0.843750</td>\n",
              "      <td>0.875000</td>\n",
              "      <td>0.809375</td>\n",
              "      <td>0.840625</td>\n",
              "      <td>0.845625</td>\n",
              "      <td>0.021884</td>\n",
              "      <td>31</td>\n",
              "    </tr>\n",
              "    <tr>\n",
              "      <th>32</th>\n",
              "      <td>0.109598</td>\n",
              "      <td>0.021736</td>\n",
              "      <td>0.035000</td>\n",
              "      <td>0.007669</td>\n",
              "      <td>0.059636</td>\n",
              "      <td>{'C': 0.05963623316594648}</td>\n",
              "      <td>0.853125</td>\n",
              "      <td>0.840625</td>\n",
              "      <td>0.875000</td>\n",
              "      <td>0.806250</td>\n",
              "      <td>0.837500</td>\n",
              "      <td>0.842500</td>\n",
              "      <td>0.022413</td>\n",
              "      <td>33</td>\n",
              "    </tr>\n",
              "    <tr>\n",
              "      <th>33</th>\n",
              "      <td>0.089201</td>\n",
              "      <td>0.009195</td>\n",
              "      <td>0.028800</td>\n",
              "      <td>0.006114</td>\n",
              "      <td>0.040949</td>\n",
              "      <td>{'C': 0.040949150623804276}</td>\n",
              "      <td>0.850000</td>\n",
              "      <td>0.840625</td>\n",
              "      <td>0.871875</td>\n",
              "      <td>0.809375</td>\n",
              "      <td>0.837500</td>\n",
              "      <td>0.841875</td>\n",
              "      <td>0.020214</td>\n",
              "      <td>34</td>\n",
              "    </tr>\n",
              "    <tr>\n",
              "      <th>34</th>\n",
              "      <td>0.080599</td>\n",
              "      <td>0.002245</td>\n",
              "      <td>0.024198</td>\n",
              "      <td>0.002135</td>\n",
              "      <td>0.028118</td>\n",
              "      <td>{'C': 0.02811768697974231}</td>\n",
              "      <td>0.850000</td>\n",
              "      <td>0.843750</td>\n",
              "      <td>0.871875</td>\n",
              "      <td>0.809375</td>\n",
              "      <td>0.834375</td>\n",
              "      <td>0.841875</td>\n",
              "      <td>0.020406</td>\n",
              "      <td>35</td>\n",
              "    </tr>\n",
              "    <tr>\n",
              "      <th>35</th>\n",
              "      <td>0.117400</td>\n",
              "      <td>0.067857</td>\n",
              "      <td>0.024999</td>\n",
              "      <td>0.002096</td>\n",
              "      <td>0.019307</td>\n",
              "      <td>{'C': 0.019306977288832537}</td>\n",
              "      <td>0.850000</td>\n",
              "      <td>0.843750</td>\n",
              "      <td>0.871875</td>\n",
              "      <td>0.809375</td>\n",
              "      <td>0.834375</td>\n",
              "      <td>0.841875</td>\n",
              "      <td>0.020406</td>\n",
              "      <td>35</td>\n",
              "    </tr>\n",
              "    <tr>\n",
              "      <th>36</th>\n",
              "      <td>0.089214</td>\n",
              "      <td>0.006600</td>\n",
              "      <td>0.030386</td>\n",
              "      <td>0.004085</td>\n",
              "      <td>0.013257</td>\n",
              "      <td>{'C': 0.013257113655901109}</td>\n",
              "      <td>0.846875</td>\n",
              "      <td>0.843750</td>\n",
              "      <td>0.875000</td>\n",
              "      <td>0.806250</td>\n",
              "      <td>0.834375</td>\n",
              "      <td>0.841250</td>\n",
              "      <td>0.022132</td>\n",
              "      <td>45</td>\n",
              "    </tr>\n",
              "    <tr>\n",
              "      <th>37</th>\n",
              "      <td>0.077400</td>\n",
              "      <td>0.004674</td>\n",
              "      <td>0.024199</td>\n",
              "      <td>0.004262</td>\n",
              "      <td>0.009103</td>\n",
              "      <td>{'C': 0.009102981779915227}</td>\n",
              "      <td>0.846875</td>\n",
              "      <td>0.843750</td>\n",
              "      <td>0.878125</td>\n",
              "      <td>0.806250</td>\n",
              "      <td>0.834375</td>\n",
              "      <td>0.841875</td>\n",
              "      <td>0.023100</td>\n",
              "      <td>35</td>\n",
              "    </tr>\n",
              "    <tr>\n",
              "      <th>38</th>\n",
              "      <td>0.082601</td>\n",
              "      <td>0.007087</td>\n",
              "      <td>0.026199</td>\n",
              "      <td>0.002787</td>\n",
              "      <td>0.006251</td>\n",
              "      <td>{'C': 0.006250551925273976}</td>\n",
              "      <td>0.846875</td>\n",
              "      <td>0.843750</td>\n",
              "      <td>0.878125</td>\n",
              "      <td>0.806250</td>\n",
              "      <td>0.834375</td>\n",
              "      <td>0.841875</td>\n",
              "      <td>0.023100</td>\n",
              "      <td>35</td>\n",
              "    </tr>\n",
              "    <tr>\n",
              "      <th>39</th>\n",
              "      <td>0.080402</td>\n",
              "      <td>0.003824</td>\n",
              "      <td>0.023200</td>\n",
              "      <td>0.001601</td>\n",
              "      <td>0.004292</td>\n",
              "      <td>{'C': 0.004291934260128787}</td>\n",
              "      <td>0.846875</td>\n",
              "      <td>0.843750</td>\n",
              "      <td>0.878125</td>\n",
              "      <td>0.806250</td>\n",
              "      <td>0.834375</td>\n",
              "      <td>0.841875</td>\n",
              "      <td>0.023100</td>\n",
              "      <td>35</td>\n",
              "    </tr>\n",
              "    <tr>\n",
              "      <th>40</th>\n",
              "      <td>0.091403</td>\n",
              "      <td>0.007473</td>\n",
              "      <td>0.030599</td>\n",
              "      <td>0.004883</td>\n",
              "      <td>0.002947</td>\n",
              "      <td>{'C': 0.0029470517025518158}</td>\n",
              "      <td>0.846875</td>\n",
              "      <td>0.843750</td>\n",
              "      <td>0.878125</td>\n",
              "      <td>0.806250</td>\n",
              "      <td>0.834375</td>\n",
              "      <td>0.841875</td>\n",
              "      <td>0.023100</td>\n",
              "      <td>35</td>\n",
              "    </tr>\n",
              "    <tr>\n",
              "      <th>41</th>\n",
              "      <td>0.077401</td>\n",
              "      <td>0.005886</td>\n",
              "      <td>0.028400</td>\n",
              "      <td>0.004758</td>\n",
              "      <td>0.002024</td>\n",
              "      <td>{'C': 0.0020235896477251596}</td>\n",
              "      <td>0.846875</td>\n",
              "      <td>0.843750</td>\n",
              "      <td>0.878125</td>\n",
              "      <td>0.806250</td>\n",
              "      <td>0.834375</td>\n",
              "      <td>0.841875</td>\n",
              "      <td>0.023100</td>\n",
              "      <td>35</td>\n",
              "    </tr>\n",
              "    <tr>\n",
              "      <th>42</th>\n",
              "      <td>0.081200</td>\n",
              "      <td>0.004489</td>\n",
              "      <td>0.027201</td>\n",
              "      <td>0.004705</td>\n",
              "      <td>0.001389</td>\n",
              "      <td>{'C': 0.001389495494373139}</td>\n",
              "      <td>0.846875</td>\n",
              "      <td>0.843750</td>\n",
              "      <td>0.878125</td>\n",
              "      <td>0.806250</td>\n",
              "      <td>0.834375</td>\n",
              "      <td>0.841875</td>\n",
              "      <td>0.023100</td>\n",
              "      <td>35</td>\n",
              "    </tr>\n",
              "    <tr>\n",
              "      <th>43</th>\n",
              "      <td>0.078004</td>\n",
              "      <td>0.003165</td>\n",
              "      <td>0.022195</td>\n",
              "      <td>0.002926</td>\n",
              "      <td>0.000954</td>\n",
              "      <td>{'C': 0.0009540954763499945}</td>\n",
              "      <td>0.846875</td>\n",
              "      <td>0.843750</td>\n",
              "      <td>0.878125</td>\n",
              "      <td>0.806250</td>\n",
              "      <td>0.834375</td>\n",
              "      <td>0.841875</td>\n",
              "      <td>0.023100</td>\n",
              "      <td>35</td>\n",
              "    </tr>\n",
              "    <tr>\n",
              "      <th>44</th>\n",
              "      <td>0.078799</td>\n",
              "      <td>0.000750</td>\n",
              "      <td>0.023202</td>\n",
              "      <td>0.001941</td>\n",
              "      <td>0.000655</td>\n",
              "      <td>{'C': 0.0006551285568595523}</td>\n",
              "      <td>0.846875</td>\n",
              "      <td>0.843750</td>\n",
              "      <td>0.878125</td>\n",
              "      <td>0.806250</td>\n",
              "      <td>0.834375</td>\n",
              "      <td>0.841875</td>\n",
              "      <td>0.023100</td>\n",
              "      <td>35</td>\n",
              "    </tr>\n",
              "    <tr>\n",
              "      <th>45</th>\n",
              "      <td>0.072800</td>\n",
              "      <td>0.005565</td>\n",
              "      <td>0.023600</td>\n",
              "      <td>0.001855</td>\n",
              "      <td>0.00045</td>\n",
              "      <td>{'C': 0.00044984326689694536}</td>\n",
              "      <td>0.850000</td>\n",
              "      <td>0.837500</td>\n",
              "      <td>0.859375</td>\n",
              "      <td>0.806250</td>\n",
              "      <td>0.834375</td>\n",
              "      <td>0.837500</td>\n",
              "      <td>0.018006</td>\n",
              "      <td>46</td>\n",
              "    </tr>\n",
              "    <tr>\n",
              "      <th>46</th>\n",
              "      <td>0.075002</td>\n",
              "      <td>0.001673</td>\n",
              "      <td>0.021998</td>\n",
              "      <td>0.001416</td>\n",
              "      <td>0.000309</td>\n",
              "      <td>{'C': 0.0003088843596477485}</td>\n",
              "      <td>0.850000</td>\n",
              "      <td>0.837500</td>\n",
              "      <td>0.853125</td>\n",
              "      <td>0.806250</td>\n",
              "      <td>0.834375</td>\n",
              "      <td>0.836250</td>\n",
              "      <td>0.016607</td>\n",
              "      <td>47</td>\n",
              "    </tr>\n",
              "    <tr>\n",
              "      <th>47</th>\n",
              "      <td>0.097002</td>\n",
              "      <td>0.012457</td>\n",
              "      <td>0.031812</td>\n",
              "      <td>0.003545</td>\n",
              "      <td>0.000212</td>\n",
              "      <td>{'C': 0.00021209508879201926}</td>\n",
              "      <td>0.846875</td>\n",
              "      <td>0.837500</td>\n",
              "      <td>0.875000</td>\n",
              "      <td>0.806250</td>\n",
              "      <td>0.787500</td>\n",
              "      <td>0.830625</td>\n",
              "      <td>0.030771</td>\n",
              "      <td>48</td>\n",
              "    </tr>\n",
              "    <tr>\n",
              "      <th>48</th>\n",
              "      <td>0.068604</td>\n",
              "      <td>0.003926</td>\n",
              "      <td>0.025195</td>\n",
              "      <td>0.002858</td>\n",
              "      <td>0.000146</td>\n",
              "      <td>{'C': 0.00014563484775012445}</td>\n",
              "      <td>0.734375</td>\n",
              "      <td>0.778125</td>\n",
              "      <td>0.800000</td>\n",
              "      <td>0.750000</td>\n",
              "      <td>0.784375</td>\n",
              "      <td>0.769375</td>\n",
              "      <td>0.023832</td>\n",
              "      <td>50</td>\n",
              "    </tr>\n",
              "    <tr>\n",
              "      <th>49</th>\n",
              "      <td>0.063603</td>\n",
              "      <td>0.001744</td>\n",
              "      <td>0.023998</td>\n",
              "      <td>0.002529</td>\n",
              "      <td>0.0001</td>\n",
              "      <td>{'C': 0.0001}</td>\n",
              "      <td>0.771875</td>\n",
              "      <td>0.790625</td>\n",
              "      <td>0.828125</td>\n",
              "      <td>0.796875</td>\n",
              "      <td>0.809375</td>\n",
              "      <td>0.799375</td>\n",
              "      <td>0.018792</td>\n",
              "      <td>49</td>\n",
              "    </tr>\n",
              "  </tbody>\n",
              "</table>\n",
              "</div>"
            ],
            "text/plain": [
              "    mean_fit_time  std_fit_time  mean_score_time  std_score_time      param_C  \\\n",
              "0        0.567199      0.071136         0.031199        0.002480      10000.0   \n",
              "1        0.559002      0.142942         0.026201        0.003309   6866.48845   \n",
              "2        0.619005      0.175271         0.030796        0.008635  4714.866363   \n",
              "3        0.531309      0.150980         0.029702        0.005708  3237.457543   \n",
              "4        0.588816      0.089226         0.033600        0.008891  2222.996483   \n",
              "5        0.506704      0.136628         0.023201        0.001473  1526.417967   \n",
              "6        0.453401      0.035245         0.025599        0.003931  1048.113134   \n",
              "7        0.491601      0.103515         0.023598        0.001625   719.685673   \n",
              "8        0.420202      0.060139         0.023800        0.002038   494.171336   \n",
              "9        0.571599      0.140263         0.030001        0.005217   339.322177   \n",
              "10       0.540105      0.117324         0.024803        0.001723   232.995181   \n",
              "11       0.455201      0.067706         0.026399        0.002871   159.985872   \n",
              "12       0.480803      0.065297         0.025197        0.001721   109.854114   \n",
              "13       0.416018      0.088251         0.025599        0.002415    75.431201   \n",
              "14       0.353799      0.074514         0.024201        0.001328    51.794747   \n",
              "15       0.407801      0.016917         0.025997        0.004048    35.564803   \n",
              "16       0.352000      0.032490         0.026001        0.002527    24.420531   \n",
              "17       0.357200      0.085775         0.025600        0.002414    16.768329   \n",
              "18       0.302801      0.072823         0.023805        0.001946    11.513954   \n",
              "19       0.311801      0.046034         0.027001        0.002191     7.906043   \n",
              "20       0.319601      0.046142         0.027200        0.002638     5.428675   \n",
              "21       0.284999      0.057138         0.024802        0.002928     3.727594   \n",
              "22       0.258402      0.037580         0.025999        0.002966     2.559548   \n",
              "23       0.244202      0.008033         0.029200        0.003763     1.757511   \n",
              "24       0.214202      0.030405         0.029200        0.003656     1.206793   \n",
              "25       0.177599      0.006648         0.026398        0.001854     0.828643   \n",
              "26       0.154002      0.026706         0.024198        0.001167     0.568987   \n",
              "27       0.155203      0.010496         0.027798        0.003970     0.390694   \n",
              "28       0.120199      0.014510         0.024399        0.001356      0.26827   \n",
              "29       0.127001      0.010640         0.029599        0.002059     0.184207   \n",
              "30       0.133604      0.010011         0.035195        0.002788     0.126486   \n",
              "31       0.105199      0.014174         0.030203        0.003546     0.086851   \n",
              "32       0.109598      0.021736         0.035000        0.007669     0.059636   \n",
              "33       0.089201      0.009195         0.028800        0.006114     0.040949   \n",
              "34       0.080599      0.002245         0.024198        0.002135     0.028118   \n",
              "35       0.117400      0.067857         0.024999        0.002096     0.019307   \n",
              "36       0.089214      0.006600         0.030386        0.004085     0.013257   \n",
              "37       0.077400      0.004674         0.024199        0.004262     0.009103   \n",
              "38       0.082601      0.007087         0.026199        0.002787     0.006251   \n",
              "39       0.080402      0.003824         0.023200        0.001601     0.004292   \n",
              "40       0.091403      0.007473         0.030599        0.004883     0.002947   \n",
              "41       0.077401      0.005886         0.028400        0.004758     0.002024   \n",
              "42       0.081200      0.004489         0.027201        0.004705     0.001389   \n",
              "43       0.078004      0.003165         0.022195        0.002926     0.000954   \n",
              "44       0.078799      0.000750         0.023202        0.001941     0.000655   \n",
              "45       0.072800      0.005565         0.023600        0.001855      0.00045   \n",
              "46       0.075002      0.001673         0.021998        0.001416     0.000309   \n",
              "47       0.097002      0.012457         0.031812        0.003545     0.000212   \n",
              "48       0.068604      0.003926         0.025195        0.002858     0.000146   \n",
              "49       0.063603      0.001744         0.023998        0.002529       0.0001   \n",
              "\n",
              "                           params  split0_test_score  split1_test_score  \\\n",
              "0                  {'C': 10000.0}           0.875000           0.828125   \n",
              "1        {'C': 6866.488450042998}           0.875000           0.828125   \n",
              "2        {'C': 4714.866363457394}           0.875000           0.828125   \n",
              "3       {'C': 3237.4575428176436}           0.875000           0.825000   \n",
              "4       {'C': 2222.9964825261955}           0.868750           0.825000   \n",
              "5       {'C': 1526.4179671752333}           0.868750           0.825000   \n",
              "6       {'C': 1048.1131341546852}           0.868750           0.825000   \n",
              "7        {'C': 719.6856730011522}           0.865625           0.825000   \n",
              "8        {'C': 494.1713361323838}           0.865625           0.825000   \n",
              "9       {'C': 339.32217718953297}           0.865625           0.825000   \n",
              "10      {'C': 232.99518105153717}           0.868750           0.828125   \n",
              "11       {'C': 159.9858719606059}           0.871875           0.831250   \n",
              "12      {'C': 109.85411419875585}           0.875000           0.837500   \n",
              "13       {'C': 75.43120063354623}           0.868750           0.840625   \n",
              "14      {'C': 51.794746792312125}           0.868750           0.840625   \n",
              "15       {'C': 35.56480306223132}           0.868750           0.843750   \n",
              "16      {'C': 24.420530945486522}           0.868750           0.843750   \n",
              "17      {'C': 16.768329368110084}           0.871875           0.840625   \n",
              "18       {'C': 11.51395399326448}           0.871875           0.837500   \n",
              "19       {'C': 7.906043210907702}           0.875000           0.834375   \n",
              "20      {'C': 5.4286754393238645}           0.871875           0.837500   \n",
              "21      {'C': 3.7275937203149416}           0.871875           0.846875   \n",
              "22      {'C': 2.5595479226995383}           0.862500           0.840625   \n",
              "23       {'C': 1.757510624854793}           0.865625           0.837500   \n",
              "24       {'C': 1.206792640639329}           0.865625           0.843750   \n",
              "25      {'C': 0.8286427728546844}           0.865625           0.843750   \n",
              "26      {'C': 0.5689866029018305}           0.862500           0.843750   \n",
              "27      {'C': 0.3906939937054621}           0.862500           0.840625   \n",
              "28      {'C': 0.2682695795279727}           0.862500           0.843750   \n",
              "29     {'C': 0.18420699693267165}           0.856250           0.843750   \n",
              "30     {'C': 0.12648552168552984}           0.856250           0.840625   \n",
              "31     {'C': 0.08685113737513538}           0.859375           0.843750   \n",
              "32     {'C': 0.05963623316594648}           0.853125           0.840625   \n",
              "33    {'C': 0.040949150623804276}           0.850000           0.840625   \n",
              "34     {'C': 0.02811768697974231}           0.850000           0.843750   \n",
              "35    {'C': 0.019306977288832537}           0.850000           0.843750   \n",
              "36    {'C': 0.013257113655901109}           0.846875           0.843750   \n",
              "37    {'C': 0.009102981779915227}           0.846875           0.843750   \n",
              "38    {'C': 0.006250551925273976}           0.846875           0.843750   \n",
              "39    {'C': 0.004291934260128787}           0.846875           0.843750   \n",
              "40   {'C': 0.0029470517025518158}           0.846875           0.843750   \n",
              "41   {'C': 0.0020235896477251596}           0.846875           0.843750   \n",
              "42    {'C': 0.001389495494373139}           0.846875           0.843750   \n",
              "43   {'C': 0.0009540954763499945}           0.846875           0.843750   \n",
              "44   {'C': 0.0006551285568595523}           0.846875           0.843750   \n",
              "45  {'C': 0.00044984326689694536}           0.850000           0.837500   \n",
              "46   {'C': 0.0003088843596477485}           0.850000           0.837500   \n",
              "47  {'C': 0.00021209508879201926}           0.846875           0.837500   \n",
              "48  {'C': 0.00014563484775012445}           0.734375           0.778125   \n",
              "49                  {'C': 0.0001}           0.771875           0.790625   \n",
              "\n",
              "    split2_test_score  split3_test_score  split4_test_score  mean_test_score  \\\n",
              "0            0.890625           0.856250           0.815625         0.853125   \n",
              "1            0.890625           0.853125           0.815625         0.852500   \n",
              "2            0.887500           0.856250           0.815625         0.852500   \n",
              "3            0.887500           0.856250           0.815625         0.851875   \n",
              "4            0.890625           0.856250           0.818750         0.851875   \n",
              "5            0.893750           0.856250           0.821875         0.853125   \n",
              "6            0.893750           0.856250           0.821875         0.853125   \n",
              "7            0.893750           0.856250           0.821875         0.852500   \n",
              "8            0.903125           0.856250           0.828125         0.855625   \n",
              "9            0.903125           0.856250           0.828125         0.855625   \n",
              "10           0.903125           0.856250           0.828125         0.856875   \n",
              "11           0.900000           0.853125           0.828125         0.856875   \n",
              "12           0.900000           0.853125           0.828125         0.858750   \n",
              "13           0.903125           0.853125           0.825000         0.858125   \n",
              "14           0.909375           0.856250           0.825000         0.860000   \n",
              "15           0.909375           0.856250           0.828125         0.861250   \n",
              "16           0.909375           0.856250           0.834375         0.862500   \n",
              "17           0.915625           0.853125           0.837500         0.863750   \n",
              "18           0.915625           0.853125           0.843750         0.864375   \n",
              "19           0.918750           0.850000           0.846875         0.865000   \n",
              "20           0.921875           0.853125           0.846875         0.866250   \n",
              "21           0.915625           0.853125           0.850000         0.867500   \n",
              "22           0.909375           0.853125           0.862500         0.865625   \n",
              "23           0.909375           0.846875           0.862500         0.864375   \n",
              "24           0.900000           0.837500           0.856250         0.860625   \n",
              "25           0.884375           0.837500           0.856250         0.857500   \n",
              "26           0.875000           0.834375           0.850000         0.853125   \n",
              "27           0.881250           0.825000           0.846875         0.851250   \n",
              "28           0.881250           0.821875           0.837500         0.849375   \n",
              "29           0.878125           0.821875           0.840625         0.848125   \n",
              "30           0.875000           0.809375           0.840625         0.844375   \n",
              "31           0.875000           0.809375           0.840625         0.845625   \n",
              "32           0.875000           0.806250           0.837500         0.842500   \n",
              "33           0.871875           0.809375           0.837500         0.841875   \n",
              "34           0.871875           0.809375           0.834375         0.841875   \n",
              "35           0.871875           0.809375           0.834375         0.841875   \n",
              "36           0.875000           0.806250           0.834375         0.841250   \n",
              "37           0.878125           0.806250           0.834375         0.841875   \n",
              "38           0.878125           0.806250           0.834375         0.841875   \n",
              "39           0.878125           0.806250           0.834375         0.841875   \n",
              "40           0.878125           0.806250           0.834375         0.841875   \n",
              "41           0.878125           0.806250           0.834375         0.841875   \n",
              "42           0.878125           0.806250           0.834375         0.841875   \n",
              "43           0.878125           0.806250           0.834375         0.841875   \n",
              "44           0.878125           0.806250           0.834375         0.841875   \n",
              "45           0.859375           0.806250           0.834375         0.837500   \n",
              "46           0.853125           0.806250           0.834375         0.836250   \n",
              "47           0.875000           0.806250           0.787500         0.830625   \n",
              "48           0.800000           0.750000           0.784375         0.769375   \n",
              "49           0.828125           0.796875           0.809375         0.799375   \n",
              "\n",
              "    std_test_score  rank_test_score  \n",
              "0         0.028021               21  \n",
              "1         0.027979               23  \n",
              "2         0.027200               23  \n",
              "3         0.027783               26  \n",
              "4         0.026926               26  \n",
              "5         0.027099               19  \n",
              "6         0.027099               19  \n",
              "7         0.026766               23  \n",
              "8         0.028463               17  \n",
              "9         0.028463               17  \n",
              "10        0.028049               15  \n",
              "11        0.026766               15  \n",
              "12        0.026026               12  \n",
              "13        0.026707               13  \n",
              "14        0.028736               11  \n",
              "15        0.027571                9  \n",
              "16        0.026146                8  \n",
              "17        0.028614                7  \n",
              "18        0.028132                5  \n",
              "19        0.029935                4  \n",
              "20        0.030000                2  \n",
              "21        0.025587                1  \n",
              "22        0.023302                3  \n",
              "23        0.024733                6  \n",
              "24        0.021973               10  \n",
              "25        0.016607               14  \n",
              "26        0.014252               21  \n",
              "27        0.019223               28  \n",
              "28        0.020578               29  \n",
              "29        0.018604               30  \n",
              "30        0.021596               32  \n",
              "31        0.021884               31  \n",
              "32        0.022413               33  \n",
              "33        0.020214               34  \n",
              "34        0.020406               35  \n",
              "35        0.020406               35  \n",
              "36        0.022132               45  \n",
              "37        0.023100               35  \n",
              "38        0.023100               35  \n",
              "39        0.023100               35  \n",
              "40        0.023100               35  \n",
              "41        0.023100               35  \n",
              "42        0.023100               35  \n",
              "43        0.023100               35  \n",
              "44        0.023100               35  \n",
              "45        0.018006               46  \n",
              "46        0.016607               47  \n",
              "47        0.030771               48  \n",
              "48        0.023832               50  \n",
              "49        0.018792               49  "
            ]
          },
          "execution_count": 44,
          "metadata": {},
          "output_type": "execute_result"
        }
      ],
      "source": [
        "pd.DataFrame(grid_search.cv_results_)"
      ]
    },
    {
      "cell_type": "code",
      "execution_count": null,
      "metadata": {
        "colab": {
          "base_uri": "https://localhost:8080/"
        },
        "id": "ylqD1WORmMC7",
        "outputId": "7a1dc765-c452-4522-bb3b-ab48e752f8e5"
      },
      "outputs": [
        {
          "data": {
            "text/plain": [
              "{'C': 3.7275937203149416}"
            ]
          },
          "execution_count": 45,
          "metadata": {},
          "output_type": "execute_result"
        }
      ],
      "source": [
        "grid_search.best_params_"
      ]
    },
    {
      "cell_type": "code",
      "execution_count": null,
      "metadata": {
        "colab": {
          "base_uri": "https://localhost:8080/"
        },
        "id": "nWEgRXmjma4v",
        "outputId": "9ec0c526-5038-43e3-9f5d-fa0dd4fa6fb8"
      },
      "outputs": [
        {
          "data": {
            "text/plain": [
              "0.2682695795279725"
            ]
          },
          "execution_count": 46,
          "metadata": {},
          "output_type": "execute_result"
        }
      ],
      "source": [
        "C = grid_search.best_params_['C']\n",
        "\n",
        "# valor de lambda\n",
        "1 / grid_search.best_params_['C']"
      ]
    },
    {
      "cell_type": "code",
      "execution_count": null,
      "metadata": {
        "id": "D7I3mWST8twQ"
      },
      "outputs": [],
      "source": [
        "clasificador_ridge = LogisticRegression(penalty= 'l2',  \n",
        "                                        C = C, \n",
        "                                        random_state=4, \n",
        "                                        solver=\"newton-cg\").fit(X_train, y_train)"
      ]
    },
    {
      "cell_type": "code",
      "execution_count": null,
      "metadata": {
        "colab": {
          "base_uri": "https://localhost:8080/",
          "height": 295
        },
        "id": "sU8_2urk8twQ",
        "outputId": "3711f280-7cea-4b93-ca4b-f8f1a6093d14"
      },
      "outputs": [
        {
          "data": {
            "image/png": "[encoded data removed]",
            "text/plain": [
              "<Figure size 432x288 with 2 Axes>"
            ]
          },
          "metadata": {
            "needs_background": "light"
          },
          "output_type": "display_data"
        }
      ],
      "source": [
        "evaluación(clasificador_ridge, 'entrenamiento')"
      ]
    },
    {
      "cell_type": "code",
      "execution_count": null,
      "metadata": {
        "colab": {
          "base_uri": "https://localhost:8080/",
          "height": 295
        },
        "id": "glhUjaEM8twR",
        "outputId": "a7592ada-fd0a-4cca-efed-c39b882be759"
      },
      "outputs": [
        {
          "data": {
            "image/png": "[encoded data removed]",
            "text/plain": [
              "<Figure size 432x288 with 2 Axes>"
            ]
          },
          "metadata": {
            "needs_background": "light"
          },
          "output_type": "display_data"
        }
      ],
      "source": [
        "evaluación(clasificador_ridge, 'prueba')"
      ]
    },
    {
      "cell_type": "markdown",
      "metadata": {
        "id": "7iIFqeUjzJwt"
      },
      "source": [
        "# Predicciones y certeza de la predicción"
      ]
    },
    {
      "cell_type": "code",
      "execution_count": null,
      "metadata": {
        "colab": {
          "base_uri": "https://localhost:8080/",
          "height": 1000
        },
        "id": "f7WosWzu8twR",
        "outputId": "c7a5dc81-ae3d-4a15-b559-54297be2aa49"
      },
      "outputs": [
        {
          "data": {
            "text/html": [
              "<div>\n",
              "<style scoped>\n",
              "    .dataframe tbody tr th:only-of-type {\n",
              "        vertical-align: middle;\n",
              "    }\n",
              "\n",
              "    .dataframe tbody tr th {\n",
              "        vertical-align: top;\n",
              "    }\n",
              "\n",
              "    .dataframe thead th {\n",
              "        text-align: right;\n",
              "    }\n",
              "</style>\n",
              "<table border=\"1\" class=\"dataframe\">\n",
              "  <thead>\n",
              "    <tr style=\"text-align: right;\">\n",
              "      <th></th>\n",
              "      <th>P(deceptive)</th>\n",
              "      <th>P(truthful)</th>\n",
              "      <th>y_pred_50</th>\n",
              "    </tr>\n",
              "  </thead>\n",
              "  <tbody>\n",
              "    <tr>\n",
              "      <th>185</th>\n",
              "      <td>0.628913</td>\n",
              "      <td>0.371087</td>\n",
              "      <td>deceptive</td>\n",
              "    </tr>\n",
              "    <tr>\n",
              "      <th>297</th>\n",
              "      <td>0.623633</td>\n",
              "      <td>0.376367</td>\n",
              "      <td>deceptive</td>\n",
              "    </tr>\n",
              "    <tr>\n",
              "      <th>22</th>\n",
              "      <td>0.622291</td>\n",
              "      <td>0.377709</td>\n",
              "      <td>deceptive</td>\n",
              "    </tr>\n",
              "    <tr>\n",
              "      <th>295</th>\n",
              "      <td>0.619522</td>\n",
              "      <td>0.380478</td>\n",
              "      <td>deceptive</td>\n",
              "    </tr>\n",
              "    <tr>\n",
              "      <th>264</th>\n",
              "      <td>0.619163</td>\n",
              "      <td>0.380837</td>\n",
              "      <td>deceptive</td>\n",
              "    </tr>\n",
              "    <tr>\n",
              "      <th>6</th>\n",
              "      <td>0.618594</td>\n",
              "      <td>0.381406</td>\n",
              "      <td>deceptive</td>\n",
              "    </tr>\n",
              "    <tr>\n",
              "      <th>244</th>\n",
              "      <td>0.607762</td>\n",
              "      <td>0.392238</td>\n",
              "      <td>deceptive</td>\n",
              "    </tr>\n",
              "    <tr>\n",
              "      <th>301</th>\n",
              "      <td>0.606972</td>\n",
              "      <td>0.393028</td>\n",
              "      <td>deceptive</td>\n",
              "    </tr>\n",
              "    <tr>\n",
              "      <th>4</th>\n",
              "      <td>0.596910</td>\n",
              "      <td>0.403090</td>\n",
              "      <td>deceptive</td>\n",
              "    </tr>\n",
              "    <tr>\n",
              "      <th>82</th>\n",
              "      <td>0.595718</td>\n",
              "      <td>0.404282</td>\n",
              "      <td>deceptive</td>\n",
              "    </tr>\n",
              "    <tr>\n",
              "      <th>153</th>\n",
              "      <td>0.591357</td>\n",
              "      <td>0.408643</td>\n",
              "      <td>deceptive</td>\n",
              "    </tr>\n",
              "    <tr>\n",
              "      <th>156</th>\n",
              "      <td>0.589288</td>\n",
              "      <td>0.410712</td>\n",
              "      <td>deceptive</td>\n",
              "    </tr>\n",
              "    <tr>\n",
              "      <th>313</th>\n",
              "      <td>0.588409</td>\n",
              "      <td>0.411591</td>\n",
              "      <td>deceptive</td>\n",
              "    </tr>\n",
              "    <tr>\n",
              "      <th>120</th>\n",
              "      <td>0.580379</td>\n",
              "      <td>0.419621</td>\n",
              "      <td>deceptive</td>\n",
              "    </tr>\n",
              "    <tr>\n",
              "      <th>127</th>\n",
              "      <td>0.569683</td>\n",
              "      <td>0.430317</td>\n",
              "      <td>deceptive</td>\n",
              "    </tr>\n",
              "    <tr>\n",
              "      <th>284</th>\n",
              "      <td>0.568850</td>\n",
              "      <td>0.431150</td>\n",
              "      <td>deceptive</td>\n",
              "    </tr>\n",
              "    <tr>\n",
              "      <th>49</th>\n",
              "      <td>0.568704</td>\n",
              "      <td>0.431296</td>\n",
              "      <td>deceptive</td>\n",
              "    </tr>\n",
              "    <tr>\n",
              "      <th>201</th>\n",
              "      <td>0.557977</td>\n",
              "      <td>0.442023</td>\n",
              "      <td>deceptive</td>\n",
              "    </tr>\n",
              "    <tr>\n",
              "      <th>67</th>\n",
              "      <td>0.557386</td>\n",
              "      <td>0.442614</td>\n",
              "      <td>deceptive</td>\n",
              "    </tr>\n",
              "    <tr>\n",
              "      <th>100</th>\n",
              "      <td>0.554767</td>\n",
              "      <td>0.445233</td>\n",
              "      <td>deceptive</td>\n",
              "    </tr>\n",
              "    <tr>\n",
              "      <th>318</th>\n",
              "      <td>0.553476</td>\n",
              "      <td>0.446524</td>\n",
              "      <td>deceptive</td>\n",
              "    </tr>\n",
              "    <tr>\n",
              "      <th>57</th>\n",
              "      <td>0.548513</td>\n",
              "      <td>0.451487</td>\n",
              "      <td>deceptive</td>\n",
              "    </tr>\n",
              "    <tr>\n",
              "      <th>199</th>\n",
              "      <td>0.547512</td>\n",
              "      <td>0.452488</td>\n",
              "      <td>deceptive</td>\n",
              "    </tr>\n",
              "    <tr>\n",
              "      <th>118</th>\n",
              "      <td>0.545275</td>\n",
              "      <td>0.454725</td>\n",
              "      <td>deceptive</td>\n",
              "    </tr>\n",
              "    <tr>\n",
              "      <th>230</th>\n",
              "      <td>0.544503</td>\n",
              "      <td>0.455497</td>\n",
              "      <td>deceptive</td>\n",
              "    </tr>\n",
              "    <tr>\n",
              "      <th>170</th>\n",
              "      <td>0.541229</td>\n",
              "      <td>0.458771</td>\n",
              "      <td>deceptive</td>\n",
              "    </tr>\n",
              "    <tr>\n",
              "      <th>279</th>\n",
              "      <td>0.539455</td>\n",
              "      <td>0.460545</td>\n",
              "      <td>deceptive</td>\n",
              "    </tr>\n",
              "    <tr>\n",
              "      <th>74</th>\n",
              "      <td>0.536511</td>\n",
              "      <td>0.463489</td>\n",
              "      <td>deceptive</td>\n",
              "    </tr>\n",
              "    <tr>\n",
              "      <th>246</th>\n",
              "      <td>0.530827</td>\n",
              "      <td>0.469173</td>\n",
              "      <td>deceptive</td>\n",
              "    </tr>\n",
              "    <tr>\n",
              "      <th>286</th>\n",
              "      <td>0.524177</td>\n",
              "      <td>0.475823</td>\n",
              "      <td>deceptive</td>\n",
              "    </tr>\n",
              "    <tr>\n",
              "      <th>64</th>\n",
              "      <td>0.521082</td>\n",
              "      <td>0.478918</td>\n",
              "      <td>deceptive</td>\n",
              "    </tr>\n",
              "    <tr>\n",
              "      <th>258</th>\n",
              "      <td>0.518214</td>\n",
              "      <td>0.481786</td>\n",
              "      <td>deceptive</td>\n",
              "    </tr>\n",
              "    <tr>\n",
              "      <th>86</th>\n",
              "      <td>0.510584</td>\n",
              "      <td>0.489416</td>\n",
              "      <td>deceptive</td>\n",
              "    </tr>\n",
              "    <tr>\n",
              "      <th>220</th>\n",
              "      <td>0.510402</td>\n",
              "      <td>0.489598</td>\n",
              "      <td>deceptive</td>\n",
              "    </tr>\n",
              "    <tr>\n",
              "      <th>50</th>\n",
              "      <td>0.508603</td>\n",
              "      <td>0.491397</td>\n",
              "      <td>deceptive</td>\n",
              "    </tr>\n",
              "    <tr>\n",
              "      <th>205</th>\n",
              "      <td>0.508061</td>\n",
              "      <td>0.491939</td>\n",
              "      <td>deceptive</td>\n",
              "    </tr>\n",
              "    <tr>\n",
              "      <th>17</th>\n",
              "      <td>0.503815</td>\n",
              "      <td>0.496185</td>\n",
              "      <td>deceptive</td>\n",
              "    </tr>\n",
              "    <tr>\n",
              "      <th>191</th>\n",
              "      <td>0.500975</td>\n",
              "      <td>0.499025</td>\n",
              "      <td>deceptive</td>\n",
              "    </tr>\n",
              "    <tr>\n",
              "      <th>252</th>\n",
              "      <td>0.495912</td>\n",
              "      <td>0.504088</td>\n",
              "      <td>truthful</td>\n",
              "    </tr>\n",
              "    <tr>\n",
              "      <th>172</th>\n",
              "      <td>0.486374</td>\n",
              "      <td>0.513626</td>\n",
              "      <td>truthful</td>\n",
              "    </tr>\n",
              "  </tbody>\n",
              "</table>\n",
              "</div>"
            ],
            "text/plain": [
              "     P(deceptive)  P(truthful)  y_pred_50\n",
              "185      0.628913     0.371087  deceptive\n",
              "297      0.623633     0.376367  deceptive\n",
              "22       0.622291     0.377709  deceptive\n",
              "295      0.619522     0.380478  deceptive\n",
              "264      0.619163     0.380837  deceptive\n",
              "6        0.618594     0.381406  deceptive\n",
              "244      0.607762     0.392238  deceptive\n",
              "301      0.606972     0.393028  deceptive\n",
              "4        0.596910     0.403090  deceptive\n",
              "82       0.595718     0.404282  deceptive\n",
              "153      0.591357     0.408643  deceptive\n",
              "156      0.589288     0.410712  deceptive\n",
              "313      0.588409     0.411591  deceptive\n",
              "120      0.580379     0.419621  deceptive\n",
              "127      0.569683     0.430317  deceptive\n",
              "284      0.568850     0.431150  deceptive\n",
              "49       0.568704     0.431296  deceptive\n",
              "201      0.557977     0.442023  deceptive\n",
              "67       0.557386     0.442614  deceptive\n",
              "100      0.554767     0.445233  deceptive\n",
              "318      0.553476     0.446524  deceptive\n",
              "57       0.548513     0.451487  deceptive\n",
              "199      0.547512     0.452488  deceptive\n",
              "118      0.545275     0.454725  deceptive\n",
              "230      0.544503     0.455497  deceptive\n",
              "170      0.541229     0.458771  deceptive\n",
              "279      0.539455     0.460545  deceptive\n",
              "74       0.536511     0.463489  deceptive\n",
              "246      0.530827     0.469173  deceptive\n",
              "286      0.524177     0.475823  deceptive\n",
              "64       0.521082     0.478918  deceptive\n",
              "258      0.518214     0.481786  deceptive\n",
              "86       0.510584     0.489416  deceptive\n",
              "220      0.510402     0.489598  deceptive\n",
              "50       0.508603     0.491397  deceptive\n",
              "205      0.508061     0.491939  deceptive\n",
              "17       0.503815     0.496185  deceptive\n",
              "191      0.500975     0.499025  deceptive\n",
              "252      0.495912     0.504088   truthful\n",
              "172      0.486374     0.513626   truthful"
            ]
          },
          "execution_count": 50,
          "metadata": {},
          "output_type": "execute_result"
        }
      ],
      "source": [
        "resultados = {'P(deceptive)' : clasificador_ridge.predict_proba(X_test)[:,0],\n",
        "              'P(truthful)' : clasificador_ridge.predict_proba(X_test)[:,1], \n",
        "              'y_pred_50' : clasificador_ridge.predict(X_test),          \n",
        "              }\n",
        "\n",
        "predicciones = pd.DataFrame(resultados)\n",
        "predicciones.sort_values('P(deceptive)',\n",
        "                         ascending=False).iloc[125:165]"
      ]
    },
    {
      "cell_type": "code",
      "execution_count": null,
      "metadata": {
        "colab": {
          "base_uri": "https://localhost:8080/",
          "height": 1000
        },
        "id": "6tNsgI_evNDe",
        "outputId": "fafe14fe-f621-48bd-af8a-0872b7a2b5a0"
      },
      "outputs": [
        {
          "data": {
            "text/html": [
              "<div>\n",
              "<style scoped>\n",
              "    .dataframe tbody tr th:only-of-type {\n",
              "        vertical-align: middle;\n",
              "    }\n",
              "\n",
              "    .dataframe tbody tr th {\n",
              "        vertical-align: top;\n",
              "    }\n",
              "\n",
              "    .dataframe thead th {\n",
              "        text-align: right;\n",
              "    }\n",
              "</style>\n",
              "<table border=\"1\" class=\"dataframe\">\n",
              "  <thead>\n",
              "    <tr style=\"text-align: right;\">\n",
              "      <th></th>\n",
              "      <th>P(deceptive)</th>\n",
              "      <th>P(truthful)</th>\n",
              "      <th>y_pred_50</th>\n",
              "      <th>y_pred_30</th>\n",
              "    </tr>\n",
              "  </thead>\n",
              "  <tbody>\n",
              "    <tr>\n",
              "      <th>185</th>\n",
              "      <td>0.628913</td>\n",
              "      <td>0.371087</td>\n",
              "      <td>deceptive</td>\n",
              "      <td>deceptive</td>\n",
              "    </tr>\n",
              "    <tr>\n",
              "      <th>297</th>\n",
              "      <td>0.623633</td>\n",
              "      <td>0.376367</td>\n",
              "      <td>deceptive</td>\n",
              "      <td>deceptive</td>\n",
              "    </tr>\n",
              "    <tr>\n",
              "      <th>22</th>\n",
              "      <td>0.622291</td>\n",
              "      <td>0.377709</td>\n",
              "      <td>deceptive</td>\n",
              "      <td>deceptive</td>\n",
              "    </tr>\n",
              "    <tr>\n",
              "      <th>295</th>\n",
              "      <td>0.619522</td>\n",
              "      <td>0.380478</td>\n",
              "      <td>deceptive</td>\n",
              "      <td>deceptive</td>\n",
              "    </tr>\n",
              "    <tr>\n",
              "      <th>264</th>\n",
              "      <td>0.619163</td>\n",
              "      <td>0.380837</td>\n",
              "      <td>deceptive</td>\n",
              "      <td>deceptive</td>\n",
              "    </tr>\n",
              "    <tr>\n",
              "      <th>6</th>\n",
              "      <td>0.618594</td>\n",
              "      <td>0.381406</td>\n",
              "      <td>deceptive</td>\n",
              "      <td>deceptive</td>\n",
              "    </tr>\n",
              "    <tr>\n",
              "      <th>244</th>\n",
              "      <td>0.607762</td>\n",
              "      <td>0.392238</td>\n",
              "      <td>deceptive</td>\n",
              "      <td>deceptive</td>\n",
              "    </tr>\n",
              "    <tr>\n",
              "      <th>301</th>\n",
              "      <td>0.606972</td>\n",
              "      <td>0.393028</td>\n",
              "      <td>deceptive</td>\n",
              "      <td>deceptive</td>\n",
              "    </tr>\n",
              "    <tr>\n",
              "      <th>4</th>\n",
              "      <td>0.596910</td>\n",
              "      <td>0.403090</td>\n",
              "      <td>deceptive</td>\n",
              "      <td>deceptive</td>\n",
              "    </tr>\n",
              "    <tr>\n",
              "      <th>82</th>\n",
              "      <td>0.595718</td>\n",
              "      <td>0.404282</td>\n",
              "      <td>deceptive</td>\n",
              "      <td>deceptive</td>\n",
              "    </tr>\n",
              "    <tr>\n",
              "      <th>153</th>\n",
              "      <td>0.591357</td>\n",
              "      <td>0.408643</td>\n",
              "      <td>deceptive</td>\n",
              "      <td>deceptive</td>\n",
              "    </tr>\n",
              "    <tr>\n",
              "      <th>156</th>\n",
              "      <td>0.589288</td>\n",
              "      <td>0.410712</td>\n",
              "      <td>deceptive</td>\n",
              "      <td>deceptive</td>\n",
              "    </tr>\n",
              "    <tr>\n",
              "      <th>313</th>\n",
              "      <td>0.588409</td>\n",
              "      <td>0.411591</td>\n",
              "      <td>deceptive</td>\n",
              "      <td>deceptive</td>\n",
              "    </tr>\n",
              "    <tr>\n",
              "      <th>120</th>\n",
              "      <td>0.580379</td>\n",
              "      <td>0.419621</td>\n",
              "      <td>deceptive</td>\n",
              "      <td>deceptive</td>\n",
              "    </tr>\n",
              "    <tr>\n",
              "      <th>127</th>\n",
              "      <td>0.569683</td>\n",
              "      <td>0.430317</td>\n",
              "      <td>deceptive</td>\n",
              "      <td>deceptive</td>\n",
              "    </tr>\n",
              "    <tr>\n",
              "      <th>284</th>\n",
              "      <td>0.568850</td>\n",
              "      <td>0.431150</td>\n",
              "      <td>deceptive</td>\n",
              "      <td>deceptive</td>\n",
              "    </tr>\n",
              "    <tr>\n",
              "      <th>49</th>\n",
              "      <td>0.568704</td>\n",
              "      <td>0.431296</td>\n",
              "      <td>deceptive</td>\n",
              "      <td>deceptive</td>\n",
              "    </tr>\n",
              "    <tr>\n",
              "      <th>201</th>\n",
              "      <td>0.557977</td>\n",
              "      <td>0.442023</td>\n",
              "      <td>deceptive</td>\n",
              "      <td>deceptive</td>\n",
              "    </tr>\n",
              "    <tr>\n",
              "      <th>67</th>\n",
              "      <td>0.557386</td>\n",
              "      <td>0.442614</td>\n",
              "      <td>deceptive</td>\n",
              "      <td>deceptive</td>\n",
              "    </tr>\n",
              "    <tr>\n",
              "      <th>100</th>\n",
              "      <td>0.554767</td>\n",
              "      <td>0.445233</td>\n",
              "      <td>deceptive</td>\n",
              "      <td>deceptive</td>\n",
              "    </tr>\n",
              "    <tr>\n",
              "      <th>318</th>\n",
              "      <td>0.553476</td>\n",
              "      <td>0.446524</td>\n",
              "      <td>deceptive</td>\n",
              "      <td>deceptive</td>\n",
              "    </tr>\n",
              "    <tr>\n",
              "      <th>57</th>\n",
              "      <td>0.548513</td>\n",
              "      <td>0.451487</td>\n",
              "      <td>deceptive</td>\n",
              "      <td>deceptive</td>\n",
              "    </tr>\n",
              "    <tr>\n",
              "      <th>199</th>\n",
              "      <td>0.547512</td>\n",
              "      <td>0.452488</td>\n",
              "      <td>deceptive</td>\n",
              "      <td>deceptive</td>\n",
              "    </tr>\n",
              "    <tr>\n",
              "      <th>118</th>\n",
              "      <td>0.545275</td>\n",
              "      <td>0.454725</td>\n",
              "      <td>deceptive</td>\n",
              "      <td>deceptive</td>\n",
              "    </tr>\n",
              "    <tr>\n",
              "      <th>230</th>\n",
              "      <td>0.544503</td>\n",
              "      <td>0.455497</td>\n",
              "      <td>deceptive</td>\n",
              "      <td>deceptive</td>\n",
              "    </tr>\n",
              "    <tr>\n",
              "      <th>170</th>\n",
              "      <td>0.541229</td>\n",
              "      <td>0.458771</td>\n",
              "      <td>deceptive</td>\n",
              "      <td>deceptive</td>\n",
              "    </tr>\n",
              "    <tr>\n",
              "      <th>279</th>\n",
              "      <td>0.539455</td>\n",
              "      <td>0.460545</td>\n",
              "      <td>deceptive</td>\n",
              "      <td>deceptive</td>\n",
              "    </tr>\n",
              "    <tr>\n",
              "      <th>74</th>\n",
              "      <td>0.536511</td>\n",
              "      <td>0.463489</td>\n",
              "      <td>deceptive</td>\n",
              "      <td>deceptive</td>\n",
              "    </tr>\n",
              "    <tr>\n",
              "      <th>246</th>\n",
              "      <td>0.530827</td>\n",
              "      <td>0.469173</td>\n",
              "      <td>deceptive</td>\n",
              "      <td>deceptive</td>\n",
              "    </tr>\n",
              "    <tr>\n",
              "      <th>286</th>\n",
              "      <td>0.524177</td>\n",
              "      <td>0.475823</td>\n",
              "      <td>deceptive</td>\n",
              "      <td>deceptive</td>\n",
              "    </tr>\n",
              "    <tr>\n",
              "      <th>64</th>\n",
              "      <td>0.521082</td>\n",
              "      <td>0.478918</td>\n",
              "      <td>deceptive</td>\n",
              "      <td>deceptive</td>\n",
              "    </tr>\n",
              "    <tr>\n",
              "      <th>258</th>\n",
              "      <td>0.518214</td>\n",
              "      <td>0.481786</td>\n",
              "      <td>deceptive</td>\n",
              "      <td>deceptive</td>\n",
              "    </tr>\n",
              "    <tr>\n",
              "      <th>86</th>\n",
              "      <td>0.510584</td>\n",
              "      <td>0.489416</td>\n",
              "      <td>deceptive</td>\n",
              "      <td>deceptive</td>\n",
              "    </tr>\n",
              "    <tr>\n",
              "      <th>220</th>\n",
              "      <td>0.510402</td>\n",
              "      <td>0.489598</td>\n",
              "      <td>deceptive</td>\n",
              "      <td>deceptive</td>\n",
              "    </tr>\n",
              "    <tr>\n",
              "      <th>50</th>\n",
              "      <td>0.508603</td>\n",
              "      <td>0.491397</td>\n",
              "      <td>deceptive</td>\n",
              "      <td>deceptive</td>\n",
              "    </tr>\n",
              "    <tr>\n",
              "      <th>205</th>\n",
              "      <td>0.508061</td>\n",
              "      <td>0.491939</td>\n",
              "      <td>deceptive</td>\n",
              "      <td>deceptive</td>\n",
              "    </tr>\n",
              "    <tr>\n",
              "      <th>17</th>\n",
              "      <td>0.503815</td>\n",
              "      <td>0.496185</td>\n",
              "      <td>deceptive</td>\n",
              "      <td>deceptive</td>\n",
              "    </tr>\n",
              "    <tr>\n",
              "      <th>191</th>\n",
              "      <td>0.500975</td>\n",
              "      <td>0.499025</td>\n",
              "      <td>deceptive</td>\n",
              "      <td>deceptive</td>\n",
              "    </tr>\n",
              "    <tr>\n",
              "      <th>252</th>\n",
              "      <td>0.495912</td>\n",
              "      <td>0.504088</td>\n",
              "      <td>truthful</td>\n",
              "      <td>deceptive</td>\n",
              "    </tr>\n",
              "    <tr>\n",
              "      <th>172</th>\n",
              "      <td>0.486374</td>\n",
              "      <td>0.513626</td>\n",
              "      <td>truthful</td>\n",
              "      <td>deceptive</td>\n",
              "    </tr>\n",
              "    <tr>\n",
              "      <th>267</th>\n",
              "      <td>0.482717</td>\n",
              "      <td>0.517283</td>\n",
              "      <td>truthful</td>\n",
              "      <td>deceptive</td>\n",
              "    </tr>\n",
              "    <tr>\n",
              "      <th>315</th>\n",
              "      <td>0.478068</td>\n",
              "      <td>0.521932</td>\n",
              "      <td>truthful</td>\n",
              "      <td>deceptive</td>\n",
              "    </tr>\n",
              "    <tr>\n",
              "      <th>206</th>\n",
              "      <td>0.475212</td>\n",
              "      <td>0.524788</td>\n",
              "      <td>truthful</td>\n",
              "      <td>deceptive</td>\n",
              "    </tr>\n",
              "    <tr>\n",
              "      <th>102</th>\n",
              "      <td>0.474689</td>\n",
              "      <td>0.525311</td>\n",
              "      <td>truthful</td>\n",
              "      <td>deceptive</td>\n",
              "    </tr>\n",
              "    <tr>\n",
              "      <th>296</th>\n",
              "      <td>0.466471</td>\n",
              "      <td>0.533529</td>\n",
              "      <td>truthful</td>\n",
              "      <td>deceptive</td>\n",
              "    </tr>\n",
              "    <tr>\n",
              "      <th>203</th>\n",
              "      <td>0.463842</td>\n",
              "      <td>0.536158</td>\n",
              "      <td>truthful</td>\n",
              "      <td>deceptive</td>\n",
              "    </tr>\n",
              "    <tr>\n",
              "      <th>14</th>\n",
              "      <td>0.463284</td>\n",
              "      <td>0.536716</td>\n",
              "      <td>truthful</td>\n",
              "      <td>deceptive</td>\n",
              "    </tr>\n",
              "    <tr>\n",
              "      <th>247</th>\n",
              "      <td>0.453216</td>\n",
              "      <td>0.546784</td>\n",
              "      <td>truthful</td>\n",
              "      <td>deceptive</td>\n",
              "    </tr>\n",
              "    <tr>\n",
              "      <th>224</th>\n",
              "      <td>0.450460</td>\n",
              "      <td>0.549540</td>\n",
              "      <td>truthful</td>\n",
              "      <td>deceptive</td>\n",
              "    </tr>\n",
              "    <tr>\n",
              "      <th>132</th>\n",
              "      <td>0.448473</td>\n",
              "      <td>0.551527</td>\n",
              "      <td>truthful</td>\n",
              "      <td>deceptive</td>\n",
              "    </tr>\n",
              "    <tr>\n",
              "      <th>31</th>\n",
              "      <td>0.441883</td>\n",
              "      <td>0.558117</td>\n",
              "      <td>truthful</td>\n",
              "      <td>deceptive</td>\n",
              "    </tr>\n",
              "    <tr>\n",
              "      <th>123</th>\n",
              "      <td>0.441073</td>\n",
              "      <td>0.558927</td>\n",
              "      <td>truthful</td>\n",
              "      <td>deceptive</td>\n",
              "    </tr>\n",
              "    <tr>\n",
              "      <th>119</th>\n",
              "      <td>0.436135</td>\n",
              "      <td>0.563865</td>\n",
              "      <td>truthful</td>\n",
              "      <td>deceptive</td>\n",
              "    </tr>\n",
              "    <tr>\n",
              "      <th>222</th>\n",
              "      <td>0.435753</td>\n",
              "      <td>0.564247</td>\n",
              "      <td>truthful</td>\n",
              "      <td>deceptive</td>\n",
              "    </tr>\n",
              "    <tr>\n",
              "      <th>126</th>\n",
              "      <td>0.432205</td>\n",
              "      <td>0.567795</td>\n",
              "      <td>truthful</td>\n",
              "      <td>deceptive</td>\n",
              "    </tr>\n",
              "    <tr>\n",
              "      <th>103</th>\n",
              "      <td>0.428882</td>\n",
              "      <td>0.571118</td>\n",
              "      <td>truthful</td>\n",
              "      <td>deceptive</td>\n",
              "    </tr>\n",
              "    <tr>\n",
              "      <th>215</th>\n",
              "      <td>0.422376</td>\n",
              "      <td>0.577624</td>\n",
              "      <td>truthful</td>\n",
              "      <td>deceptive</td>\n",
              "    </tr>\n",
              "    <tr>\n",
              "      <th>248</th>\n",
              "      <td>0.420679</td>\n",
              "      <td>0.579321</td>\n",
              "      <td>truthful</td>\n",
              "      <td>deceptive</td>\n",
              "    </tr>\n",
              "    <tr>\n",
              "      <th>202</th>\n",
              "      <td>0.414713</td>\n",
              "      <td>0.585287</td>\n",
              "      <td>truthful</td>\n",
              "      <td>deceptive</td>\n",
              "    </tr>\n",
              "    <tr>\n",
              "      <th>72</th>\n",
              "      <td>0.412548</td>\n",
              "      <td>0.587452</td>\n",
              "      <td>truthful</td>\n",
              "      <td>deceptive</td>\n",
              "    </tr>\n",
              "  </tbody>\n",
              "</table>\n",
              "</div>"
            ],
            "text/plain": [
              "     P(deceptive)  P(truthful)  y_pred_50  y_pred_30\n",
              "185      0.628913     0.371087  deceptive  deceptive\n",
              "297      0.623633     0.376367  deceptive  deceptive\n",
              "22       0.622291     0.377709  deceptive  deceptive\n",
              "295      0.619522     0.380478  deceptive  deceptive\n",
              "264      0.619163     0.380837  deceptive  deceptive\n",
              "6        0.618594     0.381406  deceptive  deceptive\n",
              "244      0.607762     0.392238  deceptive  deceptive\n",
              "301      0.606972     0.393028  deceptive  deceptive\n",
              "4        0.596910     0.403090  deceptive  deceptive\n",
              "82       0.595718     0.404282  deceptive  deceptive\n",
              "153      0.591357     0.408643  deceptive  deceptive\n",
              "156      0.589288     0.410712  deceptive  deceptive\n",
              "313      0.588409     0.411591  deceptive  deceptive\n",
              "120      0.580379     0.419621  deceptive  deceptive\n",
              "127      0.569683     0.430317  deceptive  deceptive\n",
              "284      0.568850     0.431150  deceptive  deceptive\n",
              "49       0.568704     0.431296  deceptive  deceptive\n",
              "201      0.557977     0.442023  deceptive  deceptive\n",
              "67       0.557386     0.442614  deceptive  deceptive\n",
              "100      0.554767     0.445233  deceptive  deceptive\n",
              "318      0.553476     0.446524  deceptive  deceptive\n",
              "57       0.548513     0.451487  deceptive  deceptive\n",
              "199      0.547512     0.452488  deceptive  deceptive\n",
              "118      0.545275     0.454725  deceptive  deceptive\n",
              "230      0.544503     0.455497  deceptive  deceptive\n",
              "170      0.541229     0.458771  deceptive  deceptive\n",
              "279      0.539455     0.460545  deceptive  deceptive\n",
              "74       0.536511     0.463489  deceptive  deceptive\n",
              "246      0.530827     0.469173  deceptive  deceptive\n",
              "286      0.524177     0.475823  deceptive  deceptive\n",
              "64       0.521082     0.478918  deceptive  deceptive\n",
              "258      0.518214     0.481786  deceptive  deceptive\n",
              "86       0.510584     0.489416  deceptive  deceptive\n",
              "220      0.510402     0.489598  deceptive  deceptive\n",
              "50       0.508603     0.491397  deceptive  deceptive\n",
              "205      0.508061     0.491939  deceptive  deceptive\n",
              "17       0.503815     0.496185  deceptive  deceptive\n",
              "191      0.500975     0.499025  deceptive  deceptive\n",
              "252      0.495912     0.504088   truthful  deceptive\n",
              "172      0.486374     0.513626   truthful  deceptive\n",
              "267      0.482717     0.517283   truthful  deceptive\n",
              "315      0.478068     0.521932   truthful  deceptive\n",
              "206      0.475212     0.524788   truthful  deceptive\n",
              "102      0.474689     0.525311   truthful  deceptive\n",
              "296      0.466471     0.533529   truthful  deceptive\n",
              "203      0.463842     0.536158   truthful  deceptive\n",
              "14       0.463284     0.536716   truthful  deceptive\n",
              "247      0.453216     0.546784   truthful  deceptive\n",
              "224      0.450460     0.549540   truthful  deceptive\n",
              "132      0.448473     0.551527   truthful  deceptive\n",
              "31       0.441883     0.558117   truthful  deceptive\n",
              "123      0.441073     0.558927   truthful  deceptive\n",
              "119      0.436135     0.563865   truthful  deceptive\n",
              "222      0.435753     0.564247   truthful  deceptive\n",
              "126      0.432205     0.567795   truthful  deceptive\n",
              "103      0.428882     0.571118   truthful  deceptive\n",
              "215      0.422376     0.577624   truthful  deceptive\n",
              "248      0.420679     0.579321   truthful  deceptive\n",
              "202      0.414713     0.585287   truthful  deceptive\n",
              "72       0.412548     0.587452   truthful  deceptive"
            ]
          },
          "execution_count": 51,
          "metadata": {},
          "output_type": "execute_result"
        }
      ],
      "source": [
        "predicciones['y_pred_30'] = np.where( predicciones['P(deceptive)'] > .3, 'deceptive', 'truthful')\n",
        "predicciones.sort_values('P(deceptive)',\n",
        "                         ascending=False).iloc[125:185]"
      ]
    },
    {
      "cell_type": "markdown",
      "metadata": {
        "id": "9fiBC80MrRol"
      },
      "source": [
        "### grafica_roc"
      ]
    },
    {
      "cell_type": "code",
      "execution_count": null,
      "metadata": {
        "id": "w-Y0y-f5KTCO"
      },
      "outputs": [],
      "source": [
        "def grafica_roc(clf, y_test):\n",
        "    '''Grafica la curva ROC para el conjunto de prueba'''\n",
        "    y_test_score = clf.predict_proba(X_test)[:, 1]\n",
        "    fpr, tpr, _ = roc_curve( y_test, y_test_score)\n",
        "    roc_auc = auc(fpr, tpr)  #Area bajo la curva (AUC, por sus siglas en inglés)\n",
        "    plt.figure()\n",
        "    plt.plot(fpr, tpr, label=\"Curva ROC (area = %0.2f)\" % roc_auc)  \n",
        "    plt.plot([0, 1], [0, 1], \"--\")\n",
        "    plt.xlim([0.0, 1.0]) \n",
        "    plt.ylim([0.0, 1.05])\n",
        "    plt.xlabel(\"False Positive Rate\")\n",
        "    plt.ylabel(\"True Positive Rate\")\n",
        "    plt.title(\"Receiver operating characteristic\")\n",
        "    plt.legend(loc=\"lower right\")\n",
        "    plt.show()\n",
        "\n"
      ]
    },
    {
      "cell_type": "code",
      "execution_count": null,
      "metadata": {
        "id": "R79C8oib61HU"
      },
      "outputs": [],
      "source": [
        "ytest_bin = np.where(y_test=='deceptive', 0, 1)\n"
      ]
    },
    {
      "cell_type": "code",
      "execution_count": null,
      "metadata": {
        "id": "XiTAPkWu7TpO"
      },
      "outputs": [],
      "source": []
    },
    {
      "cell_type": "code",
      "execution_count": null,
      "metadata": {
        "colab": {
          "base_uri": "https://localhost:8080/",
          "height": 1000
        },
        "id": "gWfz0WtQwTnf",
        "outputId": "89826dce-7773-4c30-cd86-8597a35ba305"
      },
      "outputs": [
        {
          "data": {
            "text/html": [
              "<div>\n",
              "<style scoped>\n",
              "    .dataframe tbody tr th:only-of-type {\n",
              "        vertical-align: middle;\n",
              "    }\n",
              "\n",
              "    .dataframe tbody tr th {\n",
              "        vertical-align: top;\n",
              "    }\n",
              "\n",
              "    .dataframe thead th {\n",
              "        text-align: right;\n",
              "    }\n",
              "</style>\n",
              "<table border=\"1\" class=\"dataframe\">\n",
              "  <thead>\n",
              "    <tr style=\"text-align: right;\">\n",
              "      <th></th>\n",
              "      <th>fpr</th>\n",
              "      <th>tpr</th>\n",
              "      <th>d_optimo</th>\n",
              "      <th>thresholds</th>\n",
              "      <th>umbral_decisión</th>\n",
              "    </tr>\n",
              "  </thead>\n",
              "  <tbody>\n",
              "    <tr>\n",
              "      <th>0</th>\n",
              "      <td>0.000000</td>\n",
              "      <td>0.000000</td>\n",
              "      <td>1.000000</td>\n",
              "      <td>1.991945</td>\n",
              "      <td>1.000000</td>\n",
              "    </tr>\n",
              "    <tr>\n",
              "      <th>1</th>\n",
              "      <td>0.000000</td>\n",
              "      <td>0.006369</td>\n",
              "      <td>0.993631</td>\n",
              "      <td>0.991945</td>\n",
              "      <td>0.497576</td>\n",
              "    </tr>\n",
              "    <tr>\n",
              "      <th>2</th>\n",
              "      <td>0.000000</td>\n",
              "      <td>0.235669</td>\n",
              "      <td>0.764331</td>\n",
              "      <td>0.889304</td>\n",
              "      <td>0.446007</td>\n",
              "    </tr>\n",
              "    <tr>\n",
              "      <th>3</th>\n",
              "      <td>0.006135</td>\n",
              "      <td>0.235669</td>\n",
              "      <td>0.764356</td>\n",
              "      <td>0.882706</td>\n",
              "      <td>0.442692</td>\n",
              "    </tr>\n",
              "    <tr>\n",
              "      <th>4</th>\n",
              "      <td>0.006135</td>\n",
              "      <td>0.248408</td>\n",
              "      <td>0.751617</td>\n",
              "      <td>0.875803</td>\n",
              "      <td>0.439224</td>\n",
              "    </tr>\n",
              "    <tr>\n",
              "      <th>5</th>\n",
              "      <td>0.012270</td>\n",
              "      <td>0.248408</td>\n",
              "      <td>0.751693</td>\n",
              "      <td>0.872651</td>\n",
              "      <td>0.437640</td>\n",
              "    </tr>\n",
              "    <tr>\n",
              "      <th>6</th>\n",
              "      <td>0.012270</td>\n",
              "      <td>0.337580</td>\n",
              "      <td>0.662534</td>\n",
              "      <td>0.853989</td>\n",
              "      <td>0.428264</td>\n",
              "    </tr>\n",
              "    <tr>\n",
              "      <th>7</th>\n",
              "      <td>0.018405</td>\n",
              "      <td>0.337580</td>\n",
              "      <td>0.662676</td>\n",
              "      <td>0.852468</td>\n",
              "      <td>0.427500</td>\n",
              "    </tr>\n",
              "    <tr>\n",
              "      <th>8</th>\n",
              "      <td>0.018405</td>\n",
              "      <td>0.503185</td>\n",
              "      <td>0.497156</td>\n",
              "      <td>0.789886</td>\n",
              "      <td>0.396057</td>\n",
              "    </tr>\n",
              "    <tr>\n",
              "      <th>9</th>\n",
              "      <td>0.024540</td>\n",
              "      <td>0.503185</td>\n",
              "      <td>0.497421</td>\n",
              "      <td>0.788167</td>\n",
              "      <td>0.395194</td>\n",
              "    </tr>\n",
              "    <tr>\n",
              "      <th>10</th>\n",
              "      <td>0.024540</td>\n",
              "      <td>0.656051</td>\n",
              "      <td>0.344823</td>\n",
              "      <td>0.715608</td>\n",
              "      <td>0.358738</td>\n",
              "    </tr>\n",
              "    <tr>\n",
              "      <th>11</th>\n",
              "      <td>0.030675</td>\n",
              "      <td>0.656051</td>\n",
              "      <td>0.345314</td>\n",
              "      <td>0.712199</td>\n",
              "      <td>0.357026</td>\n",
              "    </tr>\n",
              "    <tr>\n",
              "      <th>12</th>\n",
              "      <td>0.030675</td>\n",
              "      <td>0.700637</td>\n",
              "      <td>0.300931</td>\n",
              "      <td>0.685114</td>\n",
              "      <td>0.343417</td>\n",
              "    </tr>\n",
              "    <tr>\n",
              "      <th>13</th>\n",
              "      <td>0.036810</td>\n",
              "      <td>0.700637</td>\n",
              "      <td>0.301618</td>\n",
              "      <td>0.682994</td>\n",
              "      <td>0.342352</td>\n",
              "    </tr>\n",
              "    <tr>\n",
              "      <th>14</th>\n",
              "      <td>0.036810</td>\n",
              "      <td>0.719745</td>\n",
              "      <td>0.282662</td>\n",
              "      <td>0.668721</td>\n",
              "      <td>0.335181</td>\n",
              "    </tr>\n",
              "    <tr>\n",
              "      <th>15</th>\n",
              "      <td>0.042945</td>\n",
              "      <td>0.719745</td>\n",
              "      <td>0.283526</td>\n",
              "      <td>0.667096</td>\n",
              "      <td>0.334364</td>\n",
              "    </tr>\n",
              "    <tr>\n",
              "      <th>16</th>\n",
              "      <td>0.042945</td>\n",
              "      <td>0.751592</td>\n",
              "      <td>0.252092</td>\n",
              "      <td>0.622936</td>\n",
              "      <td>0.312178</td>\n",
              "    </tr>\n",
              "    <tr>\n",
              "      <th>17</th>\n",
              "      <td>0.049080</td>\n",
              "      <td>0.751592</td>\n",
              "      <td>0.253210</td>\n",
              "      <td>0.619245</td>\n",
              "      <td>0.310323</td>\n",
              "    </tr>\n",
              "    <tr>\n",
              "      <th>18</th>\n",
              "      <td>0.049080</td>\n",
              "      <td>0.757962</td>\n",
              "      <td>0.246964</td>\n",
              "      <td>0.606821</td>\n",
              "      <td>0.304081</td>\n",
              "    </tr>\n",
              "    <tr>\n",
              "      <th>19</th>\n",
              "      <td>0.055215</td>\n",
              "      <td>0.757962</td>\n",
              "      <td>0.248256</td>\n",
              "      <td>0.604703</td>\n",
              "      <td>0.303017</td>\n",
              "    </tr>\n",
              "    <tr>\n",
              "      <th>20</th>\n",
              "      <td>0.055215</td>\n",
              "      <td>0.789809</td>\n",
              "      <td>0.217322</td>\n",
              "      <td>0.595756</td>\n",
              "      <td>0.298522</td>\n",
              "    </tr>\n",
              "    <tr>\n",
              "      <th>21</th>\n",
              "      <td>0.061350</td>\n",
              "      <td>0.789809</td>\n",
              "      <td>0.218961</td>\n",
              "      <td>0.592379</td>\n",
              "      <td>0.296825</td>\n",
              "    </tr>\n",
              "    <tr>\n",
              "      <th>22</th>\n",
              "      <td>0.061350</td>\n",
              "      <td>0.821656</td>\n",
              "      <td>0.188601</td>\n",
              "      <td>0.577624</td>\n",
              "      <td>0.289412</td>\n",
              "    </tr>\n",
              "    <tr>\n",
              "      <th>23</th>\n",
              "      <td>0.067485</td>\n",
              "      <td>0.821656</td>\n",
              "      <td>0.190685</td>\n",
              "      <td>0.571118</td>\n",
              "      <td>0.286143</td>\n",
              "    </tr>\n",
              "    <tr>\n",
              "      <th>24</th>\n",
              "      <td>0.067485</td>\n",
              "      <td>0.840764</td>\n",
              "      <td>0.172946</td>\n",
              "      <td>0.563865</td>\n",
              "      <td>0.282499</td>\n",
              "    </tr>\n",
              "    <tr>\n",
              "      <th>25</th>\n",
              "      <td>0.085890</td>\n",
              "      <td>0.840764</td>\n",
              "      <td>0.180923</td>\n",
              "      <td>0.551527</td>\n",
              "      <td>0.276300</td>\n",
              "    </tr>\n",
              "    <tr>\n",
              "      <th>26</th>\n",
              "      <td>0.085890</td>\n",
              "      <td>0.853503</td>\n",
              "      <td>0.169819</td>\n",
              "      <td>0.546784</td>\n",
              "      <td>0.273917</td>\n",
              "    </tr>\n",
              "    <tr>\n",
              "      <th>27</th>\n",
              "      <td>0.092025</td>\n",
              "      <td>0.853503</td>\n",
              "      <td>0.173002</td>\n",
              "      <td>0.536716</td>\n",
              "      <td>0.268859</td>\n",
              "    </tr>\n",
              "    <tr>\n",
              "      <th>28</th>\n",
              "      <td>0.092025</td>\n",
              "      <td>0.859873</td>\n",
              "      <td>0.167643</td>\n",
              "      <td>0.536158</td>\n",
              "      <td>0.268578</td>\n",
              "    </tr>\n",
              "    <tr>\n",
              "      <th>29</th>\n",
              "      <td>0.110429</td>\n",
              "      <td>0.859873</td>\n",
              "      <td>0.178411</td>\n",
              "      <td>0.524788</td>\n",
              "      <td>0.262866</td>\n",
              "    </tr>\n",
              "    <tr>\n",
              "      <th>30</th>\n",
              "      <td>0.110429</td>\n",
              "      <td>0.872611</td>\n",
              "      <td>0.168590</td>\n",
              "      <td>0.517283</td>\n",
              "      <td>0.259095</td>\n",
              "    </tr>\n",
              "    <tr>\n",
              "      <th>31</th>\n",
              "      <td>0.122699</td>\n",
              "      <td>0.872611</td>\n",
              "      <td>0.176870</td>\n",
              "      <td>0.504088</td>\n",
              "      <td>0.252465</td>\n",
              "    </tr>\n",
              "    <tr>\n",
              "      <th>32</th>\n",
              "      <td>0.122699</td>\n",
              "      <td>0.891720</td>\n",
              "      <td>0.163645</td>\n",
              "      <td>0.491939</td>\n",
              "      <td>0.246362</td>\n",
              "    </tr>\n",
              "    <tr>\n",
              "      <th>33</th>\n",
              "      <td>0.128834</td>\n",
              "      <td>0.891720</td>\n",
              "      <td>0.168294</td>\n",
              "      <td>0.491397</td>\n",
              "      <td>0.246089</td>\n",
              "    </tr>\n",
              "    <tr>\n",
              "      <th>34</th>\n",
              "      <td>0.128834</td>\n",
              "      <td>0.898089</td>\n",
              "      <td>0.164268</td>\n",
              "      <td>0.489598</td>\n",
              "      <td>0.245185</td>\n",
              "    </tr>\n",
              "    <tr>\n",
              "      <th>35</th>\n",
              "      <td>0.159509</td>\n",
              "      <td>0.898089</td>\n",
              "      <td>0.189286</td>\n",
              "      <td>0.469173</td>\n",
              "      <td>0.234923</td>\n",
              "    </tr>\n",
              "    <tr>\n",
              "      <th>36</th>\n",
              "      <td>0.159509</td>\n",
              "      <td>0.910828</td>\n",
              "      <td>0.182743</td>\n",
              "      <td>0.460545</td>\n",
              "      <td>0.230589</td>\n",
              "    </tr>\n",
              "    <tr>\n",
              "      <th>37</th>\n",
              "      <td>0.165644</td>\n",
              "      <td>0.910828</td>\n",
              "      <td>0.188121</td>\n",
              "      <td>0.458771</td>\n",
              "      <td>0.229698</td>\n",
              "    </tr>\n",
              "    <tr>\n",
              "      <th>38</th>\n",
              "      <td>0.165644</td>\n",
              "      <td>0.917197</td>\n",
              "      <td>0.185187</td>\n",
              "      <td>0.455497</td>\n",
              "      <td>0.228052</td>\n",
              "    </tr>\n",
              "    <tr>\n",
              "      <th>39</th>\n",
              "      <td>0.196319</td>\n",
              "      <td>0.917197</td>\n",
              "      <td>0.213067</td>\n",
              "      <td>0.445233</td>\n",
              "      <td>0.222896</td>\n",
              "    </tr>\n",
              "    <tr>\n",
              "      <th>40</th>\n",
              "      <td>0.196319</td>\n",
              "      <td>0.936306</td>\n",
              "      <td>0.206393</td>\n",
              "      <td>0.431296</td>\n",
              "      <td>0.215893</td>\n",
              "    </tr>\n",
              "    <tr>\n",
              "      <th>41</th>\n",
              "      <td>0.220859</td>\n",
              "      <td>0.936306</td>\n",
              "      <td>0.229860</td>\n",
              "      <td>0.411591</td>\n",
              "      <td>0.205993</td>\n",
              "    </tr>\n",
              "    <tr>\n",
              "      <th>42</th>\n",
              "      <td>0.220859</td>\n",
              "      <td>0.942675</td>\n",
              "      <td>0.228177</td>\n",
              "      <td>0.410712</td>\n",
              "      <td>0.205551</td>\n",
              "    </tr>\n",
              "    <tr>\n",
              "      <th>43</th>\n",
              "      <td>0.233129</td>\n",
              "      <td>0.942675</td>\n",
              "      <td>0.240073</td>\n",
              "      <td>0.404282</td>\n",
              "      <td>0.202321</td>\n",
              "    </tr>\n",
              "    <tr>\n",
              "      <th>44</th>\n",
              "      <td>0.233129</td>\n",
              "      <td>0.949045</td>\n",
              "      <td>0.238633</td>\n",
              "      <td>0.403090</td>\n",
              "      <td>0.201722</td>\n",
              "    </tr>\n",
              "    <tr>\n",
              "      <th>45</th>\n",
              "      <td>0.257669</td>\n",
              "      <td>0.949045</td>\n",
              "      <td>0.262659</td>\n",
              "      <td>0.380837</td>\n",
              "      <td>0.190542</td>\n",
              "    </tr>\n",
              "    <tr>\n",
              "      <th>46</th>\n",
              "      <td>0.257669</td>\n",
              "      <td>0.961783</td>\n",
              "      <td>0.260487</td>\n",
              "      <td>0.377709</td>\n",
              "      <td>0.188970</td>\n",
              "    </tr>\n",
              "    <tr>\n",
              "      <th>47</th>\n",
              "      <td>0.263804</td>\n",
              "      <td>0.961783</td>\n",
              "      <td>0.266557</td>\n",
              "      <td>0.376367</td>\n",
              "      <td>0.188295</td>\n",
              "    </tr>\n",
              "    <tr>\n",
              "      <th>48</th>\n",
              "      <td>0.263804</td>\n",
              "      <td>0.968153</td>\n",
              "      <td>0.265719</td>\n",
              "      <td>0.371087</td>\n",
              "      <td>0.185643</td>\n",
              "    </tr>\n",
              "    <tr>\n",
              "      <th>49</th>\n",
              "      <td>0.300613</td>\n",
              "      <td>0.968153</td>\n",
              "      <td>0.302296</td>\n",
              "      <td>0.332172</td>\n",
              "      <td>0.166091</td>\n",
              "    </tr>\n",
              "    <tr>\n",
              "      <th>50</th>\n",
              "      <td>0.300613</td>\n",
              "      <td>0.974522</td>\n",
              "      <td>0.301691</td>\n",
              "      <td>0.329981</td>\n",
              "      <td>0.164990</td>\n",
              "    </tr>\n",
              "    <tr>\n",
              "      <th>51</th>\n",
              "      <td>0.306748</td>\n",
              "      <td>0.974522</td>\n",
              "      <td>0.307805</td>\n",
              "      <td>0.316472</td>\n",
              "      <td>0.158203</td>\n",
              "    </tr>\n",
              "    <tr>\n",
              "      <th>52</th>\n",
              "      <td>0.306748</td>\n",
              "      <td>0.987261</td>\n",
              "      <td>0.307013</td>\n",
              "      <td>0.312306</td>\n",
              "      <td>0.156110</td>\n",
              "    </tr>\n",
              "    <tr>\n",
              "      <th>53</th>\n",
              "      <td>0.435583</td>\n",
              "      <td>0.987261</td>\n",
              "      <td>0.435769</td>\n",
              "      <td>0.240516</td>\n",
              "      <td>0.120041</td>\n",
              "    </tr>\n",
              "    <tr>\n",
              "      <th>54</th>\n",
              "      <td>0.435583</td>\n",
              "      <td>0.993631</td>\n",
              "      <td>0.435629</td>\n",
              "      <td>0.240126</td>\n",
              "      <td>0.119845</td>\n",
              "    </tr>\n",
              "    <tr>\n",
              "      <th>55</th>\n",
              "      <td>0.460123</td>\n",
              "      <td>0.993631</td>\n",
              "      <td>0.460167</td>\n",
              "      <td>0.220370</td>\n",
              "      <td>0.109919</td>\n",
              "    </tr>\n",
              "    <tr>\n",
              "      <th>56</th>\n",
              "      <td>0.460123</td>\n",
              "      <td>1.000000</td>\n",
              "      <td>0.460123</td>\n",
              "      <td>0.217037</td>\n",
              "      <td>0.108244</td>\n",
              "    </tr>\n",
              "    <tr>\n",
              "      <th>57</th>\n",
              "      <td>1.000000</td>\n",
              "      <td>1.000000</td>\n",
              "      <td>1.000000</td>\n",
              "      <td>0.001592</td>\n",
              "      <td>0.000000</td>\n",
              "    </tr>\n",
              "  </tbody>\n",
              "</table>\n",
              "</div>"
            ],
            "text/plain": [
              "         fpr       tpr  d_optimo  thresholds  umbral_decisión\n",
              "0   0.000000  0.000000  1.000000    1.991945         1.000000\n",
              "1   0.000000  0.006369  0.993631    0.991945         0.497576\n",
              "2   0.000000  0.235669  0.764331    0.889304         0.446007\n",
              "3   0.006135  0.235669  0.764356    0.882706         0.442692\n",
              "4   0.006135  0.248408  0.751617    0.875803         0.439224\n",
              "5   0.012270  0.248408  0.751693    0.872651         0.437640\n",
              "6   0.012270  0.337580  0.662534    0.853989         0.428264\n",
              "7   0.018405  0.337580  0.662676    0.852468         0.427500\n",
              "8   0.018405  0.503185  0.497156    0.789886         0.396057\n",
              "9   0.024540  0.503185  0.497421    0.788167         0.395194\n",
              "10  0.024540  0.656051  0.344823    0.715608         0.358738\n",
              "11  0.030675  0.656051  0.345314    0.712199         0.357026\n",
              "12  0.030675  0.700637  0.300931    0.685114         0.343417\n",
              "13  0.036810  0.700637  0.301618    0.682994         0.342352\n",
              "14  0.036810  0.719745  0.282662    0.668721         0.335181\n",
              "15  0.042945  0.719745  0.283526    0.667096         0.334364\n",
              "16  0.042945  0.751592  0.252092    0.622936         0.312178\n",
              "17  0.049080  0.751592  0.253210    0.619245         0.310323\n",
              "18  0.049080  0.757962  0.246964    0.606821         0.304081\n",
              "19  0.055215  0.757962  0.248256    0.604703         0.303017\n",
              "20  0.055215  0.789809  0.217322    0.595756         0.298522\n",
              "21  0.061350  0.789809  0.218961    0.592379         0.296825\n",
              "22  0.061350  0.821656  0.188601    0.577624         0.289412\n",
              "23  0.067485  0.821656  0.190685    0.571118         0.286143\n",
              "24  0.067485  0.840764  0.172946    0.563865         0.282499\n",
              "25  0.085890  0.840764  0.180923    0.551527         0.276300\n",
              "26  0.085890  0.853503  0.169819    0.546784         0.273917\n",
              "27  0.092025  0.853503  0.173002    0.536716         0.268859\n",
              "28  0.092025  0.859873  0.167643    0.536158         0.268578\n",
              "29  0.110429  0.859873  0.178411    0.524788         0.262866\n",
              "30  0.110429  0.872611  0.168590    0.517283         0.259095\n",
              "31  0.122699  0.872611  0.176870    0.504088         0.252465\n",
              "32  0.122699  0.891720  0.163645    0.491939         0.246362\n",
              "33  0.128834  0.891720  0.168294    0.491397         0.246089\n",
              "34  0.128834  0.898089  0.164268    0.489598         0.245185\n",
              "35  0.159509  0.898089  0.189286    0.469173         0.234923\n",
              "36  0.159509  0.910828  0.182743    0.460545         0.230589\n",
              "37  0.165644  0.910828  0.188121    0.458771         0.229698\n",
              "38  0.165644  0.917197  0.185187    0.455497         0.228052\n",
              "39  0.196319  0.917197  0.213067    0.445233         0.222896\n",
              "40  0.196319  0.936306  0.206393    0.431296         0.215893\n",
              "41  0.220859  0.936306  0.229860    0.411591         0.205993\n",
              "42  0.220859  0.942675  0.228177    0.410712         0.205551\n",
              "43  0.233129  0.942675  0.240073    0.404282         0.202321\n",
              "44  0.233129  0.949045  0.238633    0.403090         0.201722\n",
              "45  0.257669  0.949045  0.262659    0.380837         0.190542\n",
              "46  0.257669  0.961783  0.260487    0.377709         0.188970\n",
              "47  0.263804  0.961783  0.266557    0.376367         0.188295\n",
              "48  0.263804  0.968153  0.265719    0.371087         0.185643\n",
              "49  0.300613  0.968153  0.302296    0.332172         0.166091\n",
              "50  0.300613  0.974522  0.301691    0.329981         0.164990\n",
              "51  0.306748  0.974522  0.307805    0.316472         0.158203\n",
              "52  0.306748  0.987261  0.307013    0.312306         0.156110\n",
              "53  0.435583  0.987261  0.435769    0.240516         0.120041\n",
              "54  0.435583  0.993631  0.435629    0.240126         0.119845\n",
              "55  0.460123  0.993631  0.460167    0.220370         0.109919\n",
              "56  0.460123  1.000000  0.460123    0.217037         0.108244\n",
              "57  1.000000  1.000000  1.000000    0.001592         0.000000"
            ]
          },
          "execution_count": 54,
          "metadata": {},
          "output_type": "execute_result"
        }
      ],
      "source": [
        "clf = clasificador_ridge\n",
        "y_test_score = clf.predict_proba(X_test)[:, 1]\n",
        "fpr, tpr, thresholds = roc_curve( ytest_bin, y_test_score)\n",
        "\n",
        "from sklearn.preprocessing import MinMaxScaler\n",
        "umbral_decisión = (MinMaxScaler().fit_transform(thresholds.reshape(-1,1)))[:,0]\n",
        "\n",
        "\n",
        "i = np.arange(len(tpr)) # index for df\n",
        "roc = pd.DataFrame({'fpr' : pd.Series(fpr, index=i),\n",
        "                    'tpr' : pd.Series(tpr, index = i), \n",
        "                    'd_optimo': pd.Series(np.sqrt((fpr)**2+(1-tpr)**2), index=i),\n",
        "                    'thresholds' : pd.Series(thresholds, index = i),\n",
        "                    'umbral_decisión': pd.Series(umbral_decisión, index=i)})\n",
        "roc"
      ]
    },
    {
      "cell_type": "code",
      "execution_count": null,
      "metadata": {
        "id": "T0XaTUtuyp8H"
      },
      "outputs": [],
      "source": [
        "roc_ = roc.loc[1:56,:] # quitamos el primer y último renglón.\n"
      ]
    },
    {
      "cell_type": "code",
      "execution_count": null,
      "metadata": {
        "colab": {
          "base_uri": "https://localhost:8080/",
          "height": 81
        },
        "id": "0cwNr7S-yOkq",
        "outputId": "5266bbb8-b06a-4ae7-bb92-a8e6b4e33425"
      },
      "outputs": [
        {
          "data": {
            "text/html": [
              "<div>\n",
              "<style scoped>\n",
              "    .dataframe tbody tr th:only-of-type {\n",
              "        vertical-align: middle;\n",
              "    }\n",
              "\n",
              "    .dataframe tbody tr th {\n",
              "        vertical-align: top;\n",
              "    }\n",
              "\n",
              "    .dataframe thead th {\n",
              "        text-align: right;\n",
              "    }\n",
              "</style>\n",
              "<table border=\"1\" class=\"dataframe\">\n",
              "  <thead>\n",
              "    <tr style=\"text-align: right;\">\n",
              "      <th></th>\n",
              "      <th>fpr</th>\n",
              "      <th>tpr</th>\n",
              "      <th>d_optimo</th>\n",
              "      <th>thresholds</th>\n",
              "      <th>umbral_decisión</th>\n",
              "    </tr>\n",
              "  </thead>\n",
              "  <tbody>\n",
              "    <tr>\n",
              "      <th>32</th>\n",
              "      <td>0.122699</td>\n",
              "      <td>0.89172</td>\n",
              "      <td>0.163645</td>\n",
              "      <td>0.491939</td>\n",
              "      <td>0.246362</td>\n",
              "    </tr>\n",
              "  </tbody>\n",
              "</table>\n",
              "</div>"
            ],
            "text/plain": [
              "         fpr      tpr  d_optimo  thresholds  umbral_decisión\n",
              "32  0.122699  0.89172  0.163645    0.491939         0.246362"
            ]
          },
          "execution_count": 56,
          "metadata": {},
          "output_type": "execute_result"
        }
      ],
      "source": [
        "roc_[roc_['d_optimo']==roc_['d_optimo'].min()]"
      ]
    },
    {
      "cell_type": "code",
      "execution_count": null,
      "metadata": {
        "colab": {
          "base_uri": "https://localhost:8080/",
          "height": 295
        },
        "id": "pzREzN0y6Z2z",
        "outputId": "74d14f7c-a813-44a0-afd0-4315de5a4d89"
      },
      "outputs": [
        {
          "data": {
            "image/png": "[encoded data removed]",
            "text/plain": [
              "<Figure size 432x288 with 1 Axes>"
            ]
          },
          "metadata": {
            "needs_background": "light"
          },
          "output_type": "display_data"
        }
      ],
      "source": [
        "grafica_roc(clasificador_ridge, ytest_bin)"
      ]
    },
    {
      "cell_type": "markdown",
      "metadata": {
        "id": "dQ3B-GCGxpHC"
      },
      "source": [
        "# Magnitud de los coeficientes para ambos modelos"
      ]
    },
    {
      "cell_type": "code",
      "execution_count": null,
      "metadata": {
        "colab": {
          "base_uri": "https://localhost:8080/"
        },
        "id": "d3ZeuuHhBzKa",
        "outputId": "e2137239-1acf-41c3-8395-d6cd2a17c990"
      },
      "outputs": [
        {
          "data": {
            "text/plain": [
              "(3616,)"
            ]
          },
          "execution_count": 58,
          "metadata": {},
          "output_type": "execute_result"
        }
      ],
      "source": [
        "clasificador_rl.coef_[0].shape"
      ]
    },
    {
      "cell_type": "code",
      "execution_count": null,
      "metadata": {
        "colab": {
          "base_uri": "https://localhost:8080/"
        },
        "id": "iQ_ummtE2JUP",
        "outputId": "6b91b698-9848-4b62-96de-2d87d142fdcb"
      },
      "outputs": [
        {
          "data": {
            "text/plain": [
              "floor         37.788578\n",
              "street        36.411060\n",
              "locat         34.536465\n",
              "small         31.756317\n",
              "elev          31.142357\n",
              "                ...    \n",
              "definit      -27.971250\n",
              "relax        -28.005217\n",
              "millennium   -30.007903\n",
              "luxuri       -40.155852\n",
              "chicago      -60.849421\n",
              "Name: Sin regularización, Length: 3616, dtype: float64"
            ]
          },
          "execution_count": 59,
          "metadata": {},
          "output_type": "execute_result"
        }
      ],
      "source": [
        "coeficientes_rl = pd.Series(clasificador_rl.coef_[0], \n",
        "                            index=palabras,\n",
        "                            name='Sin regularización').sort_values(ascending=False)\n",
        "coeficientes_rl"
      ]
    },
    {
      "cell_type": "code",
      "execution_count": null,
      "metadata": {
        "colab": {
          "base_uri": "https://localhost:8080/"
        },
        "id": "czfi9bfECAVd",
        "outputId": "5c9ce1bf-aa28-4e0d-d1f2-6ce96aa0bdec"
      },
      "outputs": [
        {
          "data": {
            "text/plain": [
              "(-60.84942108020115, 37.78857845221105)"
            ]
          },
          "execution_count": 60,
          "metadata": {},
          "output_type": "execute_result"
        }
      ],
      "source": [
        "coeficientes_rl.min(), coeficientes_rl.max()"
      ]
    },
    {
      "cell_type": "code",
      "execution_count": null,
      "metadata": {
        "colab": {
          "base_uri": "https://localhost:8080/"
        },
        "id": "hMX2eqC3q1m1",
        "outputId": "5de219a1-2fea-40bd-e504-eece19bfa4d9"
      },
      "outputs": [
        {
          "data": {
            "text/plain": [
              "locat      3.669680\n",
              "floor      3.626754\n",
              "elev       3.157466\n",
              "small      3.080319\n",
              "street     2.926056\n",
              "             ...   \n",
              "seem      -2.784388\n",
              "relax     -2.809551\n",
              "experi    -3.038623\n",
              "luxuri    -4.518904\n",
              "chicago   -6.871216\n",
              "Name: Ridge, Length: 3616, dtype: float64"
            ]
          },
          "execution_count": 61,
          "metadata": {},
          "output_type": "execute_result"
        }
      ],
      "source": [
        "coeficientes_ridge = pd.Series(clasificador_ridge.coef_[0],\n",
        "                               index=palabras,\n",
        "                               name='Ridge').sort_values(ascending=False)\n",
        "coeficientes_ridge"
      ]
    },
    {
      "cell_type": "code",
      "execution_count": null,
      "metadata": {
        "colab": {
          "base_uri": "https://localhost:8080/"
        },
        "id": "AXYHB7_ZCG_h",
        "outputId": "8adedb4e-e590-4c23-e550-03b9f9364ff4"
      },
      "outputs": [
        {
          "data": {
            "text/plain": [
              "(-6.871216107264637, 3.6696803674016785)"
            ]
          },
          "execution_count": 62,
          "metadata": {},
          "output_type": "execute_result"
        }
      ],
      "source": [
        "                              \n",
        "coeficientes_ridge.min(), coeficientes_ridge.max()"
      ]
    },
    {
      "cell_type": "code",
      "execution_count": null,
      "metadata": {
        "colab": {
          "base_uri": "https://localhost:8080/",
          "height": 0
        },
        "id": "8H0jiEPwrAWw",
        "outputId": "4608f4de-7084-4cb8-d678-755f5ff89d4f"
      },
      "outputs": [
        {
          "data": {
            "text/html": [
              "<div>\n",
              "<style scoped>\n",
              "    .dataframe tbody tr th:only-of-type {\n",
              "        vertical-align: middle;\n",
              "    }\n",
              "\n",
              "    .dataframe tbody tr th {\n",
              "        vertical-align: top;\n",
              "    }\n",
              "\n",
              "    .dataframe thead th {\n",
              "        text-align: right;\n",
              "    }\n",
              "</style>\n",
              "<table border=\"1\" class=\"dataframe\">\n",
              "  <thead>\n",
              "    <tr style=\"text-align: right;\">\n",
              "      <th></th>\n",
              "      <th>Sin regularización</th>\n",
              "      <th>Ridge</th>\n",
              "    </tr>\n",
              "  </thead>\n",
              "  <tbody>\n",
              "    <tr>\n",
              "      <th>floor</th>\n",
              "      <td>37.788578</td>\n",
              "      <td>3.626754</td>\n",
              "    </tr>\n",
              "    <tr>\n",
              "      <th>street</th>\n",
              "      <td>36.411060</td>\n",
              "      <td>2.926056</td>\n",
              "    </tr>\n",
              "    <tr>\n",
              "      <th>locat</th>\n",
              "      <td>34.536465</td>\n",
              "      <td>3.669680</td>\n",
              "    </tr>\n",
              "    <tr>\n",
              "      <th>small</th>\n",
              "      <td>31.756317</td>\n",
              "      <td>3.080319</td>\n",
              "    </tr>\n",
              "    <tr>\n",
              "      <th>elev</th>\n",
              "      <td>31.142357</td>\n",
              "      <td>3.157466</td>\n",
              "    </tr>\n",
              "    <tr>\n",
              "      <th>...</th>\n",
              "      <td>...</td>\n",
              "      <td>...</td>\n",
              "    </tr>\n",
              "    <tr>\n",
              "      <th>definit</th>\n",
              "      <td>-27.971250</td>\n",
              "      <td>-2.642085</td>\n",
              "    </tr>\n",
              "    <tr>\n",
              "      <th>relax</th>\n",
              "      <td>-28.005217</td>\n",
              "      <td>-2.809551</td>\n",
              "    </tr>\n",
              "    <tr>\n",
              "      <th>millennium</th>\n",
              "      <td>-30.007903</td>\n",
              "      <td>-2.757804</td>\n",
              "    </tr>\n",
              "    <tr>\n",
              "      <th>luxuri</th>\n",
              "      <td>-40.155852</td>\n",
              "      <td>-4.518904</td>\n",
              "    </tr>\n",
              "    <tr>\n",
              "      <th>chicago</th>\n",
              "      <td>-60.849421</td>\n",
              "      <td>-6.871216</td>\n",
              "    </tr>\n",
              "  </tbody>\n",
              "</table>\n",
              "<p>3616 rows × 2 columns</p>\n",
              "</div>"
            ],
            "text/plain": [
              "            Sin regularización     Ridge\n",
              "floor                37.788578  3.626754\n",
              "street               36.411060  2.926056\n",
              "locat                34.536465  3.669680\n",
              "small                31.756317  3.080319\n",
              "elev                 31.142357  3.157466\n",
              "...                        ...       ...\n",
              "definit             -27.971250 -2.642085\n",
              "relax               -28.005217 -2.809551\n",
              "millennium          -30.007903 -2.757804\n",
              "luxuri              -40.155852 -4.518904\n",
              "chicago             -60.849421 -6.871216\n",
              "\n",
              "[3616 rows x 2 columns]"
            ]
          },
          "execution_count": 63,
          "metadata": {},
          "output_type": "execute_result"
        }
      ],
      "source": [
        "# Observa las magnitudes de los coeficientes del modelo\n",
        "#  sin y con regularización Ridge\n",
        "coef = pd.concat([coeficientes_rl,coeficientes_ridge], axis=1)\n",
        "coef"
      ]
    },
    {
      "cell_type": "code",
      "execution_count": null,
      "metadata": {
        "colab": {
          "base_uri": "https://localhost:8080/",
          "height": 0
        },
        "id": "jaUPvSnC8twR",
        "outputId": "9e3fc5ef-909a-429d-fc2c-58f2120fcb07"
      },
      "outputs": [
        {
          "data": {
            "text/html": [
              "<div>\n",
              "<style scoped>\n",
              "    .dataframe tbody tr th:only-of-type {\n",
              "        vertical-align: middle;\n",
              "    }\n",
              "\n",
              "    .dataframe tbody tr th {\n",
              "        vertical-align: top;\n",
              "    }\n",
              "\n",
              "    .dataframe thead th {\n",
              "        text-align: right;\n",
              "    }\n",
              "</style>\n",
              "<table border=\"1\" class=\"dataframe\">\n",
              "  <thead>\n",
              "    <tr style=\"text-align: right;\">\n",
              "      <th></th>\n",
              "      <th>Sin regularización</th>\n",
              "      <th>Ridge</th>\n",
              "    </tr>\n",
              "  </thead>\n",
              "  <tbody>\n",
              "    <tr>\n",
              "      <th>chicago</th>\n",
              "      <td>3.744831e-27</td>\n",
              "      <td>0.001037</td>\n",
              "    </tr>\n",
              "    <tr>\n",
              "      <th>luxuri</th>\n",
              "      <td>3.635255e-18</td>\n",
              "      <td>0.010901</td>\n",
              "    </tr>\n",
              "    <tr>\n",
              "      <th>experi</th>\n",
              "      <td>2.532581e-12</td>\n",
              "      <td>0.047901</td>\n",
              "    </tr>\n",
              "    <tr>\n",
              "      <th>relax</th>\n",
              "      <td>6.878422e-13</td>\n",
              "      <td>0.060232</td>\n",
              "    </tr>\n",
              "    <tr>\n",
              "      <th>seem</th>\n",
              "      <td>5.940883e-12</td>\n",
              "      <td>0.061767</td>\n",
              "    </tr>\n",
              "    <tr>\n",
              "      <th>...</th>\n",
              "      <td>...</td>\n",
              "      <td>...</td>\n",
              "    </tr>\n",
              "    <tr>\n",
              "      <th>street</th>\n",
              "      <td>6.503131e+15</td>\n",
              "      <td>18.653922</td>\n",
              "    </tr>\n",
              "    <tr>\n",
              "      <th>small</th>\n",
              "      <td>6.188611e+13</td>\n",
              "      <td>21.765346</td>\n",
              "    </tr>\n",
              "    <tr>\n",
              "      <th>elev</th>\n",
              "      <td>3.349299e+13</td>\n",
              "      <td>23.510940</td>\n",
              "    </tr>\n",
              "    <tr>\n",
              "      <th>floor</th>\n",
              "      <td>2.578524e+16</td>\n",
              "      <td>37.590582</td>\n",
              "    </tr>\n",
              "    <tr>\n",
              "      <th>locat</th>\n",
              "      <td>9.976914e+14</td>\n",
              "      <td>39.239362</td>\n",
              "    </tr>\n",
              "  </tbody>\n",
              "</table>\n",
              "<p>3616 rows × 2 columns</p>\n",
              "</div>"
            ],
            "text/plain": [
              "         Sin regularización      Ridge\n",
              "chicago        3.744831e-27   0.001037\n",
              "luxuri         3.635255e-18   0.010901\n",
              "experi         2.532581e-12   0.047901\n",
              "relax          6.878422e-13   0.060232\n",
              "seem           5.940883e-12   0.061767\n",
              "...                     ...        ...\n",
              "street         6.503131e+15  18.653922\n",
              "small          6.188611e+13  21.765346\n",
              "elev           3.349299e+13  23.510940\n",
              "floor          2.578524e+16  37.590582\n",
              "locat          9.976914e+14  39.239362\n",
              "\n",
              "[3616 rows x 2 columns]"
            ]
          },
          "execution_count": 64,
          "metadata": {},
          "output_type": "execute_result"
        }
      ],
      "source": [
        "# importancia de las palabras para predecir que es falsa la reseña\n",
        "np.exp(coef).sort_values(by='Ridge')"
      ]
    },
    {
      "cell_type": "markdown",
      "metadata": {
        "id": "2M1trdPHu25a"
      },
      "source": [
        "# Recursos\n",
        "\n",
        "Para profundizar en grid_search_cv\n",
        "\n",
        "https://github.com/codebasics/py/blob/master/ML/15_gridsearch/15_grid_search.ipynb"
      ]
    }
  ],
  "metadata": {
    "colab": {
      "collapsed_sections": [],
      "include_colab_link": true,
      "name": "Clasificador_reseñas_Regresión_logística_.ipynb",
      "provenance": []
    },
    "kernelspec": {
      "display_name": "Python 3.10.5 64-bit",
      "language": "python",
      "name": "python3"
    },
    "language_info": {
      "codemirror_mode": {
        "name": "ipython",
        "version": 3
      },
      "file_extension": ".py",
      "mimetype": "text/x-python",
      "name": "python",
      "nbconvert_exporter": "python",
      "pygments_lexer": "ipython3",
      "version": "3.10.5"
    },
    "vscode": {
      "interpreter": {
        "hash": "de534543493c93dd74983ce351d5dc380ee4b042ff5b76a9a21948ad35ca9587"
      }
    }
  },
  "nbformat": 4,
  "nbformat_minor": 0
}
